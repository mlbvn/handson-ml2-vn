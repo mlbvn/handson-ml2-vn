{
 "cells": [
  {
   "cell_type": "markdown",
   "metadata": {},
   "source": [
    "# Jupyter Notebooks cho Học Máy\n",
    "\n",
    "*Chào mừng độc giả đang xem qua Jupyter Notebooks cho Học Máy!*\n",
    "\n",
    "<table align=\"left\">\n",
    "  <td>\n",
    "    <a href=\"https://colab.research.google.com/github/mlbvn/handson-ml2-vn/blob/main/index.ipynb\" target=\"_parent\"><img src=\"https://colab.research.google.com/assets/colab-badge.svg\" alt=\"Mở trên Colab\"/></a>\n",
    "  </td>\n",
    "  <td>\n",
    "    <a target=\"_blank\" href=\"hhttps://git.io/JnA16\"><img src=\"https://kaggle.com/static/images/open-in-kaggle.svg\" /></a>\n",
    "  </td>\n",
    "</table>"
   ]
  },
  {
   "cell_type": "markdown",
   "metadata": {},
   "source": [
    "## Những Jupyter Notebooks\n"
   ]
  },
  {
   "cell_type": "markdown",
   "metadata": {},
   "source": [
    "### Tập 1 - Nền tảng Kiến thức về Học Máy (Chuẩn bị Phát hành)\n",
    "1. [Toàn cảnh Học Máy](01_the_machine_learning_landscape.ipynb)\n",
    "2. [Dự án Học Máy từ Đầu tới Cuối](02_end_to_end_machine_learning_project.ipynb)\n",
    "3. [Bài toán Phân loại](03_classification.ipynb)\n",
    "4. [Huấn luyện Mô Hình](04_training_linear_models.ipynb)\n",
    "5. [Máy Vector Hỗ trợ](05_support_vector_machines.ipynb)\n",
    "6. [Cây Quyết định](06_decision_trees.ipynb)\n",
    "7. [Học Ensemble và Rừng Ngẫu nhiên](07_ensemble_learning_and_random_forests.ipynb)\n",
    "8. [Giảm Chiều](08_dimensionality_reduction.ipynb)\n",
    "9. [Các kỹ thuật Học Không giám sát](09_unsupervised_learning.ipynb)\n"
   ]
  },
  {
   "cell_type": "markdown",
   "metadata": {},
   "source": [
    "### Tập 2 - Mạng nơ-ron Nhân tạo & Học Sâu (Chưa Phát hành)\n",
    "10. [Giới thiệu về Mạng Nơ-ron Nhân tạo với Keras](10_neural_nets_with_keras.ipynb)\n",
    "11. [Huấn luyện các Mạng Nơ-ron Sâu](11_training_deep_neural_networks.ipynb)\n",
    "12. [Mô hình tùy chỉnh & Huấn luyện với TensorFlow](12_custom_models_and_training_with_tensorflow.ipynb)\n",
    "13. [Tải và Tiền xử lý Dữ liệu với TensorFlow](13_loading_and_preprocessing_data.ipynb)\n",
    "14. [Thị giác Máy tính Sâu sử dụng Mạng Nơ-ron Tích chập](14_deep_computer_vision_with_cnns.ipynb)\n",
    "15. [Xử lý Chuỗi sử dụng RNN và CNN](15_processing_sequences_using_rnns_and_cnns.ipynb)\n",
    "16. [Xử lý Ngôn ngữ Tự nhiên với RNN và Cơ chế Tập trung](16_nlp_with_rnns_and_attention.ipynb)\n",
    "17. [Học biểu diễn và Mạng Sinh sử dụng Bộ tự Mã hóa và GAN](17_autoencoders_and_gans.ipynb)\n",
    "18. [Học tăng cường](18_reinforcement_learning.ipynb)\n",
    "19. [Huấn luyện và Triển khai Mô hình TensorFlow ở Quy mô lớn](19_training_and_deploying_at_scale.ipynb)"
   ]
  },
  {
   "cell_type": "markdown",
   "metadata": {},
   "source": [
    "## Hướng dẫn Python cho Khoa học\n",
    "* [NumPy](tools_numpy.ipynb)\n",
    "* [Matplotlib](tools_matplotlib.ipynb)\n",
    "* [Pandas](tools_pandas.ipynb)"
   ]
  },
  {
   "cell_type": "markdown",
   "metadata": {},
   "source": [
    "## Hướng dẫn Toán học\n",
    "* [Đại số Tuyến tính](math_linear_algebra.ipynb)\n",
    "* [Tính toán Vi Phân](math_differential_calculus.ipynb)"
   ]
  },
  {
   "cell_type": "markdown",
   "metadata": {},
   "source": [
    "## Tài liệu Bổ sung\n",
    "* [Auto-differentiation](extra_autodiff.ipynb)"
   ]
  },
  {
   "attachments": {},
   "cell_type": "markdown",
   "metadata": {},
   "source": [
    "## Tài liệu khác\n",
    "* [Phương trình (Danh sách các phương trình có trong cuốn sách)](book_equation.ipynb)"
   ]
  },
  {
   "cell_type": "markdown",
   "metadata": {},
   "source": [
    "## Kiến thức cần có"
   ]
  },
  {
   "cell_type": "markdown",
   "metadata": {},
   "source": [
    "### Để hiểu\n",
    "* **Python** – bạn không cần phải là mọt lập trình viên Python chuyên nghiệp, nhưng bạn cần biết những kiến thức cơ bản. Nếu bạn chưa có những kiến thức này, [hướng dẫn Python chính thức](https://docs.python.org/3/tutorial/) là một tài liệu tốt để bạn bắt đầu.\n",
    "* **Python cho Khoa học** – Chúng tôi sẽ sử dụng một số thư viện Python phổ biến, cụ thể là NumPy, MatplotLib và Pandas. Nếu bạn không quen thuộc với các thư viện này, có lẽ bạn nên bắt đầu bằng cách xem qua các hướng dẫn trong phần Công cụ (đặc biệt là NumPy).\n",
    "* **Toán học** – Chúng tôi cũng sẽ sử dụng một số khái niệm trong Đại số Tuyến tính, Giải thích, Thống kê và Lý thuyết Xác suất. Bạn sẽ có thể theo dõi nếu bạn đã học trước đây vì nó sẽ không quá nâng cao, nhưng nếu bạn chưa biết về những điểm này hoặc cần học thêm thì hãy xem qua phần giới thiệu Toán học."
   ]
  },
  {
   "cell_type": "markdown",
   "metadata": {},
   "source": [
    "### Để thực hành\n",
    "* **Jupyter Notebook** – Bạn có thể chạy các Jupyter Notebook này chỉ bằng một cú nhấp chuột, bằng cách sử dụng các nền tảng lưu trữ như Google Colaboratory (không cần cài đặt), Deepnote, hoặc Binder. Hoặc bạn chỉ có thể xem chúng bằng trình xem của Jupyter.org, hoặc bạn có thể cài đặt mọi thứ trên máy của mình tùy thích. Hãy xem lại [trang chủ](https://github.com/mlbvn/handson-ml2-vn) để biết thêm chi tiết."
   ]
  }
 ],
 "metadata": {
  "kernelspec": {
   "display_name": "Python 3",
   "language": "python",
   "name": "python3"
  },
  "language_info": {
   "codemirror_mode": {
    "name": "ipython",
    "version": 3
   },
   "file_extension": ".py",
   "mimetype": "text/x-python",
   "name": "python",
   "nbconvert_exporter": "python",
   "pygments_lexer": "ipython3",
   "version": "3.7.10"
  },
  "nav_menu": {},
  "toc": {
   "navigate_menu": true,
   "number_sections": true,
   "sideBar": true,
   "threshold": 6,
   "toc_cell": false,
   "toc_section_display": "block",
   "toc_window_display": false
  }
 },
 "nbformat": 4,
 "nbformat_minor": 4
}
