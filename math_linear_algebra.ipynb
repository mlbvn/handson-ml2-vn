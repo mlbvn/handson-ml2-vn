{
 "cells": [
  {
   "cell_type": "markdown",
   "metadata": {},
   "source": [
    "**Math - Linear Algebra**\n",
    "\n",
    "*Linear Algebra is the branch of mathematics that studies [vector spaces](https://en.wikipedia.org/wiki/Vector_space) and linear transformations between vector spaces, such as rotating a shape, scaling it up or down, translating it (ie. moving it), etc.*\n",
    "\n",
    "*Machine Learning relies heavily on Linear Algebra, so it is essential to understand what vectors and matrices are, what operations you can perform with them, and how they can be useful.*"
   ]
  },
  {
   "cell_type": "markdown",
   "metadata": {},
   "source": [
    "<table align=\"left\">\n",
    "  <td>\n",
    "    <a href=\"https://colab.research.google.com/github/ageron/handson-ml2/blob/master/math_linear_algebra.ipynb\" target=\"_parent\"><img src=\"https://colab.research.google.com/assets/colab-badge.svg\" alt=\"Open In Colab\"/></a>\n",
    "  </td>\n",
    "  <td>\n",
    "    <a target=\"_blank\" href=\"https://kaggle.com/kernels/welcome?src=https://github.com/ageron/handson-ml2/blob/master/math_linear_algebra.ipynb\"><img src=\"https://kaggle.com/static/images/open-in-kaggle.svg\" /></a>\n",
    "  </td>\n",
    "</table>"
   ]
  },
  {
   "cell_type": "markdown",
   "metadata": {},
   "source": [
    "# Vectors\n",
    "## Definition\n",
    "A vector is a quantity defined by a magnitude and a direction. For example, a rocket's velocity is a 3-dimensional vector: its magnitude is the speed of the rocket, and its direction is (hopefully) up. A vector can be represented by an array of numbers called *scalars*. Each scalar corresponds to the magnitude of the vector with regards to each dimension.\n",
    "\n",
    "For example, say the rocket is going up at a slight angle: it has a vertical speed of 5,000 m/s, and also a slight speed towards the East at 10 m/s, and a slight speed towards the North at 50 m/s. The rocket's velocity may be represented by the following vector:\n",
    "\n",
    "**velocity** $= \\begin{pmatrix}\n",
    "10 \\\\\n",
    "50 \\\\\n",
    "5000 \\\\\n",
    "\\end{pmatrix}$\n",
    "\n",
    "Note: by convention vectors are generally presented in the form of columns. Also, vector names are generally lowercase to distinguish them from matrices (which we will discuss below) and in bold (when possible) to distinguish them from simple scalar values such as ${meters\\_per\\_second} = 5026$.\n",
    "\n",
    "A list of N numbers may also represent the coordinates of a point in an N-dimensional space, so it is quite frequent to represent vectors as simple points instead of arrows. A vector with 1 element may be represented as an arrow or a point on an axis, a vector with 2 elements is an arrow or a point on a plane, a vector with 3 elements is an arrow or point in space, and a vector with N elements is an arrow or a point in an N-dimensional space… which most people find hard to imagine.\n",
    "\n",
    "\n",
    "##  Purpose\n",
    "Vectors have many purposes in Machine Learning, most notably to represent observations and predictions. For example, say we built a Machine Learning system to classify videos into 3 categories (good, spam, clickbait) based on what we know about them. For each video, we would have a vector representing what we know about it, such as:\n",
    "\n",
    "**video** $= \\begin{pmatrix}\n",
    "10.5 \\\\\n",
    "5.2 \\\\\n",
    "3.25 \\\\\n",
    "7.0\n",
    "\\end{pmatrix}$\n",
    "\n",
    "This vector could represent a video that lasts 10.5 minutes, but only 5.2% viewers watch for more than a minute, it gets 3.25 views per day on average, and it was flagged 7 times as spam. As you can see, each axis may have a different meaning.\n",
    "\n",
    "Based on this vector our Machine Learning system may predict that there is an 80% probability that it is a spam video, 18% that it is clickbait, and 2% that it is a good video. This could be represented as the following vector:\n",
    "\n",
    "**class_probabilities** $= \\begin{pmatrix}\n",
    "0.80 \\\\\n",
    "0.18 \\\\\n",
    "0.02\n",
    "\\end{pmatrix}$"
   ]
  },
  {
   "cell_type": "markdown",
   "metadata": {},
   "source": [
    "## Vectors in python\n",
    "In python, a vector can be represented in many ways, the simplest being a regular python list of numbers:"
   ]
  },
  {
   "cell_type": "code",
   "execution_count": 2,
   "metadata": {},
   "outputs": [
    {
     "data": {
      "text/plain": [
       "[10.5, 5.2, 3.25, 7.0]"
      ]
     },
     "execution_count": 2,
     "metadata": {},
     "output_type": "execute_result"
    }
   ],
   "source": [
    "[10.5, 5.2, 3.25, 7.0]"
   ]
  },
  {
   "cell_type": "markdown",
   "metadata": {},
   "source": [
    "Since we plan to do quite a lot of scientific calculations, it is much better to use NumPy's `ndarray`, which provides a lot of convenient and optimized implementations of essential mathematical operations on vectors (for more details about NumPy, check out the [NumPy tutorial](tools_numpy.ipynb)). For example:"
   ]
  },
  {
   "cell_type": "code",
   "execution_count": 3,
   "metadata": {},
   "outputs": [
    {
     "data": {
      "text/plain": [
       "array([ 10.5 ,   5.2 ,   3.25,   7.  ])"
      ]
     },
     "execution_count": 3,
     "metadata": {},
     "output_type": "execute_result"
    }
   ],
   "source": [
    "import numpy as np\n",
    "video = np.array([10.5, 5.2, 3.25, 7.0])\n",
    "video"
   ]
  },
  {
   "cell_type": "markdown",
   "metadata": {},
   "source": [
    "The size of a vector can be obtained using the `size` attribute:"
   ]
  },
  {
   "cell_type": "code",
   "execution_count": 4,
   "metadata": {},
   "outputs": [
    {
     "data": {
      "text/plain": [
       "4"
      ]
     },
     "execution_count": 4,
     "metadata": {},
     "output_type": "execute_result"
    }
   ],
   "source": [
    "video.size"
   ]
  },
  {
   "cell_type": "markdown",
   "metadata": {},
   "source": [
    "The $i^{th}$ element (also called *entry* or *item*) of a vector $\\textbf{v}$ is noted $\\textbf{v}_i$.\n",
    "\n",
    "Note that indices in mathematics generally start at 1, but in programming they usually start at 0. So to access $\\textbf{video}_3$ programmatically, we would write:"
   ]
  },
  {
   "cell_type": "code",
   "execution_count": 5,
   "metadata": {},
   "outputs": [
    {
     "data": {
      "text/plain": [
       "3.25"
      ]
     },
     "execution_count": 5,
     "metadata": {},
     "output_type": "execute_result"
    }
   ],
   "source": [
    "video[2]  # 3rd element"
   ]
  },
  {
   "cell_type": "markdown",
   "metadata": {},
   "source": [
    "## Plotting vectors\n",
    "To plot vectors we will use matplotlib, so let's start by importing it (for details about matplotlib, check the [matplotlib tutorial](tools_matplotlib.ipynb)):"
   ]
  },
  {
   "cell_type": "code",
   "execution_count": 6,
   "metadata": {},
   "outputs": [],
   "source": [
    "%matplotlib inline\n",
    "import matplotlib.pyplot as plt"
   ]
  },
  {
   "cell_type": "markdown",
   "metadata": {},
   "source": [
    "### 2D vectors\n",
    "Let's create a couple very simple 2D vectors to plot:"
   ]
  },
  {
   "cell_type": "code",
   "execution_count": 7,
   "metadata": {
    "collapsed": true,
    "jupyter": {
     "outputs_hidden": true
    }
   },
   "outputs": [],
   "source": [
    "u = np.array([2, 5])\n",
    "v = np.array([3, 1])"
   ]
  },
  {
   "cell_type": "markdown",
   "metadata": {},
   "source": [
    "These vectors each have 2 elements, so they can easily be represented graphically on a 2D graph, for example as points:"
   ]
  },
  {
   "cell_type": "code",
   "execution_count": 8,
   "metadata": {},
   "outputs": [
    {
     "data": {
      "image/png": "iVBORw0KGgoAAAANSUhEUgAAAWoAAAEACAYAAACatzzfAAAABHNCSVQICAgIfAhkiAAAAAlwSFlz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\nAAAAAElFTkSuQmCC\n",
      "text/plain": [
       "<matplotlib.figure.Figure at 0x7f6e352e72e8>"
      ]
     },
     "metadata": {},
     "output_type": "display_data"
    }
   ],
   "source": [
    "x_coords, y_coords = zip(u, v)\n",
    "plt.scatter(x_coords, y_coords, color=[\"r\",\"b\"])\n",
    "plt.axis([0, 9, 0, 6])\n",
    "plt.grid()\n",
    "plt.show()"
   ]
  },
  {
   "cell_type": "markdown",
   "metadata": {},
   "source": [
    "Vectors can also be represented as arrows. Let's create a small convenience function to draw nice arrows:"
   ]
  },
  {
   "cell_type": "code",
   "execution_count": 9,
   "metadata": {},
   "outputs": [],
   "source": [
    "def plot_vector2d(vector2d, origin=[0, 0], **options):\n",
    "    return plt.arrow(origin[0], origin[1], vector2d[0], vector2d[1],\n",
    "              head_width=0.2, head_length=0.3, length_includes_head=True,\n",
    "              **options)"
   ]
  },
  {
   "cell_type": "markdown",
   "metadata": {},
   "source": [
    "Now let's draw the vectors **u** and **v** as arrows:"
   ]
  },
  {
   "cell_type": "code",
   "execution_count": 10,
   "metadata": {},
   "outputs": [
    {
     "data": {
      "image/png": "iVBORw0KGgoAAAANSUhEUgAAAWoAAAEACAYAAACatzzfAAAABHNCSVQICAgIfAhkiAAAAAlwSFlz\nAAALEgAACxIB0t1+/AAAFrdJREFUeJzt3W+MpWV5x/Hvtcwu3WWBoSpqWWGAxvgnykArEv/UKbsi\nrUTTF0asiRkl+qI1gDaIwaRLiS3worpqTRpbxWqxNVCof0IVlBkMJAIK46KwrUhOWdQlkgoNoA3s\nXH3xnHFnZ8/Zc505zzn3dZ7z+ySTOc/ZZ8/+cmb2mmeu+7nv29wdERHJa0PpACIicngq1CIiyalQ\ni4gkp0ItIpKcCrWISHIq1CIiyYUKtZkda2bXmdkDZvYjM3v1sIOJiEhlKnjeJ4Cb3P1tZjYFbBli\nJhERWcV6TXgxs6OBJXc/dTSRRERktUjr4xTgMTO7xszuMbPPmNnmYQcTEZFKpFBPAWcAn3b3M4Cn\ngQ8PNZWIiPxGpEf9CLDX3b/XPr4euHTtSWamRUNERPrk7tbrnJ5X1O7+KLDXzF7cfmo7cH+Xc1N9\n7Ny5s3gGZWpOpqy5lGl8M0VF7/q4ELjWzDYCDwHvDv8LBbVardIRDqFMMRkzQc5cyhSTMVNUqFC7\n+w+AVw05i4iIdNDomYnz8/OlIxxCmWIyZoKcuZQpJmOmqJ73UYdfyMzrei0RkUlgZngdg4njbHFx\nsXSEQyhTTMZMkDOXMsVkzBTV6EItItIEan2IiBSi1oeISEM0ulBn7EkpU0zGTJAzlzLFZMwU1ehC\nLSLSBOpRi4gUoh61iEhDNLpQZ+xJKVNMxkyQM5cyxWTMFNXoQi0i0gTqUYuIFKIetYhIQzS6UGfs\nSSlTTMZMkDOXMsVkzBTV6EItItIE6lGLiBSiHrWISEM0ulBn7EkpU0zGTJAzlzLFZMwU1ehCLSLS\nBOpRi4gUoh61iEhDNLpQZ+xJKVNMxkyQM5cyxWTMFNXoQi0i0gTqUYuIFKIetYhIQzS6UGfsSSlT\nTMZMkDOXMsVkzBTV6EItItIEoR61mbWAJ4Bl4Bl3P7PDOepRi4j0Idqjngq+3jIw5+6/HCyWiIj0\nK9r6sD7OTSNjT0qZYjJmgpy5lCkmY6aoaPF14JtmdreZvXeYgURE5GDRHvUL3H2fmT0PuAV4v7vf\nvuYc9ah7+cpX4JWvhJNPLp1ERBKotUft7vvan39hZjcCZwK3rz1vfn6emZkZAKanp5mdnWVubg44\n8GvHxB5feSVcdhlzu3bBRReVz6NjHet45Mcrj1utFn1x98N+AFuAre3HRwF3AOd0OM+zWVhYKB2h\nsnu3+1FHuW/c6AuXXlo6zSHSvE+rZMzknjOXMsVkzNSumz3rcOSK+vnAjWbmVFfg17r7zf39OJhg\n+/bB9u3w1FNwzDFw1FGlE4nImNFaH8P0q1/BmWfCnj3w7LNw7LFwww1w9tmlk4lIAlrro7TlZXj7\n2+HBB6siDeBeFWsRkT40ulCvbuCP3Ec+At/+Nvz61weeW15mcc+ecpm6KPo+dZExE+TMpUwxGTNF\nNbpQF/PFL8InPwlPP33w8888ox61iPRNPeq63XEHvPGNVX96LbPqCnvTptHnEpF0oj1qFeo6ucPx\nx8Njj3X+86mp6qpaRAQNJgIFelJm8KlPwSteAZs3wxFHHPznW7ak7JMpU1zGXMoUkzFTVKMLdRHn\nnw+7d8Odd8L+/dVzW7dWn9WfFpF1UOtjWK64AnbuhCefhOuug499DE48Eb7+9dLJRCQJ9ahLM4NT\nToGf/OTAc+7V8yIiqEcNFOxJrdwrffOamfZmKftkyhSXMZcyxWTMFNXoQl3Mjh3V51NPLZtDRBpB\nrY+6LS9Xd3tcfTV86EOl04hIYmp9lPLRj1afL7mkbA4RaYxGF+oiPamdO6tBxC6Dhhn7ZMoUlzGX\nMsVkzBTV6EI9ct0GEUVEBqAedZ22bYOf/rS6DU9EpAf1qEdtebkq0ldfXTqJiDRMowv1SHtSwUHE\njH0yZYrLmEuZYjJmimp0oR6pHoOIIiLrpR51HfbsgZe+tNp2S5NcRCRIa32MkgYRRWQdNJjIiHpS\nfQ4iZuyTKVNcxlzKFJMxU1SjC/VIaCaiiAyZWh+D6rScqYhIgFofo6CZiCIyAo0u1EPvSa1jOdOM\nfTJlisuYS5liMmaKanShHirNRBSREVGPer1W9kRcXtYkFxFZF91HPWwaRBSRAdU+mGhmG8zsHjP7\n6mDRRmdoPakBBhEz9smUKS5jLmWKyZgpqp8e9UXA/cMKMla0J6KIjFCo9WFm24BrgL8GPujub+lw\nzmS0PrQnoojUpO7Wx8eBS4AJqMQ9aCaiiIzYVK8TzOzNwKPuvmRmc0DX6j8/P8/MzAwA09PTzM7O\nMjc3BxzoD43yeGlpiYsvvrje128vZ7p4223r+vsrz5V4P7odr81WOg/Arl27in//dDpeeS5LHn39\n4sdDqQfr+P5ZXFyk1WrRF3c/7AfwN8DDwEPAz4EngS90OM+zWVhYqPcFH3jAHdwffHDdL1F7phoo\nU1zGXMoUkzFTu272rMN93Z5nZm8A/sIntUet5UxFpEZa66NumokoIoX0Vajd/bZOV9NZre4LDaym\nQcRaM9VEmeIy5lKmmIyZonRFHaU9EUWkEE0hj9CeiCIyBFrro04aRBSRIdBgIjX1pGoeRMzYJ1Om\nuIy5lCkmY6aoRhfqWmgmoogUptZHL1rOVESGRK2POmhPRBFJoNGFeuCe1BCWM83YJ1OmuIy5lCkm\nY6aoRhfqgWgmoogkoR51N9oTUUSGTPdRD0qDiCIyZBpMZICe1BAHETP2yZQpLmMuZYrJmCmq0YV6\n3bQnoogkotbHWtoTUURGRK2P9dJMRBFJptGFel09qSEvZ5qxT6ZMcRlzKVNMxkxRjS7UfdNMRBFJ\nSD3q1bScqYiMkHrU/dJMRBFJqtGFuq+e1IgGETP2yZQpLmMuZYrJmCmq0YW6L9oTUUSSUo8atCei\niBShtT76oUFEESlAg4kEe1IjHkTM2CdTpriMuZQpJmOmqEYX6hDNRBSR5NT60HKmIlKIWh8Rmoko\nImOg0YW6Z0+qwHKmGftkyhSXMZcyxWTMFDXV6wQzOxL4DrCpff717v5Xww42dCuDiFddVTqJiMhh\nhXrUZrbF3Z82syOAO4AL3f2uNeeMV49aeyKKSGG19qjd/en2wyOprqrHqCJ3oZmIIjImQoXazDaY\n2b3APuAWd797uLHq0bUnVXAQMWOfTJniMuZSppiMmaJ69qgB3H0ZON3MjgH+3cxe5u73rz1vfn6e\nmZkZAKanp5mdnWVubg448CaN8nhpaanzn+/YwSLA3r3MtQcSR5VvRYn3Y5yOl5aWUuXR16+/44xf\nv671YITHK49brRb96Ps+ajP7S+BJd//YmufHo0e9sifiVVfBpZeWTiMiE6y2HrWZPdfMjm0/3gzs\nAPYMHrGQlZmI2rhWRMZEpEf9QmDBzJaAO4FvuvtNw41Vj7W/rgLFBxE7ZipMmeIy5lKmmIyZonr2\nqN39PuCMEWQZPs1EFJExNFlrfWg5UxFJRGt9rKWZiCIyphpdqA/qSSUZRMzYJ1OmuIy5lCkmY6ao\nRhfqg2gmooiMqcnoUWtPRBFJSHsmrqZBRBFJSIOJtHtSyQYRM/bJlCkuYy5lismYKarRhRpIM4go\nIrJezW99aE9EEUlKrQ/QTEQRaYRGF+rF17++epDoTo+MfTJlisuYS5liMmaKam6hXl6Gxx5LM4go\nIrJeze1Ra09EEUlO91FrEFFEkpvswcT2IOLiFVcUDnKojH0yZYrLmEuZYjJmimpmod6xo/p8wgll\nc4iI1KB5rQ/tiSgiY2JyWx+aiSgiDdO8Qr1qOdOMPSllismYCXLmUqaYjJmimlWoNRNRRBqoWT1q\nLWcqImNk8nrUyZYzFRGpS3MKdYdBxIw9KWWKyZgJcuZSppiMmaKaU6i1J6KINFQzetTaE1FExtBk\nrfWhQUQRGUOTM5h4mEHEjD0pZYrJmAly5lKmmIyZosa/UGsmoog0XM/Wh5ltA74AvADYD/yDu3+y\nw3llWh9azlRExlS09TEVeK1ngQ+6+5KZbQW+b2Y3u/uegVMOSjMRRWQC9Gx9uPs+d19qP34SeADI\nsX7oynKmXe70yNiTUqaYjJkgZy5lismYKaqvHrWZzQCzwJ3DCNMXzUQUkQkRaX0A0G57XA9c1L6y\nPsT8/DwzMzMATE9PMzs7y9zcHHDgp1ltxxdcUB23BxG7nb+i9n+/Qcdzc3Op8qxYXFxMkyfzsb5+\n8ePV2Ur9+4uLi7RaLfoRuo/azKaArwP/4e6f6HLOaAcTNYgoImOu7vuoPwfc361Ij1xwEHHtT9EM\nlCkmYybImUuZYjJmiupZqM3stcA7gbPN7F4zu8fMzh1+tMPoMYgoItIk4zeFXHsiikhDNHcKuWYi\nisiEGb9C3cdyphl7UsoUkzET5MylTDEZM0WNV6HWTEQRmUDj1aPWcqYi0iDN61FrJqKITKjxKdTr\nGETM2JNSppiMmSBnLmWKyZgpanwKtfZEFJEJNR49au2JKCIN1Kw9EzWIKCIN1JzBxAEGETP2pJQp\nJmMmyJlLmWIyZorKX6g1E1FEJlz+1oeWMxWRhmpG60MzEUVEkhfqAZczzdiTUqaYjJkgZy5lismY\nKSpvodZMRBERIHOP+oorqkkuy8ua5CIijTT+91FrEFFEGm68BxNrGkTM2JNSppiMmSBnLmWKyZgp\nKmeh1p6IIiK/ka/1oT0RRWRCjG/rQzMRRUQOkq9Q17icacaelDLFZMwEOXMpU0zGTFG5CrVmIoqI\nHCJXj1rLmYrIBBm/HrVmIoqIdJSnUA9hEDFjT0qZYjJmgpy5lCkmY6aoPIVaeyKKiHSUo0etPRFF\nZALVttaHmX0WOA941N1feZjz1l+oNYgoIhOozsHEa4A3DR6piyEOImbsSSlTTMZMkDOXMsVkzBTV\ns1C7++3AL4eWQDMRRUQOK9SjNrOTgK8NpfWh5UxFZEJFWx9TowjTlWYi1m7/fjjtNHjkkdj5ZvD5\nz8Nb3zrUWCIygFoL9fz8PDMzMwBMT08zOzvL3NwccKA/dNDx297GHMCpp3b+8wGPl5aWuPjii2t7\nvTqOV54b5r/31FPwxBMr/95c+/Ohxxs3wqteNcfy8iIr8Uq/PyvHu3bt6v39U+B45bkseVZnyZIH\ncn79MtSDlcetVou+uHvPD2AGuK/HOd6X/fvdwf2qq/r7e31YWFgY2muv1ygyXX65+6ZN1dvb7WPz\nZvedO6svw6S+T+uRMZcyxWTM1K6bPWtw5Pa8L1Fdhj0HeBTY6e7XdDjPe73WQbQn4tDccgucc07n\nP9u4EbZuhRtvhDe8YbS5RORg+fdM1CBirVoteM97YGGh+zlbtsDpp8MNN8Dxx48smoh0kXtRphEN\nIq7uC2VRZ6ZWC84+u/qZd/LJVZE+77xqIPHyy2HTpgPnbt5c3QH5ne8cWqSb/j7VKWMuZYrJmCmq\nTKHWnojrdrji7A5f+xqccAKcf361o9nGjXDccfCNb1Sdpg15VncRkaDRtz60J2LfOrU1zjsP/v7v\nq6LczWmnwdFHq9UhklXeHrUGEUPWW5xXW7nHQ1fRIjnl7VGPcDnTjD2pw2WKtjWizGJFetzep5Iy\n5lKmmIyZokY7M1EzEQ9Rx5WziDTbaFsfWs4UUHEWkUq+tT4mfE9EFWcRWa/R9agLLGdauifVqed8\n1lmL6+45D0vp96mTjJkgZy5lismYKWp0hXpC9kTsNSB45ZU5irOIjI/R9Kgbviei2hoish657qNu\n4CCiirOIDCrPfdQFBxHr7knVcZ9zxj6ZMsVlzKVMMRkzRQ3/ro8x3xNRV84iUtrwWx9juJypirOI\njEKO+6jHaCaiirOIZDXcHnXh5Ux79aRaLdi+vb61NerIVIIyxWXMpUwxGTNFDe+KOulMxFYLLrgA\nbr31wHO6chaRzIbXo060nKmKs4hkVP4+6sKDiCrOIpJd2fuoCw0iru0533rr4tB7zv3K2CdTpriM\nuZQpJmOmqOEU6hEOIh5anA8MCC4s5CjOIiKDqL/1MYI9EdXWEJEmKHcf9ZBmIqo4i8ikqr/1UeNy\npodra0R6zhl7UsoUkzET5MylTDEZM0XVe0VdwyCirpxFRA5Wb4/6hBPWtZypirOITKIyPeo+ZiKq\nOIuIxIR61GZ2rpntMbP/MrPD38pxmEHEQXvO/crYk1KmmIyZIGcuZYrJmCmqZ6E2sw3A3wFvAl4O\nvMPMXtLx5A6DiKMuzqstLS0N54UHoEwxGTNBzlzKFJMxU1TkivpM4Mfu/t/u/gzwr8BbO57ZHkQs\nWZxXe/zxx4f/j/RJmWIyZoKcuZQpJmOmqEiP+gRg76rjR6iK9yG2v+9U9ZxFRGoWKdSdRiQ73tax\ncuWcpTi3Wq3SEQ6hTDEZM0HOXMoUkzFTVM/b88zsLOBydz+3ffxhwN396jXnNWeLcRGREallmVMz\nOwL4T2A78HPgLuAd7v5AHSFFROTwerY+3H2/mb0fuJlq8PGzKtIiIqNT28xEEREZjoEXZeprMsyI\nmNlnzexRM9tdOssKM9tmZrea2f1mdp+ZXZgg05FmdqeZ3dvOtLN0phVmtsHM7jGzr5bOAmBmLTP7\nQfu9uqt0HgAzO9bMrjOzB8zsR2b26gSZXtx+j+5pf34iyff6B8zsh2a228yuNbNNCTJd1P5/17se\nuPu6P6gK/YPAScBGYAl4ySCvWccH8DpgFthdOsuqTC8AZtuPt1L1/TO8V1van48AvgucWTpTO88H\ngH8Gvlo6SzvPQ8BxpXOsyfR54N3tx1PAMaUzrcm3AfgZ8KLCOX6n/fXb1D7+MvCuwpleDuwGjmz/\n37sFOLXb+YNeUccnw4yQu98O/LJ0jtXcfZ+7L7UfPwk8QHWPelHu/nT74ZFU/9mL98LMbBvwx8A/\nls6yijGsHZHWwcyOBl7v7tcAuPuz7v6/hWOttQP4ibvv7Xnm8B0BHGVmU8AWqh8gJb0U+K67/5+7\n7wduA/6k28mDfuN1mgxTvPhkZ2YzVFf8d5ZN8psWw73APuAWd7+7dCbg48AlJPihsYoD3zSzu83s\nvaXDAKcAj5nZNe02w2fMbHPpUGu8HfiX0iHc/WfA3wIPAz8FHnf3b5VNxQ+BPzCz48xsC9WFyYu6\nnTxooQ5PhpGKmW0Frgcual9ZF+Xuy+5+OrANeLWZvaxkHjN7M/Bo+7cPo/P3WAmvcfffp/oP9edm\n9rrCeaaAM4BPu/sZwNPAh8tGOsDMNgJvAa5LkGWa6jf9k6jaIFvN7E9LZnL3PcDVwLeAm6jaxs92\nO3/QQv0IcOKq422U/5UirfavXdcDX3T3r5TOs1r71+ZF4NzCUV4LvMXMHqK6GvtDM/tC4Uy4+772\n518AN9JlGYURegTY6+7fax9fT1W4s/gj4Pvt96u0HcBD7v4/7TbDDcBrCmfC3a9x999z9zmqVu2P\nu507aKG+G/hdMzupPYp6PpBilJ5cV2MrPgfc7+6fKB0EwMyea2bHth9vpvqG3lMyk7tf5u4nuvsp\nVN9Pt7r7u0pmMrMt7d+EMLOjgHOofnUtxt0fBfaa2YvbT20H7i8Yaa13kKDt0fYwcJaZ/ZaZGdV7\nVXwuiJk9r/35RKr+dNf3a6CNAzzpZBgz+xIwBzzHzB4Gdq4MuhTM9FrgncB97Z6wA5e5+zcKxnoh\n8E/tpWw3AF9295sK5snq+cCN7WUSpoBr3X39+83V50Lg2nab4SHg3YXzAAf90H9f6SwA7n6XmV0P\n3As80/78mbKpAPg3M/ttqkx/5u5PdDtRE15ERJJLc7uRiIh0pkItIpKcCrWISHIq1CIiyalQi4gk\np0ItIpKcCrWISHIq1CIiyf0/qw4ATRntajAAAAAASUVORK5CYII=\n",
      "text/plain": [
       "<matplotlib.figure.Figure at 0x7f6e32fc3c50>"
      ]
     },
     "metadata": {},
     "output_type": "display_data"
    }
   ],
   "source": [
    "plot_vector2d(u, color=\"r\")\n",
    "plot_vector2d(v, color=\"b\")\n",
    "plt.axis([0, 9, 0, 6])\n",
    "plt.grid()\n",
    "plt.show()"
   ]
  },
  {
   "cell_type": "markdown",
   "metadata": {},
   "source": [
    "### 3D vectors\n",
    "Plotting 3D vectors is also relatively straightforward. First let's create two 3D vectors:"
   ]
  },
  {
   "cell_type": "code",
   "execution_count": 11,
   "metadata": {},
   "outputs": [],
   "source": [
    "a = np.array([1, 2, 8])\n",
    "b = np.array([5, 6, 3])"
   ]
  },
  {
   "cell_type": "markdown",
   "metadata": {},
   "source": [
    "Now let's plot them using matplotlib's `Axes3D`:"
   ]
  },
  {
   "cell_type": "code",
   "execution_count": 12,
   "metadata": {},
   "outputs": [
    {
     "data": {
      "image/png": "iVBORw0KGgoAAAANSUhEUgAAAV0AAADtCAYAAAAcNaZ2AAAABHNCSVQICAgIfAhkiAAAAAlwSFlz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\n",
      "text/plain": [
       "<matplotlib.figure.Figure at 0x7f6e33054240>"
      ]
     },
     "metadata": {},
     "output_type": "display_data"
    }
   ],
   "source": [
    "from mpl_toolkits.mplot3d import Axes3D\n",
    "\n",
    "subplot3d = plt.subplot(111, projection='3d')\n",
    "x_coords, y_coords, z_coords = zip(a,b)\n",
    "subplot3d.scatter(x_coords, y_coords, z_coords)\n",
    "subplot3d.set_zlim3d([0, 9])\n",
    "plt.show()"
   ]
  },
  {
   "cell_type": "markdown",
   "metadata": {},
   "source": [
    "It is a bit hard to visualize exactly where in space these two points are, so let's add vertical lines. We'll create a small convenience function to plot a list of 3d vectors with vertical lines attached:"
   ]
  },
  {
   "cell_type": "code",
   "execution_count": 13,
   "metadata": {},
   "outputs": [
    {
     "data": {
      "image/png": "iVBORw0KGgoAAAANSUhEUgAAAV0AAADtCAYAAAAcNaZ2AAAABHNCSVQICAgIfAhkiAAAAAlwSFlz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\nJEk6COATQRCG/+uf/h3A9jJOyYOL8f8Bx+4YbfPZ9uIAAAAASUVORK5CYII=\n",
      "text/plain": [
       "<matplotlib.figure.Figure at 0x7f6e32f04e48>"
      ]
     },
     "metadata": {},
     "output_type": "display_data"
    }
   ],
   "source": [
    "def plot_vectors3d(ax, vectors3d, z0, **options):\n",
    "    for v in vectors3d:\n",
    "        x, y, z = v\n",
    "        ax.plot([x,x], [y,y], [z0, z], color=\"gray\", linestyle='dotted', marker=\".\")\n",
    "    x_coords, y_coords, z_coords = zip(*vectors3d)\n",
    "    ax.scatter(x_coords, y_coords, z_coords, **options)\n",
    "\n",
    "subplot3d = plt.subplot(111, projection='3d')\n",
    "subplot3d.set_zlim([0, 9])\n",
    "plot_vectors3d(subplot3d, [a,b], 0, color=(\"r\",\"b\"))\n",
    "plt.show()"
   ]
  },
  {
   "cell_type": "markdown",
   "metadata": {},
   "source": [
    "## Norm\n",
    "The norm of a vector $\\textbf{u}$, noted $\\left \\Vert \\textbf{u} \\right \\|$, is a measure of the length (a.k.a. the magnitude) of $\\textbf{u}$. There are multiple possible norms, but the most common one (and the only one we will discuss here) is the Euclidian norm, which is defined as:\n",
    "\n",
    "$\\left \\Vert \\textbf{u} \\right \\| = \\sqrt{\\sum_{i}{\\textbf{u}_i}^2}$\n",
    "\n",
    "We could implement this easily in pure python, recalling that $\\sqrt x = x^{\\frac{1}{2}}$"
   ]
  },
  {
   "cell_type": "code",
   "execution_count": 14,
   "metadata": {},
   "outputs": [
    {
     "name": "stdout",
     "output_type": "stream",
     "text": [
      "|| [2 5] || =\n"
     ]
    },
    {
     "data": {
      "text/plain": [
       "5.3851648071345037"
      ]
     },
     "execution_count": 14,
     "metadata": {},
     "output_type": "execute_result"
    }
   ],
   "source": [
    "def vector_norm(vector):\n",
    "    squares = [element**2 for element in vector]\n",
    "    return sum(squares)**0.5\n",
    "\n",
    "print(\"||\", u, \"|| =\")\n",
    "vector_norm(u)"
   ]
  },
  {
   "cell_type": "markdown",
   "metadata": {},
   "source": [
    "However, it is much more efficient to use NumPy's `norm` function, available in the `linalg` (**Lin**ear **Alg**ebra) module:"
   ]
  },
  {
   "cell_type": "code",
   "execution_count": 15,
   "metadata": {},
   "outputs": [
    {
     "data": {
      "text/plain": [
       "5.3851648071345037"
      ]
     },
     "execution_count": 15,
     "metadata": {},
     "output_type": "execute_result"
    }
   ],
   "source": [
    "import numpy.linalg as LA\n",
    "LA.norm(u)"
   ]
  },
  {
   "cell_type": "markdown",
   "metadata": {},
   "source": [
    "Let's plot a little diagram to confirm that the length of vector $\\textbf{v}$ is indeed $\\approx5.4$:"
   ]
  },
  {
   "cell_type": "code",
   "execution_count": 16,
   "metadata": {},
   "outputs": [
    {
     "data": {
      "image/png": "iVBORw0KGgoAAAANSUhEUgAAAWcAAAEACAYAAABvSbdvAAAABHNCSVQICAgIfAhkiAAAAAlwSFlz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\nzhn0/wHrBhfDSiWHRwAAAABJRU5ErkJggg==\n",
      "text/plain": [
       "<matplotlib.figure.Figure at 0x7f6e32e93400>"
      ]
     },
     "metadata": {},
     "output_type": "display_data"
    }
   ],
   "source": [
    "radius = LA.norm(u)\n",
    "plt.gca().add_artist(plt.Circle((0,0), radius, color=\"#DDDDDD\"))\n",
    "plot_vector2d(u, color=\"red\")\n",
    "plt.axis([0, 8.7, 0, 6])\n",
    "plt.grid()\n",
    "plt.show()"
   ]
  },
  {
   "cell_type": "markdown",
   "metadata": {},
   "source": [
    "Looks about right!"
   ]
  },
  {
   "cell_type": "markdown",
   "metadata": {},
   "source": [
    "## Addition\n",
    "Vectors of same size can be added together. Addition is performed *elementwise*:"
   ]
  },
  {
   "cell_type": "code",
   "execution_count": 17,
   "metadata": {},
   "outputs": [
    {
     "name": "stdout",
     "output_type": "stream",
     "text": [
      "  [2 5]\n",
      "+ [3 1]\n",
      "----------\n"
     ]
    },
    {
     "data": {
      "text/plain": [
       "array([5, 6])"
      ]
     },
     "execution_count": 17,
     "metadata": {},
     "output_type": "execute_result"
    }
   ],
   "source": [
    "print(\" \", u)\n",
    "print(\"+\", v)\n",
    "print(\"-\"*10)\n",
    "u + v"
   ]
  },
  {
   "cell_type": "markdown",
   "metadata": {},
   "source": [
    "Let's look at what vector addition looks like graphically:"
   ]
  },
  {
   "cell_type": "code",
   "execution_count": 18,
   "metadata": {
    "scrolled": true
   },
   "outputs": [
    {
     "data": {
      "image/png": "iVBORw0KGgoAAAANSUhEUgAAAWoAAAEACAYAAACatzzfAAAABHNCSVQICAgIfAhkiAAAAAlwSFlz\nAAALEgAACxIB0t1+/AAAIABJREFUeJzt3Xl4FGW69/HvEwiEABIxjqBBgg6LwjkGEJ2oZwiKGzow\nOh4zgErkDDozigvoC6KgIBo8KAyKXsKACCNDRHTQjB5EkOACqAEimwEVIzuyBggEsjzvH08nkL06\nqe56unN/vHJ1ulPd9Us33qm+u+oupbVGCCGEvSK8DiCEEKJ6UqiFEMJyUqiFEMJyUqiFEMJyUqiF\nEMJyUqiFEMJyNRZqpVQHpdRapdQa32WuUuqhYIQTQggByp/9qJVSEcAO4Eqt9faApRJCCFHK39ZH\nb+BHKdJCCBE8/hbqZGBeIIIIIYSonOPWh1IqEtgFXKq13hfQVEIIIUo19GPZm4HVVRVppZQMDRFC\nCD9prVVNy/jT+uhPDW0PrbVVX08//bTnGSRT+GSyNZdkCt1MTjkq1EqpJpgPEt9z/MgWyMnJ8TpC\nBZLJGRszgZ25JJMzNmZyylHrQ2t9Ajg3wFmEEEJUIqyPTExJSfE6QgWSyRkbM4GduSSTMzZmcsqv\nA16qfSCltFuPJYQQ9YFSCu3yh4khJyMjw+sIFUgmZ2zMBHbmkkzO2JjJqbAu1EIIEQ6k9SGEEB6R\n1ocQQoSJsC7UNvakJJMzNmYCO3NJJmdszORUWBdqIYQIB9KjFkIIj0iPWgghwkRYF2obe1KSyRkb\nM4GduSSTMzZmciqsC7UQQoQD6VELIYRHpEcthBBhIqwLtY09KcnkjI2ZwM5ckskZGzM5FdaFWggh\nwoH0qIUQwiPSoxZCiDAR1oXaxp6UZHLGxkxgZy7J5IyNmZwK60IthBDhQHrUQgjhEelRCyFEmAjr\nQm1jT0oyOWNjJrAzl2RyxsZMTjkq1EqpFkqpd5RS3ymlNiqlrgx0MCGEEIajHrVS6k1gudZ6llKq\nIRCttT5SbhnpUQshhB+c9qhrLNRKqeZAltb64hqWk0IthBB+cPPDxIuA/UqpWUqpNUqp6UqpJnWP\nGHg29qQkkzPBylRYCGduX9R0vT4/V/6QTO5q6HCZbsADWutMpdTfgJHA0+UXTElJIT4+HoCYmBgS\nEhJISkoCTj9JwbyelZXl6foru17Cljy2Xs/Kygr4+k6cgL59k3jsMdixw/w8La3i9Qcfy2Xh9/fR\n7PgCXn74IyueH9uvB+P18/e6DfWg5PucnBz84aT1cR6wUmt9ke/6NcAIrfXvyi0nrQ8Rci6/HFav\nruKHDU/AlVOI6PUcNMjj+l/OZtErv0CDBkHNKMKXa60PrfVeYLtSqoPvpuuATXXMJ4QV/ud/Krkx\nohC6TYdhcUReN5bihseIKtA8e3GKFGnhCaf7UT8EzFVKZQGXAc8HLpJ7yrcbbCCZnAlkJq0hMxNW\nroRPPoFGjUp/Ape+Aw+3I6LPMIg+SEFEPgCd9kOPcy+rd89VbUkmdznpUaO1/hboEeAswhKLFkGf\nPvDyy/DggxV/npgIW7fCrl2hs4G5axfs2AHr18OGDeZ3iIqCf/4TkpPhgw1LoM+DcNYOaJRH8Rn3\nbXYSxi0DGn4FF17o1a8g6jGZ9SEqKC6GNm3gggvg66/L/uyHH6BDB3jkEZg0yZt8TuTnmz8mBw/C\nm2/CHXdAVhb85S/QsCE0bXp62Vb3/Ym9v5oLkfmVPtaFh+GnKRDx5FPw7LPB+QVEvSCzPkStRUTA\nwIHmQ7bs7LI/mz0blIJ77vEmW3V274adOyElBTZtgrFjoUsXePxxuOkmGDkSWrQoW6QBXn7oBqIa\nNyBCVfzfodlJeDoDIjQwYEAwfg0hKgjrQm1jTypUMg0aZHq5c+aUvX3uXFP8EhKCn6m8/Hyzn/Nf\n/2paG0lJcNZZcOed0LUrvP02xMRAx47VP86dXe5k04PradWsVYWfNSyGget9V1q2DJnXz2uSyV1h\nXahF7XXubIrd3Lmnb1u+HHJyzBarV7Q2vfPt280fjG3boEcPOPtss/XfvLnpr6sa30yWlVeQx66j\nuwBoUmju3OQUPL4CGhf5FlqzxsXfRAjnpEctqvTyy/Doo2bPiGuvNbuy/eMfpkied17wcixdCuef\nD6NGmR7zli1w220QGwuNG9f98bcc2ELHqWazu/ipQlZuWcpt6QM5eiKXXTNaELPzgFnRkiVw9dV1\nX6EQPq7N+vBjhVKow8z+/eYDxf794fXXoVUruOYa+Pe/A7veH36AU6dgwQKzk8WxY9C9O/z616Y4\n+7u1XJ2cwzm0m9IOgOIxxSjfg+f++V7233kLF6tz4JJLzF+ru+92b8VCIB8mAnb2pEIpU2ws3Hwz\nvPeeaYEcOWJ61247etQU5wULYPJk02KZMyeDQYPMlvODD5rd6c49190ivfPIzkqLND//TItdB7j4\nypuhVy/zF8pXpEPp9fOSZHKXo/2oRf01aBB88AEMH24+mOvbt+6PqTX88ovZS+Pjj6F9e3Pwyf33\nm75zp06QkQFt29Z9XVXZe2wvcZPjACgaU3S6SIPZOXzw4Iq7hwjhEWl9iGoVFJj+8MGDMGSIaYHU\nxsmTZsv5zTfht781u8q98YbZja5PH1cj1+jA8QPETowFoHB0IQ0izjhq59AhE7ZVxT1AhHCb09aH\nbFGLakVGwr59/t9Paygqghkz4A9/MLvzrV1rbuvRw3xAqBT4hi0GTW5+bmmRPvXUqbJFGkz/ZcsW\nmDgxuMGEqIb0qIMs3DN98onZKE1IMLvybd4M0dHmKMFf/QpGjDAFuqZecyCep2OnjhHzQgwA+U/m\nE9kgsuwCRUXw4ovw//5fUHPVlWRyxsZMToV1oRaBt3Wr6TcPGWL6yu+/b/YWWbwYLr7YfDjYtKk7\nu9HVxYmCEzRPbQ5A3qg8GjesJJDWsGKF+dRSCItIj1r45cQJOH4c5s0zW8irVsH118NFF5n5INHR\nXies6GThSaKeiwLg6BNHadaoWcWFTpyAF16Ap592d9cSIaohPWrhmuPH4csvzfS5bdvM0X/XXgst\nW5rDtW1WUFRQWqQPjThUeZEGczDL4cNSpIWVwrr1YWNPKhQyaW32a545E956C/78Z7NPdYcOZoNz\n2DDTgw7kxE83nqei4iIajTfDpvc9vo+YqJiqF/7pJ+jXLyi53CaZnLExk1OyRS0AyM01Rxx26GD2\nmf77383tyclmkl6obWgW62IaPmv+ee8evpvY6NhqFi42x8fLftPCUtKjrqeKiswJAq64Am691RzU\n8vzz8NJL5pDtmGo2Pm2ntSZinHmzuP3R7cSdFVf9HXr1gqlTzSQqIYJIDiEXFWzYAHl5cPvtsHev\nmS0dGWkOPPnVr2DKFDNUP1yK9NaHttZcpL/8Elq3NvM8hLBUWBdqG3tSwcx05IjZOh43zpzdZNw4\n+PFHMxHv7LNh/nxTlPfty7CutVGb5+nMIp39QDbtzm5X850uvhgee8ycLSFAuQJNMjljYyanpEcd\nRrQ2Rz9/9BGccw7MmgW/+x1cfrkZSzp/vtcJA6vFhBYArP/LejrG1nC2ADA7gRcVQbduAU4mRN1I\njzrEaQ3r1pnDvL/80tzWrZuZz9GtW+h9CFhbcZPi2Hl0J6vvW0231g4L77PPmr9of/1rYMMJUQWZ\nRx3GfvnFDDPav98cCXjXXWYX4NtuMz3n+lKcS1wy9RKyD2SzYvAKEtskOrvTiRNmyHVmpp1H6Yh6\nQT5MxM6eVG0ynTxpBhqtW2eK8dat5viMm2820+xuvNHsRteoUe2KdCg/Tz2m9yD7QDbLBi1zXqTB\njDLNyvK7SIfycxVMksldjgq1UipHKfWtUmqtUurrQIcS5gjA3Fz4/e/N3OYnnzRzmydMgN/8BsaP\nN7v91uddf6+dfS2ZuzNZNHARSfFJzu+4a5f5ALFRo4BlE8JNjlofSqmtQHet9aFqlpHWRx2cOGEG\nFw0daory9dfD55+b86n26mU2AMVpfef1JX1LOguTF9KvU81HFJbx2mtmP8XHHw9MOCEccrv1ofxY\nVjhUXAzTp5t+c8+epr3Rsyc0awYbN5pZGr17S5Eub8C7A0jfkk7aH9L8L9JgdhZ3cLi4ELZwWnw1\n8LFS6hul1JBABnKTjT2pKVMyWL0a7r0X0tLMVnTjxma6ZvfuZsjRWWcFN5ONz1NVmYakD2HehnnM\n6jeL5C7J/j/w0aNwzz3mWHkXc3lJMjljYyannO5HfZXWeo9S6lzgE6XUd1rrL8ovlJKSQrzvlB0x\nMTEkJCSQlJQEnH6Sgnk9KyvL0/WXuf7vf6OHDWdvl0fJ/Y8kbr89g2bNoFcvS/JZdj0rK6vCz6d+\nPZV3T7zLa31eI/5wPBkZGf49vtYkPfggLF5Mxvff1ypfCa+fH9uvV/b6eX3dhnpQ8n1OTg7+8Hv3\nPKXU08BRrfWkcrdLj7oqublw1VXw3XcwbZqZsi/8MmrpKFK/SOWlG15iWOKw2j3I3LlmZ/PXXnM3\nnBC15No8aqVUNBChtT6mlGoK3ACMdSFj/XDkCPzXf5m5oc2amWO3hV/Gfzae1C9SGZc0rvZFGuCW\nW8C3hSNEKHHSoz4P+EIptRZYBaRrrRcHNpY7yr9dDbqjR80pt7dsgVOnICKCjG3bvM1UCc+fp0qU\nZJq8cjKjl41m5NUjGd1zdO0fcMUKM3P6ggtcyWUTyeSMjZmcqnGLWmv9E5AQhCzh5dgxswtHdrY5\nYgXM8d7Nm3ubK4S8nvk6wxYPY+gVQ0ntnVq3B5szx4wNFCIEySHkgZCXZ4r0hg2nizSYo1M2boS2\nbb3LFiJmZ80m5f0UBncdzMy+M+v2YAcPQv/+8OGHZtc8ISwhsz68cvy4OULl22/LFmkwgzj27w/+\n/nchZv7G+SQvSCa5czJpd6TV/QGPH4eoKMejTIUIFpn1gUc9qRtvrLxIAxQVkbF6dfAz1cCm3l36\n5nSSFyRzZcGV7hTpb76BRx5xrUjb9FyVkEzO2JjJqbAu1J7o0MFMRqqsFx0dXf9G2/lh8Y+L6ZvW\nl55tezKh9wR3HvS998w7HCFCmLQ+AuHECXMSwj/+0Vxv3tzsAdK6tRkIJCpYnrOcpNlJdGvVjdX3\nu/iuY948M2YwlM8vJsKWa/tRi1po0gQ+/th8n5sL6ekwY4Z8iFiFVTtWkTQ7iQ4tO7hbpH/4Ae64\nw3w2IEQIC+vWh2c9Ka3NebD++7/NB4cDB8KyZfDmm1b2ybzMtHb3WhJnJtK6WWs2D93sXqZjx8zu\neMeP1+1xypHXzxnJ5K6wLtSeef55c/nWW97msNyGXzbQbXo3oiOj2TXc5ZbQzJnQpw+0aOHu4wrh\nAelRB4JSp0/zJCq15cAWOk41J6AtHlOMcvtD1mPHzJ4ecpotYTHZPc8rc+eay6VLvc1hsZzDOYEt\n0mlpZgCWFGkRJsK6UHvSk7rrLjN4qYq33Db2yYKZaeeRnbSb0g6ovkjXOlNBAbzzjhmAFQD1/fVz\nSjK5K6wLddCV/EPwzeIVZe09tpe4yXEAFI0pcn9LGmDPHmjTBi65xP3HFsIj0qN2U0nhqe/PQyUO\nHD9A7MRYAApHF9IgIgDnF9Pa7OVRn8/4K0KK9KiDbdMmc7lmjbc5LJSbn1tapE89dSowRRrgX/8y\nh4sLEWbCulAHtSfVubO57Nq12sVs7JMFMtOxU8eIecEcFZj/ZD6RDZwdfFKrTG+/DSkp/t/PD/Xt\n9astyeSusC7UQbNnj7n86CNvc1jmRMEJmqeamSd5o/Jo3LBxYFd4331w5ZWBXYcQHpAetRvatoVt\n26Q3fYaThSeJei4KgKNPHKVZo8DshVFqyRJzmi2ZNy1CiPSogyUvzxTpadO8TmKNgqKC0iJ9aMSh\nwBfpn36CCRPkD6UIW2FdqIPSk7r1VnN5332OFrexT+ZmpqLiIhqNbwTAvsf3ERNVu6l1fmWaN8/M\nAQ/C8KVwf/3cIpncJe8T66Kw0Ow7PWKE10msUKyLafis+Se1e/huYqNjg7Pihx+WoxBFWJMedV0M\nHmym5BUX1/sTAmitiRhn3qBtf3Q7cWfFBWfF48ebedPduwdnfUK4SHrUgXbmKFMp0qVFeutDW4NX\npPfvh1WrZM63CHthXagD2pOq5ShTG/tkdcl0ZpHOfiCbdme3C16m3FyzNR0bpBYL4ff6BYpkcpfj\nQq2UilBKrVFKfRDIQCHjqafM2+1GjbxO4qkWE8zwqfV/WU/H2I7BW3F+Ppx7LjzwQPDWKYRHHPeo\nlVKPAt2Bs7TWfSv5ef3pUc+da6bkHT5crwfTx02KY+fRnWQOyaT7+UHuEc+cac72/vLLwV2vEC5y\ntUetlIoD+gAz6hosLNQwyrQ+uGTqJew8upMVg1cEv0gXF8Nrr8FjjwV3vUJ4xGnrYzLwOBBSm8wB\n6UnVcZSpjX0yfzP1mN6D7APZLBu0jMQ2id5kmjsXLrwwIOuuTji8fsEgmdxV437USqlbgL1a6yyl\nVBJQ5WZ6SkoK8fHxAMTExJCQkEBSUhJw+kkK5vWsrCz3H79XL3N961bYutXv+5fw4vlw4/q4n8eR\nuTuTF379AuQA8YH5fbJ8fwgr/Pyaa2D2bDLatYM9e4L++5ew5fWw9XqVr1+41YNa/PvJyMggJycH\nf9TYo1ZKPQ/cBRQCTYDmwHta63vKLRf+PepNm8yUvDVrapySF476zutL+pZ0FiYvpF+nft6E+Pxz\neOMNs2ukECHOaY/arwNelFI9geH19sPEenxigAHvDmDehnmk/SGN5C7J3gV59lno1Mnsvy5EiJMD\nXnC5J+XSKFNXM7mkpkxD0ocwb8M8ZvWbFbQiXWWmYcM8LdKh+Pp5QTK5y69CrbVeXtnWdL1QMuf4\n5pu9zRFkjyx6hBlrZvBan9dISUjxNsyAAeBnb0+IcCCzPpzIyzNntX79dbj/fq/TBM2opaNI/SKV\nl254iWGJw7wNs2EDjB0L//xnUKbkCREM0vpwU8ko03pUpMd/Np7UL1IZlzTO+yIN0KSJGYIlRVrU\nQ2FdqF3pSbk8ytTGPln5TJNXTmb0stGMuHoEo3uO9j7Tvn3QvLkVbadQeP1sIJncFdaF2hUlJwRI\nTfU2R5C8nvk6wxYPY+gVQ5nQe4LXcYw334Tp071OIYRnpEddHa0hIsLsZTB/vtdpAm7Ot3MYtHAQ\ng7sOZmbfmV7HMfLzzb7r69ZB06ZepxHCVdKjdkMtR5mGonc2vsOghYNI7pxsT5EGaNAAvvlGirSo\n18K6UNe5JxWAUaY29smen/M8dy64kz7t+5B2R5rXcQDf83T4MEycCC1beh2nlI2vn2RyxsZMToV1\noa6TuXPN5dKl3uYIsMU/LubJT5+kZ9uefDjgQ6/jlPV//wcnTnidQgjPSY+6KkqZUaYHD3qdJGCW\n5ywnaXYS3Vp1Y/X9q72OU1FqKlx/PVx+uddJhAiIgMz6qGGF4VOoMzKgVy/4+WdPRmkGw6odq0ic\nmUiHlh3YPHSz13EqKiqCkyfl7OIirMmHidShJ+UbZRqIIm1Dn2zt7rUkzkykVbNWbB662YpMZWhN\nxqWXwoEDXiepwLrnCsnklI2ZnArrQl0rmzaZyzVrvM0RIBt+2UC36d2Ijoxm9/DdXsep3EcfQfv2\n0KaN10mEsIK0PsoL41GmWw5soeNUcwLa4jHFKFXjOy5v7NwJhw5Bly5eJxEioKT1URsujTK1Uc7h\nnNAo0ps3w6lTUqSFOENYF2q/e1JBGGXqRZ9s55GdtJvSDqi8SFvVu5sxA1autCvTGWzMJZmcsTGT\nU2FdqP2SlwfbtplRpmFk77G9xE2OA6BoTJG9W9Jg2h2LFsGdd3qdRAirSI+6RK9eZre8UP4dyjlw\n/ACxE2MBKBxdSIOIBh4nqkF+PjRsaL6EqAekR+0Pl0eZ2iA3P7e0SJ966pT9RXrLFnNiACnSQlQQ\nmoX6mWfMVLtt2yr+LD4err0W8KMnFcRRpsHokx07dYyYF2IAyH8yn8gG1Q/bt6J3969/mdfOpzST\nw9c6WKx4rsqRTM7YmMmp0CzUSp3eja6yn/lDa5g1y4wytbl/69CJghM0T20OQN6oPBo3bOxxIoca\nNYLf/a7i7W6+1kKEqLB+n5mUlFTzQkEeZeooUy2dLDxJ9PPmkOsjI48QHens8OtAZnLk8GH461+h\n8ek/Kp5nqoKNuSSTMzZmcio0t6jdFIBRpl4oKCog6rkoAA6NOETzxs09TuRQQQH06CFT8oSoRlgX\n6hp7Uh6MMg1En6youIhG480fmn2P7yMmKsbzTI5Nn27aTjFlM9vaT7Qxl2RyxsZMTtXY+lBKNQY+\nAxr5ll+gtR4b6GA1hKr6Z4WFzh/nrrvMKNMWLeqeySPFupiGz5qXcffw3cRGx3qcyE/9+5ut6qq4\n9VoLEcJq3KLWWp8EemmtuwIJwM1KqSsCnqw6JWf8KD8r+uRJ2H160FC1PamSv65ZWa5Gq4mbfTKt\nNQ3Gmd3utj+6nVbNWnmeyS+ffmoO2z/vvAo/Ks3k8LUOFhv7nJLJGRszOeWo9aG1Pu77tjFmq9rb\no0I6dDB7ayxZUvb2SZOguNjZYwRwlGkwaK2JGGdevq0PbSXurDiPE/mpuNicXTw3t/rl3HithQhx\njgq1UipCKbUW2AN8orX+JrCxatC7N3TqBGPGwMiRMG0a3H232c0u9vRb/yp7Uh6OMnWjT3Zmkc5+\nIJt2Z7fzPJPfduyAI0fgN7+p9MelmRy+1sFiY59TMjljYyanHO2ep7UuBroqpc4CFiqlLtVabyq/\nXEpKCvG+gxZiYmJISEgofbtR8iS5cj0igq+efJJfv/IK50ydCo0asbdrV35MTeWqxx4DpcjIyCAr\nK6vy+3fuTAZAbi5Jvuyu5qvmeom6PF6LCS3gJ5jZdyYdYzsGNb9r1zduhIcfJsnXgy7/8yxfSyop\nKQk++IADd91FzJQpNGjSBG68kRWpqXR98EGaVHF/m1+/+nC9zOtnQZ5q60EQr5d8n5OTgz/8nvWh\nlBoDHNNaTyp3e2jM+tizB1q3NqNMAzglL1DiJsWx8+hOModk0v387l7HqZ0lS8zwpRdf9DqJEJ5y\nbdaHUipWKdXC930ToDeQXfeIHgnCKNNAuWTqJew8upMVg1eEbpEGWLjw9GcEQogaOelRtwaWKaWy\ngK+Aj7XWITFZv/zbVRtGmVbI5FCPv/cg+0A2ywYtI7FNohWZau2KK2qc0RH0TA7ZmEsyOWNjJqdq\n7FFrrdcD3YKQJfBuvdVc3n+/tzn8dN3s68jclcmigYtIik/yOk7dbN4MAwdCA8un+Qlhkfozj7qw\nECIjzSjTCRO8TuNY33l9Sd+SzsLkhfTr1M/rOHWzf7/Zkv76a4iK8jqNEJ6TedTlBXGUqVsGvDuA\n9C3ppP0hzbUiHf+3eAa/P9iVx/Lbq6+ao0GlSAvhl7Au1KU9KYtGmTrtkw1JH8K8DfOY1W8WyV2S\nS29/JuMZIsZGsC234nzm+L/Fc+3s6nu/lZ2K68xMxbqYuElxXD798krvPy1zGhFjI/hg8weOfo8y\nhg2DoUMdLWprP9HGXJLJGRszORXWhbpUkEeZ1tUjix5hxpoZvNbnNVISUsr8TKGqPO+hG+dDjFAR\nDPyPgazds5ZN+yrsKs+cdXM4t+m53NL+Fv8eeOZM+PlnaNKkzhmFqG/CulCX7Gxu0yjT0kxVGLV0\nFFO+msKL17/IX3r8xZNMgxIGobVmzrdzyty+9dBWVm5fyYAuA/w7tVdeHrz/PjR3Pnq1pufJKzbm\nkkzO2JjJqbAu1IAno0xra/xn40n9IpWxSWMZftXwOj/ekZNHOHD8QOnX/uP7KdbFnCw6Web2A8cP\ncKLg9DzoS8+9lO7nd2fu+rllHm921myUUtxz2T3+BdmxA7p0gbZt6/w7CVEfhXWhzsjIsG6UaVV9\nsskrJzN62WhGXD2CMT3HuLKufmn9OHfiuaVfv5r4K7bnbmfe+nkVbp+4YmKZ+97zn/ew6+gulmw9\nPQxp7vq5dD63M11bd3UeQmuIizvdfnLI1n6ijbkkkzM2ZnIqrE/FVTrCNMijTP01LXMawxYPY+gV\nQ5nQu/pdB6vrQxcWl53PPOmGSRzKP1TmtoHvDSShVQKPX/V46W1ZWVncftntZZYb8B8DeOyTx5jz\n7Rx6X9Sbz3/+nK2HtjLx+rIFvUZvvAHffSeHiwtRF1prV77MQ1nGbM95naJas7Nma55BD35/sKPl\nX/nqFR0xNkKv3b22zO35Bfm6wdgGutebvaq9f/zf4vW9C+91tK7fp/1eN3u+mc47laf/9P6fdMNx\nDfXuo7sd3VdrrXVRkda33KL1unXO7yNEPeKrmzXW1/BtfXg4ytSp+RvnM2jhIJI7JzOz70xH9+lw\nTge01mVaEgCTVk6iWLs7n3nQZYM4XnCcf3z7DxZ8t4AbLr7B/5MTPPKI6U8LIWotfAt1ySjTrn70\nU4OgpE+Wvjmd5AXJ9Gnfh7Q70hzfv/dFvekU24kxy8YwcslIpmVO4+5/3c2srFm1Pg1XVb27W9rf\nQssmLRmxZARHTh5h0GWDnD9oybD/a6+t1b7rtvYTbcwlmZyxMZNT4Vmo9+wxl5YeKr74x8X0TetL\nz7Y9+XDAh37dN0JF8EH/D0iKT2Lq11N5YukTFBYXsjxlOU0bNa1xX2rl+8+JyAaR9O/Sn6OnjtKi\ncQv6dfTj6MgNG+CVV5wvL4SoUnjO+mjb1kzJsyXPGZbnLCdpdhLdWnVj9f2rvY4TOCNGQPv28Kc/\neZ1ECGs5nfURfoU6Lw+aNTOjTC2bkrdqxyoSZybSvmV7tgzd4nWcwMrLg+hozw/ZF8Jm9Xco0xmj\nTG3qSa3dvZbEmYmcveds64q068/TyJGwfXudirRNr92ZbMwlmZyxMZNT4VWoCwshI8O87bbIhl82\n0G16N6Ijo3kv+T2v4wTWtm2wcSO0aeN1EiHCRni1PgYPNlPyioutecv9/YHv6TC1AwDFY4pdGZxk\ntY0b4auvzGshhKhW/etRaw0REWaU6fz53uU4Q87hHNpNaQfUkyJ9/Lj5I9msmddJhAgJ9a9HXcko\nUy97Ujs5slqwAAATTElEQVSO7Ki0SNvYJ3Mt06uvunaouI3PE9iZSzI5Y2Mmp8Jn1odFo0z3HttL\nm8mmR1s0pij8t6QBTp6Ef/wDPv3U6yRChJ3waH3MnWum5B0+7PmUvAPHDxA70RwhWDi60L+5zaGs\nqAh+/BE6dPA6iRAho371qJUyo0wPHvRm/T65+bnEvBADwKmnThHZINLTPEFz4gSkpcG993qdRIiQ\nUn961CV9p0pGmQazJ3Xs1LHSIp3/ZH6VRdrGPlmdM336Kax29yhLG58nsDOXZHLGxkxO1ViolVJx\nSqlPlVKblFLrlVIPBSOYY716mcsLL/QswomCEzRPNaeZyhuVR+OGjT3L4only6GfO2dJF0JUVGPr\nQynVCmiltc5SSjUDVgP9tNbZ5ZYLfutj0ybo3NmMMvVoSt7JwpNEPRcFwJGRR2je2Pl5AcOC1ma3\nvKZNvU4iRMhxrfWhtd6jtc7yfX8M+A64oO4RXdC5s7n0qEgXFBWUFulDIw7VzyLdrx/s3+91EiHC\nml89aqVUPJAAfBWIMH4pGWX60UdVLhLInlRRcRGNxptdAfc9vo+YqBhH97OxT1brTF99BTExATlc\n3MbnCezMJZmcsTGTU473o/a1PRYAD/u2rCtISUkhPj4egJiYGBISEkpP0V7yJLl2/bLLzPWbb65y\n+aysrICsv1gX03Cweep2T91NbHSs4/uXcP358OL6zz+TdO+9EBHh+uNn+T4ctur3PYMteWy9buPr\nF6h64M/1ku9zcnLwh6Pd85RSDYF/A/+ntZ5SxTLB61GXjDKdNg3uuy846/TRWhMxzrwR2f7oduLO\nigvq+q2xZw9ERsI553idRIiQ5fbueW8Am6oq0kFXMsrUwyK99aGt9bdIgzl7S5rzU4gJIWrPye55\nVwMDgWuVUmuVUmuUUjcFPloV/BhlWv7tal2cWaSzH8im3dntavU4bmZyi9+ZDh+Gt98O6B9KG58n\nsDOXZHLGxkxO1dij1lp/CdhzHHRJcUhNDepqW0wwh6av+/M6OsZ2DOq6rdOkiTnAJbKeHHkphMdC\n6xByj0aZxk2KY+fRnWQOyaT7+d2Dtl4r7doF8+bB8OFeJxEi5IXnIeSVjDINtEumXsLOoztZMXiF\nFGmA9HTTfhJCBE1oFWo/R5nWtSfV4+89yD6QzbJBy0hsk1inx3IrUyD4lWn7dvj97wOWpYSNzxPY\nmUsyOWNjJqdCZx713LnmcunSoKzuutnXkbkrk0UDF5EUnxSUdVqvoMD8sYyK8jqJEPVK6PSogzjK\ntO+8vqRvSWdh8kL6dZJhQ4BpdyQkwGefQcuWXqcRIiyEV4+6mlGmbhvw7gDSt6ST9oc0KdJnmj8f\nbrpJirQQHgiNQl3LUab+9qSGpA9h3oZ5zOo3i+QuyX7dN1CZgsFRpquugiFDAp6lhI3PE9iZSzI5\nY2Mmp+wv1Js2mcs1awK6mkcWPcKMNTN4tc+rpCSkBHRdIWf9erNbZMd6vv+4EB6xv0ddcmLYAPa/\nRy0dReoXqbx4/YsMv0r2D67g/vuhb1+45RavkwgRVsKjR+1glGldjf9sPKlfpDI2aawU6crs2GHe\nzfTp43USIeotuwv1lVeaS98oU3/V1JOavHIyo5eNZsTVIxjTc0yt1uF2Ji9Um6llS1i16vQ7myCx\n8XkCO3NJJmdszOSUvYU6Lw+2bTOjTANgWuY0hi0extArhjKh94SArCPkZWbC5MnQwJ5RL0LUR/b2\nqHv1MrvlBaA3PefbOQxaOIjBXQczs+9M1x8/bDz1FFx6KQwY4HUSIcJSaPeo/Rhl6q/5G+czaOEg\nkjsnS5GuSbNm0psWwgJ2FmqXRpmW70mlb04neUEyfdr3Ie0Ob4be29gnqzTTwYNmQl6Ms3NBus3G\n5wnszCWZnLExk1P2FWqtYdYsM8rUxQ+wFv+4mL5pfenZticfDvjQtccNS3l50KMHFBV5nUQIgY09\n6ueeM73RkycdT8mryfKc5STNTqJbq26svn+1K48Z1saPNycFCEDrSQhxmtMetX2FWikzyjQzs+6P\nBazasYrEmYm0b9meLUO3uPKYYW/fPvM6xMZ6nUSIsBaaHyaWjDJdssSVh/v7u38ncWYirZq1sqZI\n29gnK5Ppo48gN9fzIm3j8wR25pJMztiYySm7CvVdd5lRpi58gLXxl43cl34f0ZHR7B6+24Vw9UBB\ngfl8ID/f6yRCiDPY0/rIyDD7Tv/8s99T8sr7/sD3dJjaAYDiMcWoIB9VF7I2bTKnOwviqc6EqM9C\nr0ft0vClnMM5tJvSDpAi7be8PGja1OsUQtQbodWjdmmU6Y4jO8oU6eXLl9c1mets7JNlZGTAO+/A\niy96HaWUjc8T2JlLMjljYyanaizUSqmZSqm9Sql1AUvRubO57Nq11g+x99he2kxuA0DRmCLZkvbX\nhx+ePkGDEMIqNbY+lFLXAMeAOVrr/6xmudq1Pvbsgdatzd4GtZySd+D4AWInmr0UCkcX0iBChgj5\npbgYZs+Gu++GhqFzvmMhQp2rPWqlVFsgPSCFum1bMyWvlr3p3PxcYl4we4mceuoUkQ0ia/U49dp3\n35mzt0TY0QkTor5wWqi93Xyq4yjTY6eOlRbp/CfzKxTpjIwMkpKS6prSVcHING4c/PSTs2Wb5+/j\nlpW/58YfNwU0k79sfO3AzlySyRkbMznlaqFOSUkhPj4egJiYGBISEkqfmJJGfpnrjzxCEsB991X+\n82quf7zkY2566yZoB3mj8lj5xcoKy2dlZTl+vGBdLxGox//tb5OYMgUOHixZX1LJGiu93rJlEp2f\ne52Mzz8PSJ7aXs/ynXHeljzBev3C5bqNr58N9aDk+5ycHPzhXeujsPD0PIkJ/g3uP1l4kqjnogA4\nMvIIzRs39+v+4W7kSDPv/9Spqpdp0gT++Ef429/grLOCl00IcZrbrQ/l+3JPLUeZFhQVlBbpQyMO\nSZEu5/Bh2Lq16iLdpAmccw7MmwfXXBPcbEKI2nGye94/gRVAB6XUNqXUvXVeay1HmRYVF9FovJmo\nt+/xfcREVX+oefm3qzZwO5PWsHSp2cNRKXME/jvvVL5skyYwdCh8/33ZIl0fnie32JhLMjljYyan\naizUWusBWuvztdaNtdYXaq1n1Xmtzz9vLv04VLlYF9PwWfMGYPfw3cRG19/JbocPw2OPmcIcEQG9\ne5tjhm6/HX74wRTvefPMCVoAoqPNGbW++gpeeAGiorzNL4TwjzeHkPs5ylRrTcQ48zdl+6PbiTsr\nrrYxQ5LW8Omn8NBDpw/iBFNwX34ZBg+ueP7Z/HwzAE9rGDsWHn1UzlErhG3s3T3Pz1GmZxbpHx/6\nsd4U6cOHzfz+l14qe/vtt8P//i9cfHH194+Kgi++gBYtoF27wOUUQgRe8I9w8GOU6ZlFOvuBbC46\n+yK/VmVjT6qqTJX1ml96yRTc6dPNTjJaw7vv1lykSyQkOCvSofQ8ec3GXJLJGRszORXcQl3yRPn2\nsaxJiwktAFj353V0jO0YoFDecdJrPnEChgyRtoUQ9Vlwe9R+jDKNmxTHzqM7yRySSffzu7uQ0Hu1\n6TULIcKXfWNO/RhlesnUS9h5dCcrBq8I+SItW81CiLoKXqF2OMq0x997kH0gm2WDlpHYJrFOq/Si\nJ1VTr3nJkgy/e82BZmPvzsZMYGcuyeSMjZmcCk6h3rPHXH70UbWLXTf7OjJ3ZbJo4CKS4pMCn8sl\nstUshAik4PSoHYwy7TuvL+lb0lmYvJB+nfq5kilQpNcshHCDPT1qB6NM+7/bn/Qt6aT9Ic3aIl3V\nVvNtt8lWsxAisAJfqG+91VyWDGEqZ0j6ENI2pPFG3zdI7pLs6qrr0pNyul/ze+/512u2sU8mmZyz\nMZdkcsbGTE4FtlAXFpp9p0eMqPTHjyx6hBlrZvBqn1e5t2vdZz3VlVtbzYsWmftPnVr5zxMT4bzz\noKgoML+HECLMaK1d+TIPVc6992oNWhcXV/jRE0ue0DyDfvHLFyveL0iKi7VeskTrzp1NzJKvqCit\np0/XurCwdo9bVKT1+edr3aNHxZ99/73WSmn96KN1yy6ECH2+ulljfQ3cFnU1o0zHfzae1C9SGZs0\nluFXDQ9YhMpUttW8caO7veaICBg4EFavhuzssj+bPdus+5576v67CCHqCSfV3MkX5beox483m6cn\nT5a5edKKSZpn0CM+GeHy36aKli1bFrCt5pps2GC2nJ94ouztrVsf1//5n4FZZ20tW7bM6wgV2JhJ\naztzSSZnbMyE51vUTz1lRpk2alR607TMaQxbPIyhVwxlQm//Tr/lj5Kt5l69ArfVXJPOnc2xPSXD\nAgGWL4c9e6JISQnMOoUQYcpJNXfyxZlb1G+9ZTZbDx0qvWl21mzNM+jB7w92/a+SV1vNNZkyReuI\nCK2XLjXXBw/WOjJS6z17vMkjhLALDreoA3PAS8n+bAcPAjB/43ySFyST3DmZtDvSXFlfVfOab7sN\nJk604/Ds/fvhggugf394/XVo1cqcAuvf//Y6mRDCBt4d8FJulOkHmz8geUEyfdr3qVORLtmvuUsX\n5/s1e73fZGws3HyzyTR3Lhw5ApdfvtHTTJXx+nmqjI2ZwM5ckskZGzM55X6h7tXLXF54IYt/XEy/\ntH789sLf8uGAD/1+qGDsoRFogwbBsWMwfLg5V8JVV+33OpIQIsS42/rYuNF8irZmDcvPPkLS7CS6\nterG6vtXO3qMkhkaDz9sCnKJUJ6hUVAA559vukBDhpgWiBBCgPPWh7uF2vf9qu0rSZyZSPuW7dky\ndEu19wuFXrMQQgSCqz1qpdRNSqlspdQWpVTlx4P7rH3nFRJnJtKqWatKi3Rtes21ZWNPSjI5Y2Mm\nsDOXZHLGxkxO1ViolVIRwFTgRqAz0F8p1amyZTeeC902DiU6Mprdw3eX3u5VrznL4bkZg0kyOWNj\nJrAzl2RyxsZMTjV0sMwVwPda658BlFJpQD8gu/yCXR4wl0dHHmPpUu97zYcPHw78SvwkmZyxMRPY\nmUsyOWNjJqecFOoLgO1nXN+BKd6Ve6aYBs+cbrlIr1kIIerGSaGurNFd+SeQzxQTFaWs2UMjJyfH\n2wCVkEzO2JgJ7MwlmZyxMZNTNe71oZT6DfCM1vom3/WRmMMeXyi3nDu7jwghRD3iyu55SqkGwGbg\nOmA38DXQX2v9nRshhRBCVK/G1ofWukgp9SCwGLOXyEwp0kIIETyuHfAihBAiMOo868Ofg2GCRSk1\nUym1Vym1zussJZRScUqpT5VSm5RS65VSD1mQqbFS6iul1Fpfpqe9zlRCKRWhlFqjlPrA6ywASqkc\npdS3vufqa6/zACilWiil3lFKfaeU2qiUutKCTB18z9Ea32WuJf/WH1VKbVBKrVNKzVVKNar5XgHP\n9LDv/7ua64GTWahVfWEK/Q9AWyASyAI61eUx3fgCrgESgHVeZzkjUysgwfd9M0zf34bnKtp32QBY\nBVzhdSZfnkeBt4APvM7iy7MVONvrHOUyvQnc6/u+IXCW15nK5YsAdgFtPM5xvu/1a+S7/jZwj8eZ\nOgPrgMa+//c+AS6uavm6blGXHgyjtS4ASg6G8ZTW+gvgkNc5zqS13qO1zvJ9fwz4DrOPuqe01sd9\n3zbG/M/ueS9MKRUH9AFmeJ3lDIpATJusJaVUc+C/tNazALTWhVrrIx7HKq838KPWenuNSwZeA6Cp\nUqohEI35A+KlS4BVWuuTWusiYDlwW1UL1/UfXmUHw3hefGynlIrHbPF/5W2S0hbDWmAP8InW+huv\nMwGTgcex4I/GGTTwsVLqG6XUEK/DABcB+5VSs3xthulKqSZehyonGZjndQit9S7gJWAbsBM4rLVe\n4m0qNgC/VUqdrZSKxmyYtKlq4boWaucHwwgAlFLNgAXAw74ta09prYu11l2BOOBKpdSlXuZRSt0C\n7PW9+1BU/m/MC1dprS/H/A/1gFLqGo/zNAS6Aa9qrbsBx4GR3kY6TSkVCfQF3rEgSwzmnX5bTBuk\nmVJqgJeZtNbZwAvAEuAjTNu4sKrl61qodwAXnnE9Du/fUljL97ZrAfAPrfX7Xuc5k+9tcwZwk8dR\nrgb6KqW2YrbGeiml5nicCa31Ht/lPuBfVDdGITh2ANu11pm+6wswhdsWNwOrfc+X13oDW7XWB31t\nhveAqzzOhNZ6lta6u9Y6CdOq/b6qZetaqL8Bfq2Uauv7FPWPgBWf0mPX1liJN4BNWuspXgcBUErF\nKqVa+L5vgvkHXWHYVjBprUdprS/UWl+E+ff0qdb6Hi8zKaWife+EUEo1BW7AvHX1jNZ6L7BdKdXB\nd9N1wCYPI5XXHwvaHj7bgN8opaKUUgrzXHl+LIhS6lzf5YWY/nSVz5eTWR9V0pYeDKOU+ieQBJyj\nlNoGPF3yoYuHma4GBgLrfT1hDYzSWi/yMFZrYLZvlG0E8LbW+iMP89jqPOBfvjEJDYG5WuvFHmcC\neAiY62szbAXu9TgPUOaP/n1eZwHQWn+tlFoArAUKfJfTvU0FwLtKqZaYTH/VWudWtaAc8CKEEJaz\nZncjIYQQlZNCLYQQlpNCLYQQlpNCLYQQlpNCLYQQlpNCLYQQlpNCLYQQlpNCLYQQlvv/mmaH7nrq\nBksAAAAASUVORK5CYII=\n",
      "text/plain": [
       "<matplotlib.figure.Figure at 0x7f6e32e64c88>"
      ]
     },
     "metadata": {},
     "output_type": "display_data"
    }
   ],
   "source": [
    "plot_vector2d(u, color=\"r\")\n",
    "plot_vector2d(v, color=\"b\")\n",
    "plot_vector2d(v, origin=u, color=\"b\", linestyle=\"dotted\")\n",
    "plot_vector2d(u, origin=v, color=\"r\", linestyle=\"dotted\")\n",
    "plot_vector2d(u+v, color=\"g\")\n",
    "plt.axis([0, 9, 0, 7])\n",
    "plt.text(0.7, 3, \"u\", color=\"r\", fontsize=18)\n",
    "plt.text(4, 3, \"u\", color=\"r\", fontsize=18)\n",
    "plt.text(1.8, 0.2, \"v\", color=\"b\", fontsize=18)\n",
    "plt.text(3.1, 5.6, \"v\", color=\"b\", fontsize=18)\n",
    "plt.text(2.4, 2.5, \"u+v\", color=\"g\", fontsize=18)\n",
    "plt.grid()\n",
    "plt.show()"
   ]
  },
  {
   "cell_type": "markdown",
   "metadata": {},
   "source": [
    "Vector addition is **commutative**, meaning that $\\textbf{u} + \\textbf{v} = \\textbf{v} + \\textbf{u}$. You can see it on the previous image: following $\\textbf{u}$ *then* $\\textbf{v}$ leads to the same point as following $\\textbf{v}$ *then* $\\textbf{u}$.\n",
    "\n",
    "Vector addition is also **associative**, meaning that $\\textbf{u} + (\\textbf{v} + \\textbf{w}) = (\\textbf{u} + \\textbf{v}) + \\textbf{w}$."
   ]
  },
  {
   "cell_type": "markdown",
   "metadata": {},
   "source": [
    "If you have a shape defined by a number of points (vectors), and you add a vector $\\textbf{v}$ to all of these points, then the whole shape gets shifted by $\\textbf{v}$. This is called a [geometric translation](https://en.wikipedia.org/wiki/Translation_%28geometry%29):"
   ]
  },
  {
   "cell_type": "code",
   "execution_count": 19,
   "metadata": {},
   "outputs": [
    {
     "data": {
      "image/png": "iVBORw0KGgoAAAANSUhEUgAAAWoAAAEACAYAAACatzzfAAAABHNCSVQICAgIfAhkiAAAAAlwSFlz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\ni45/ywAAAABJRU5ErkJggg==\n",
      "text/plain": [
       "<matplotlib.figure.Figure at 0x7f6e32e17a58>"
      ]
     },
     "metadata": {},
     "output_type": "display_data"
    }
   ],
   "source": [
    "t1 = np.array([2, 0.25])\n",
    "t2 = np.array([2.5, 3.5])\n",
    "t3 = np.array([1, 2])\n",
    "\n",
    "x_coords, y_coords = zip(t1, t2, t3, t1)\n",
    "plt.plot(x_coords, y_coords, \"c--\", x_coords, y_coords, \"co\")\n",
    "\n",
    "plot_vector2d(v, t1, color=\"r\", linestyle=\":\")\n",
    "plot_vector2d(v, t2, color=\"r\", linestyle=\":\")\n",
    "plot_vector2d(v, t3, color=\"r\", linestyle=\":\")\n",
    "\n",
    "t1b = t1 + v\n",
    "t2b = t2 + v\n",
    "t3b = t3 + v\n",
    "\n",
    "x_coords_b, y_coords_b = zip(t1b, t2b, t3b, t1b)\n",
    "plt.plot(x_coords_b, y_coords_b, \"b-\", x_coords_b, y_coords_b, \"bo\")\n",
    "\n",
    "plt.text(4, 4.2, \"v\", color=\"r\", fontsize=18)\n",
    "plt.text(3, 2.3, \"v\", color=\"r\", fontsize=18)\n",
    "plt.text(3.5, 0.4, \"v\", color=\"r\", fontsize=18)\n",
    "\n",
    "plt.axis([0, 6, 0, 5])\n",
    "plt.grid()\n",
    "plt.show()"
   ]
  },
  {
   "cell_type": "markdown",
   "metadata": {},
   "source": [
    "Finally, subtracting a vector is like adding the opposite vector."
   ]
  },
  {
   "cell_type": "markdown",
   "metadata": {},
   "source": [
    "## Multiplication by a scalar\n",
    "Vectors can be multiplied by scalars. All elements in the vector are multiplied by that number, for example:"
   ]
  },
  {
   "cell_type": "code",
   "execution_count": 20,
   "metadata": {},
   "outputs": [
    {
     "name": "stdout",
     "output_type": "stream",
     "text": [
      "1.5 * [2 5] =\n"
     ]
    },
    {
     "data": {
      "text/plain": [
       "array([ 3. ,  7.5])"
      ]
     },
     "execution_count": 20,
     "metadata": {},
     "output_type": "execute_result"
    }
   ],
   "source": [
    "print(\"1.5 *\", u, \"=\")\n",
    "\n",
    "1.5 * u"
   ]
  },
  {
   "cell_type": "markdown",
   "metadata": {},
   "source": [
    "Graphically, scalar multiplication results in changing the scale of a figure, hence the name *scalar*. The distance from the origin (the point at coordinates equal to zero) is also multiplied by the scalar. For example, let's scale up by a factor of `k = 2.5`:"
   ]
  },
  {
   "cell_type": "code",
   "execution_count": 21,
   "metadata": {},
   "outputs": [
    {
     "data": {
      "image/png": "iVBORw0KGgoAAAANSUhEUgAAAWoAAAEACAYAAACatzzfAAAABHNCSVQICAgIfAhkiAAAAAlwSFlz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\n40ihFgRB8DhSqAVBEDyOFGpBEASP8//J8JL42Q1Z3wAAAABJRU5ErkJggg==\n",
      "text/plain": [
       "<matplotlib.figure.Figure at 0x7f6e32d3f0f0>"
      ]
     },
     "metadata": {},
     "output_type": "display_data"
    }
   ],
   "source": [
    "k = 2.5\n",
    "t1c = k * t1\n",
    "t2c = k * t2\n",
    "t3c = k * t3\n",
    "\n",
    "plt.plot(x_coords, y_coords, \"c--\", x_coords, y_coords, \"co\")\n",
    "\n",
    "plot_vector2d(t1, color=\"r\")\n",
    "plot_vector2d(t2, color=\"r\")\n",
    "plot_vector2d(t3, color=\"r\")\n",
    "\n",
    "x_coords_c, y_coords_c = zip(t1c, t2c, t3c, t1c)\n",
    "plt.plot(x_coords_c, y_coords_c, \"b-\", x_coords_c, y_coords_c, \"bo\")\n",
    "\n",
    "plot_vector2d(k * t1, color=\"b\", linestyle=\":\")\n",
    "plot_vector2d(k * t2, color=\"b\", linestyle=\":\")\n",
    "plot_vector2d(k * t3, color=\"b\", linestyle=\":\")\n",
    "\n",
    "plt.axis([0, 9, 0, 9])\n",
    "plt.grid()\n",
    "plt.show()"
   ]
  },
  {
   "cell_type": "markdown",
   "metadata": {},
   "source": [
    "As you might guess, dividing a vector by a scalar is equivalent to multiplying by its multiplicative inverse (reciprocal):\n",
    "\n",
    "$\\dfrac{\\textbf{u}}{\\lambda} = \\dfrac{1}{\\lambda} \\times \\textbf{u}$"
   ]
  },
  {
   "cell_type": "markdown",
   "metadata": {},
   "source": [
    "Scalar multiplication is **commutative**: $\\lambda \\times \\textbf{u} = \\textbf{u} \\times \\lambda$.\n",
    "\n",
    "It is also **associative**: $\\lambda_1 \\times (\\lambda_2 \\times \\textbf{u}) = (\\lambda_1 \\times \\lambda_2) \\times \\textbf{u}$.\n",
    "\n",
    "Finally, it is **distributive** over addition of vectors: $\\lambda \\times (\\textbf{u} + \\textbf{v}) = \\lambda \\times \\textbf{u} + \\lambda \\times \\textbf{v}$."
   ]
  },
  {
   "cell_type": "markdown",
   "metadata": {},
   "source": [
    "## Zero, unit and normalized vectors\n",
    "* A **zero-vector ** is a vector full of 0s.\n",
    "* A **unit vector** is a vector with a norm equal to 1.\n",
    "* The **normalized vector** of a non-null vector $\\textbf{u}$, noted $\\hat{\\textbf{u}}$, is the unit vector that points in the same direction as $\\textbf{u}$. It is equal to: $\\hat{\\textbf{u}} = \\dfrac{\\textbf{u}}{\\left \\Vert \\textbf{u} \\right \\|}$\n",
    "\n"
   ]
  },
  {
   "cell_type": "code",
   "execution_count": 22,
   "metadata": {},
   "outputs": [
    {
     "data": {
      "image/png": "iVBORw0KGgoAAAANSUhEUgAAAW8AAAD7CAYAAAClvBX1AAAABHNCSVQICAgIfAhkiAAAAAlwSFlz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\nrkJggg==\n",
      "text/plain": [
       "<matplotlib.figure.Figure at 0x7f6e32f73e80>"
      ]
     },
     "metadata": {},
     "output_type": "display_data"
    }
   ],
   "source": [
    "plt.gca().add_artist(plt.Circle((0,0),1,color='c'))\n",
    "plt.plot(0, 0, \"ko\")\n",
    "plot_vector2d(v / LA.norm(v), color=\"k\")\n",
    "plot_vector2d(v, color=\"b\", linestyle=\":\")\n",
    "plt.text(0.3, 0.3, \"$\\hat{u}$\", color=\"k\", fontsize=18)\n",
    "plt.text(1.5, 0.7, \"$u$\", color=\"b\", fontsize=18)\n",
    "plt.axis([-1.5, 5.5, -1.5, 3.5])\n",
    "plt.grid()\n",
    "plt.show()"
   ]
  },
  {
   "cell_type": "markdown",
   "metadata": {},
   "source": [
    "## Dot product\n",
    "### Definition\n",
    "The dot product (also called *scalar product* or *inner product* in the context of the Euclidian space) of two vectors $\\textbf{u}$ and $\\textbf{v}$ is a useful operation that comes up fairly often in linear algebra. It is noted $\\textbf{u} \\cdot \\textbf{v}$, or sometimes $⟨\\textbf{u}|\\textbf{v}⟩$ or $(\\textbf{u}|\\textbf{v})$, and it is defined as:\n",
    "\n",
    "$\\textbf{u} \\cdot \\textbf{v} = \\left \\Vert \\textbf{u} \\right \\| \\times \\left \\Vert \\textbf{v} \\right \\| \\times cos(\\theta)$\n",
    "\n",
    "where $\\theta$ is the angle between $\\textbf{u}$ and $\\textbf{v}$.\n",
    "\n",
    "Another way to calculate the dot product is:\n",
    "\n",
    "$\\textbf{u} \\cdot \\textbf{v} = \\sum_i{\\textbf{u}_i \\times \\textbf{v}_i}$\n",
    "\n",
    "### In python\n",
    "The dot product is pretty simple to implement:"
   ]
  },
  {
   "cell_type": "code",
   "execution_count": 23,
   "metadata": {},
   "outputs": [
    {
     "data": {
      "text/plain": [
       "11"
      ]
     },
     "execution_count": 23,
     "metadata": {},
     "output_type": "execute_result"
    }
   ],
   "source": [
    "def dot_product(v1, v2):\n",
    "    return sum(v1i * v2i for v1i, v2i in zip(v1, v2))\n",
    "\n",
    "dot_product(u, v)"
   ]
  },
  {
   "cell_type": "markdown",
   "metadata": {},
   "source": [
    "But a *much* more efficient implementation is provided by NumPy with the `dot` function:"
   ]
  },
  {
   "cell_type": "code",
   "execution_count": 24,
   "metadata": {},
   "outputs": [
    {
     "data": {
      "text/plain": [
       "11"
      ]
     },
     "execution_count": 24,
     "metadata": {},
     "output_type": "execute_result"
    }
   ],
   "source": [
    "np.dot(u,v)"
   ]
  },
  {
   "cell_type": "markdown",
   "metadata": {},
   "source": [
    "Equivalently, you can use the `dot` method of `ndarray`s:"
   ]
  },
  {
   "cell_type": "code",
   "execution_count": 25,
   "metadata": {},
   "outputs": [
    {
     "data": {
      "text/plain": [
       "11"
      ]
     },
     "execution_count": 25,
     "metadata": {},
     "output_type": "execute_result"
    }
   ],
   "source": [
    "u.dot(v)"
   ]
  },
  {
   "cell_type": "markdown",
   "metadata": {},
   "source": [
    "**Caution**: the `*` operator will perform an *elementwise* multiplication, *NOT* a dot product:"
   ]
  },
  {
   "cell_type": "code",
   "execution_count": 26,
   "metadata": {},
   "outputs": [
    {
     "name": "stdout",
     "output_type": "stream",
     "text": [
      "   [2 5]\n",
      "*  [3 1] (NOT a dot product)\n",
      "----------\n"
     ]
    },
    {
     "data": {
      "text/plain": [
       "array([6, 5])"
      ]
     },
     "execution_count": 26,
     "metadata": {},
     "output_type": "execute_result"
    }
   ],
   "source": [
    "print(\"  \",u)\n",
    "print(\"* \",v, \"(NOT a dot product)\")\n",
    "print(\"-\"*10)\n",
    "\n",
    "u * v"
   ]
  },
  {
   "cell_type": "markdown",
   "metadata": {},
   "source": [
    "### Main properties\n",
    "* The dot product is **commutative**: $\\textbf{u} \\cdot \\textbf{v} = \\textbf{v} \\cdot \\textbf{u}$.\n",
    "* The dot product is only defined between two vectors, not between a scalar and a vector. This means that we cannot chain dot products: for example, the expression $\\textbf{u} \\cdot \\textbf{v} \\cdot \\textbf{w}$ is not defined since $\\textbf{u} \\cdot \\textbf{v}$ is a scalar and $\\textbf{w}$ is a vector.\n",
    "* This also means that the dot product is **NOT associative**: $(\\textbf{u} \\cdot \\textbf{v}) \\cdot \\textbf{w} ≠ \\textbf{u} \\cdot (\\textbf{v} \\cdot \\textbf{w})$ since neither are defined.\n",
    "* However, the dot product is **associative with regards to scalar multiplication**: $\\lambda \\times (\\textbf{u} \\cdot \\textbf{v}) = (\\lambda \\times \\textbf{u}) \\cdot \\textbf{v} = \\textbf{u} \\cdot (\\lambda \\times \\textbf{v})$\n",
    "* Finally, the dot product is **distributive** over addition of vectors: $\\textbf{u} \\cdot (\\textbf{v} + \\textbf{w}) = \\textbf{u} \\cdot \\textbf{v} + \\textbf{u} \\cdot \\textbf{w}$."
   ]
  },
  {
   "cell_type": "markdown",
   "metadata": {},
   "source": [
    "### Calculating the angle between vectors\n",
    "One of the many uses of the dot product is to calculate the angle between two non-zero vectors. Looking at the dot product definition, we can deduce the following formula:\n",
    "\n",
    "$\\theta = \\arccos{\\left ( \\dfrac{\\textbf{u} \\cdot \\textbf{v}}{\\left \\Vert \\textbf{u} \\right \\| \\times \\left \\Vert \\textbf{v} \\right \\|} \\right ) }$\n",
    "\n",
    "Note that if $\\textbf{u} \\cdot \\textbf{v} = 0$, it follows that $\\theta = \\dfrac{π}{2}$. In other words, if the dot product of two non-null vectors is zero, it means that they are orthogonal.\n",
    "\n",
    "Let's use this formula to calculate the angle between $\\textbf{u}$ and $\\textbf{v}$ (in radians):"
   ]
  },
  {
   "cell_type": "code",
   "execution_count": 27,
   "metadata": {},
   "outputs": [
    {
     "name": "stdout",
     "output_type": "stream",
     "text": [
      "Angle = 0.868539395286 radians\n",
      "      = 49.7636416907 degrees\n"
     ]
    }
   ],
   "source": [
    "def vector_angle(u, v):\n",
    "    cos_theta = u.dot(v) / LA.norm(u) / LA.norm(v)\n",
    "    return np.arccos(np.clip(cos_theta, -1, 1))\n",
    "\n",
    "theta = vector_angle(u, v)\n",
    "print(\"Angle =\", theta, \"radians\")\n",
    "print(\"      =\", theta * 180 / np.pi, \"degrees\")"
   ]
  },
  {
   "cell_type": "markdown",
   "metadata": {},
   "source": [
    "Note: due to small floating point errors, `cos_theta` may be very slightly outside of the $[-1, 1]$ interval, which would make `arccos` fail. This is why we clipped the value within the range, using NumPy's `clip` function."
   ]
  },
  {
   "cell_type": "markdown",
   "metadata": {},
   "source": [
    "### Projecting a point onto an axis\n",
    "The dot product is also very useful to project points onto an axis. The projection of vector $\\textbf{v}$ onto $\\textbf{u}$'s axis is given by this formula:\n",
    "\n",
    "$\\textbf{proj}_{\\textbf{u}}{\\textbf{v}} = \\dfrac{\\textbf{u} \\cdot \\textbf{v}}{\\left \\Vert \\textbf{u} \\right \\| ^2} \\times \\textbf{u}$\n",
    "\n",
    "Which is equivalent to:\n",
    "\n",
    "$\\textbf{proj}_{\\textbf{u}}{\\textbf{v}} = (\\textbf{v} \\cdot \\hat{\\textbf{u}}) \\times \\hat{\\textbf{u}}$\n"
   ]
  },
  {
   "cell_type": "code",
   "execution_count": 28,
   "metadata": {},
   "outputs": [
    {
     "data": {
      "image/png": "iVBORw0KGgoAAAANSUhEUgAAAWoAAAD7CAYAAABDld6xAAAABHNCSVQICAgIfAhkiAAAAAlwSFlz\nAAALEgAACxIB0t1+/AAAIABJREFUeJzt3Xt0FeW9//H3E4JAiBAVAREBLwfFWgzqQRpEgyJHtIJS\nqVRqpaWoK/JD7PFCpQjVo3i09VLFAygKqK0XBARveIFIoIpCQYOItGCUi9xqQAS5JHl+fzy5wk4y\ngdl7ZrI/r7WyJjN79uwPs/S7J9+ZecZYaxERkfBKCTqAiIjUTIVaRCTkVKhFREJOhVpEJORUqEVE\nQk6FWkQk5FL92pAxRtf5iYjUkbXW1LaOr0fU1tpQ/4wZMybwDMqpnMqpnGU/XiVV66OgoCDoCJ4o\np7+U01/KmXhJVahFRKIoqQr14MGDg47giXL6Szn9pZyJZ+rSJ6lxQ8ZYv7YlIpIMjDHYRJ9MDLvc\n3NygI3iinP5STn8pZ+IlVaEWEYkitT5ERAKi1oeISD2RVIU6Kj0r5fSXcvpLORMvqQq1iEgUqUct\nIhIQ9ahFROqJpCrUUelZKae/lNNfypl4noY5NcYUADuAEmC/tbZrPEOJiEgFTz1qY8xa4GxrbWEN\n66hHLSJSB373qE0d1hURER95Lb4WmGuM+dgYMzSegeIpKj0r5fSXcvpLORPPa6HOstaeA1wK3GSM\nOS+OmZLbl1/C6tVBpxCREPF0MtFau6l0utUYMxPoCiw8cL3BgwfToUMHADIyMsjMzCQ7Oxuo+HYL\ner5MWPJUmd+xg+ybbiK7dWtyO3YMPo+H+TJhyRNrPjs7O1R5apovE5Y82p/+58nNza3z02dqPZlo\njEkDUqy13xtjmgJvA3+01r59wHo6mXg49uyBn/wEPv0UevaEd98NOpGIxJmfJxNbAQuNMcuAD4E5\nBxbpqDjwWzY0Skrgqqtg1SooKSG3uDjoRJ6Edn8eQDn9pZyJV2vrw1r7JZCZgCzJ65ZbYP58d1QN\nkJERbB4RCRWN9RG0v/wFfv972L27YtmYMTB2bGCRRCQxvLY+PJ1MlDiZPRtGjoQffqhYdsQRcNRR\nwWUSkdBJqptYQtWzWrIEfvGLqkUaoGFDcr/5JphMdRSq/VkD5fSXciZeUhXq0CgogIsvrtruKNOg\nAaSnJzySiISXetSJVlgImZmwfr272uNAzZvDrFlQev2liNRfGo86rMaMgQ0bYhdpAGtdsRYRKZVU\nhToUPavbbnOX42VkwJFHHvx6cTG5q1YlPtchCMX+9EA5/aWciZdUhToUTjgBHnwQtm6FUaPcsiOO\ngMaN3e9FRdC0aXD5RCR01KMOUkYG7NgB33wDzzwDjz0G27fDd99Bqq6cFKnvvPaoVaiDsm8fNGoE\nEybADTe4Zda6Iq0etUhS0MnEGELVs7r5Zje9/vqKZcZA8+bhylkD5fSXcvorKjm9SKpCHSoTJsAF\nF7jiLCJSA7U+gvDee9CrF2zbBsccE3QaEQmIetRhVnYUrf0lktTUo44hFD2rHTvc9I03ql0lFDk9\nUE5/Kae/opLTi6Qq1KEwcKCb9ukTbA4RiQy1PhLNGLjuOpgyJegkIhIwtT7CaNo0N50wIdgcIhIp\nSVWoA+9ZXXdd1dvFqxF4To+U01/K6a+o5PQiqQp1oNatc9MPPww2h4hEjnrUidKpk3vKuPaRiJRS\njzpMSkpckR4zJugkIhJBSVWoA+tZ3Xuvm951l6fVo9JbU05/Kae/opLTi6Qq1IG56y7o2BFStLtF\npO7Uo4635cuhSxf46ito1y7oNCISIhrrIyyaNIE9e3QSUUQOopOJMSS8Z7V3ryvSTz9dp7dFpbem\nnP5STn9FJacXSVWoEy4nx00HDw40hohEm1of8WQMXHwxvP120ElEJITU+gjaW2+56UsvBZtDRCIv\nqQp1QntWZcOYZmTU+a1R6a0pp7+U019RyelFUhXqhCksdFO1PETEB5571MaYFGAJsN5a2zfG6+pR\nl7noIpg3T5fkiUiN4tGjvhlYeeiRkoS1rkgPHRp0EhGpJzwVamNMW+BS4Kn4xomvhPSsJk9208cf\nP+RNRKW3ppz+Uk5/RSWnF16PqB8GbgP0t3xthg6F9HT3gAARER+k1raCMeYyYLO1drkxJhuotp8y\nePBgOnToAEBGRgaZmZlkZ2cDFd9uQc+Xicv2N20iG+Dvfz+s7WVnZ4dmfwW6P32a1/7U/gxTntzc\nXAoKCqiLWk8mGmPuA34JFAFNgCOBGdbaXx2wnk4mnnwyrF2rk4gi4olvJxOttXdaa9tZa08CBgLz\nDizSUXHgt6yvSkpckS4be/owxDWnj5TTX8rpr6jk9ELXUful7Oktv/99sDlEpN7RWB9+MQbOOAPy\n84NOIiIRobE+EmnJEjctG99DRMRHSVWo49azOvdcNz3+eF82F5XemnL6Szn9FZWcXiRVoY6LH35w\nJxKfey7oJCJST6lHfbiuvdYV6WT8t4vIYdEzExPFGPjpT2HOnKCTiEjE6GRiDL73rMqK81//6utm\no9JbU05/Kae/opLTi6Qq1L7rWzra65FHBptDROo1tT4O1bZtcOyxMH8+lN7PLyJSF+pRx1uPHrBw\noU4iisghU486Bt96Vta6Ij1smD/bO0BUemvK6S/l9FdUcnqRVIXaN0884aYPPRRsDhFJCmp9HApj\n4Oij4d//DjqJiESYWh/x8q9/uenChcHmEJGkkVSF2peeVc+ebtqp0+FvqxpR6a0pp7+U019RyelF\nUhXqw1ZcDOvXw5/+FHQSEUki6lHXxe23w4MPukGYTK1tJRGRGuk66ngwBs46C5YuDTqJiNQDOpkY\nw2H1rD74wE1ff92XLDWJSm9NOf2lnP6KSk4vkqpQH5asLDdt3TrYHCKSdNT68GLXLkhPh5deggED\ngk4jIvWEetR++vnP4eWXNa6HiPhKPeoYDrln9fLL0L+/r1lqEpXemnL6Szn9FZWcXiRVoT4kM2a4\n6bRpweYQkaSl1kdtyq6Xro//NhEJlFoffti82U01roeIBCipCnWde1aXX+6m3bv7nqUmUemtKae/\nlNNfUcnpRVIV6jqxFj7+GH73u6CTiEiSU4+6Og8/7Ir0/v2Qmhp0GhGph3Qd9eEyxt2F+M03QScR\nkXoquU8mzpgB99wDffpAYWH54s/GjKnoO9dk1So3ff/9OAWsWVR6a8rpL+X0V1RyelH/CvXGjVBQ\nAKNHu2mlYtsyNxeOPLL2bZx/vpt27BiPhCIidVL/Wh9Tp7qj5vXr4eyz4auvoE0b91qrVnDffTBk\nSPXvLyqChg3h0Udh+PDEZBaRpORbj9oY0whYABwBpALTrbV/jLFeOAp1mVtugZUrYe5cN79yJfz4\nx+6ZhyeeWP37RoxwRVoPBxCROPOtR22t3Qv0tNZ2ATKBPsaYrj5kjK/p0+GqqyrmFyzgh5Ytay7S\n4Ip0t26BFumo9NaU01/K6a+o5PTCU4/aWru79NdGuKPqEB06x1BYCBs2QNdK3ycLFrC9Sxf3+333\nxX7fggVuOnt2fPOJiNSBpx61MSYFWAqcDIy31v4+xjrhaX3s3QsZGbB4MXTuDKtXu4H///AHuOIK\neOcdGDr04PdpXA8RSSCvrQ9Pd3JYa0uALsaYZsAsY8zp1tqVB643ePBgOnToAEBGRgaZmZlkZ2cD\nFX+GJGS+USM+v/lmjhk+nJa9e0PLlqwYPpzjXnyRYzZsgHHjDn7/G2+4+ZkzE59X85rXfFLMl/1e\nUFBAnVhr6/QD3AX8LsZyG3bz58+v/sV+/awNyb+hxpwhopz+Uk5/RSFnad2ste7W2qM2xrQwxjQv\n/b0J0AtYVbevgwh49VUYODDoFCIiB/Fyed6Pgam4E48pwIvW2ntjrGdr21Zo/e1vcM017tmIaWlB\npxGRJKGxPupCJxFFJADJPdZHNSo39Mtt3OimixcnNEtNYuYMIeX0l3L6Kyo5vUiqQh3TpZe6adfw\n38MjIskpuVsf1kJKCowcCePGBZ1GRJKMWh9ePPCAm/7P/wSbQ0SkBklVqA/qWY0cCe3aQYMGgeSp\nTlR6a8rpL+X0V1RyepFUhbqKFSvcdP78YHOIiNQieXvUGRmwY4cuyRORwKhHXZN9+1yR/r//CzqJ\niEitkqpQl/esbr7ZTW+4IbAsNYlKb005/aWc/opKTi+SqlCXmzDBPRdRT3ARkQhIvh71e+9Br16w\nbRscc0zQaUQkiWmsj+poXA8RCQmdTIwh97XX3C9l05CKSm9NOf2lnP6KSk4vkqpQc/fdbnrZZcHm\nEBGpg+RqfRgDv/oVTJ0adBIREbU+DjJtmptOnBhsDhGROkqeQn3ddeSmpEDjxkEnqVVUemvK6S/l\n9FdUcnqRHIV63To31Z2IIhJBydGj7tQJVq3SJXkiEirqUZcpKXFF+q67gk4iInJI6n+hvrf0gelj\nxkSmZ6Wc/lJOfyln4tX/Qn3XXXDKKe6RWyIiEVS/e9TLl0OXLlBQAO3bB51GRKQKjfUB0KQJ7Nmj\nk4giEko6mbh3ryvSTz9dvijontXkyZNp3bo1u3fvrnG9oHN6pZz+Uk5/RSWnF/W3UOfkuOngwYHG\nqKx169YMHTqUtLS0oKOISITU39aHMW7c6XfeCTqJiEhMyd36eOstN3355WBziIj4oH4W6j593DQj\no8risp7VpEmTGDZsGMOHD2ft2rXcfffdjB49mgEDBrB9+3YAHnnkEXJycujbty8vvPACw4YNIysr\ni1tvvbXKNqdMmUJOTg733XcfQ4YM4e233z4ozhNPPMG4cePo2bMnW7ZsqTV+Wc4ZM2Zwzz330KdP\nHwoLCwFYsmQJLVq0YOXKlXXZI3ERlR6gcvpLORMvNegAvistaMQomAAbN26kpKSEO++8k7Zt29K0\naVPGjRsHwI033sjIkSMZPnw4Rx99NLfffjsnnXQSrVq14sknn6R3795s2rSpfFvXXnstxhimTp2K\nMYbCwkJOOukkPvnkE9q1awe4Qp6VlUVmZiYzZ87k+eef55Zbbqn1n7FhwwbWrVvH6NGj6dSpE++/\n/z5XXHEFbdq0wRjD559/zumnn36YO0tEIsFa68uP21QIXHihtTVkeeWVV+zXX39t33vvPZuenm6L\niorKX7v99tvtqaeeavPy8uzOnTvtzJkzbXp6ut21a9dB23nwwQdty5Yt7e7du6ssb9mypR0/fry1\n1tri4mI7ZswYa621JSUltnnz5nbKlCme/hlPPfWULSwstPn5+bZhw4b2m2++KX/tjjvusB9//LGn\n7YhIeJXWzVrra62tD2NMW2PMPGPMSmNMvjFmeNy/PQ6VtTBvHvz2t9Wu0r9/f0444QTy8vLo3r07\nDRo0KH8tPz+fI488kvPOO4/09HTmz59P9+7dD7pKY//+/Tz44IMMGTKEJk2alC/ftWsXW7duZc+e\nPQCkpKQwduxYAJYtW8bOnTvp0aOHp3/KkCFDyMjIKD+Sb926dflrTZs25ayzzvK0HRGJPi896iLg\nd9ba04GfADcZY06Lb6xD9NRTbjp+fMyXK/es8vLy6NmzZ/n8/v37WbhwIRdeeGH5snnz5lVZp8yq\nVavYunXrQa+9+eabGGPIzs4+6D0LFy7kuOOO46STTqr1n1E550svvUT//v2rvF5SUkJKCG6Jj0oP\nUDn9pZyJV+v/7dbaTdba5aW/fw98Dhwf72CH5PrroWlTOOKIGlcrLi7mww8/rFJoZ82aRUlJCTml\n119v3bqVlStXxizUxcXFGGNo27ZtleVPPvkkl112Wcyj3by8PM4//3wA9u7dy8SJExk4cCBFRUUA\nDB069KAThFu3bmXz5s1Vtjd37tyYXwQiUo956Y/Yij50B6AASI/xWkJ6OtX68kvXm/7kk1pXXbx4\nsU1JSbGzZ8+21lq7bds2e+KJJ9pp06aVr/PCCy/YZs2a2eLi4oPeX1JSYk899VQ7a9as8mWTJk2y\nnTt3ttu2bYv5ma1bt7ZPPPGEtdb1yffs2WNPO+208v53u3btDup379u3zzZt2tQuWbLEWmttYWGh\nHT16dK3/PhGJBjz2qD1f9WGMSQemAzdbd2QdLhdd5KadO9e6al5eHtnZ2eTn57Ns2TL++c9/MmHC\nBHr37l2+zldffcXVV18ds8VgjGHOnDmMGjWK5cuXs337dtLT0/nggw9i3nW4evVqNm/eXH5E3adP\nHz7//HNOOeUU0tLS+PLLLzn++OOr9LsBGjZsyLPPPsv9999PZmYm+/fv584776zLXhGResBToTbG\npOKK9LPW2lerW2/w4MF06NABgIyMDDIzM8v/TC/rF8VlvqSE3LVr4Te/Ibs0S6z1ly9fzogRI8jL\ny+O4444jKyuryuu5ubnl8127dqVr167l/7YDt7dhwwZycnKqvP+jjz6KmS8vL49mzZqxdetWAJo0\nacLjjz9Ox44dAVi0aBHt27fnjTfe4NJLL63SW7vyyiu58sory5c1Ln3mY1z3p8f5sv0ZljzVzVfe\nn2HIU9289mf9359lvxcUFFAnXg67gWnAQ7Wsk5i/FSpZu3atHTRokM1u394OArt2zZoa158/f761\n1toWLVrYOXPmxDXbihUrylsZAwYMsNdcc02V13NycuzcuXOttdYOHjzYzpw50z799NNVcoadcvpL\nOf0VhZx4bH3UOtaHMaY7sADIB2zpz53W2rcOWM/Wti0/ffnll1x88cWsWbOmfNnJJ5/MO++8w4kn\nnljt+/Lz8znzzDPZtGkTLVu2jEu21atX06lTJyZMmEBWVhY9e/Zk0aJF/Md//Ef5On//+9958cUX\n6datG5s2beLbb7+lV69eXHDBBXHJJCLh43Wsj8je8DJo0KCyLw0LAy2cYgE7aNCgat/z8ssv29NP\nP92mpKTYvn372hUrVsQl2/bt2+35559v77jjDjto0CCbn58fl88RkWjDrxtewmrDhg2V5tKAEsDd\nIr5zZ+z3tGjRgs8++4zi4mJeffVVfvSjH8UlW/PmzXn//fe5//77ee655zjjjDPq9P7K/awwU05/\nKae/opLTi8gW6jZt2lSaexpYC0CrVu0480zYtSuQWCIivovseNRXXXUVM195pfQ42inrUbdteyIN\nG7pla9a40U5HjkxYNBERT+r1eNQ7duzgs88+Ky/S55xzDoMGDSo/kVhWpME9NrFyh2PzZqjlSVgi\nIqESuUK9b98+rrrqKlatWlW+rF+/fjz33HMxr/Zo0wYuv9z9npuby9/+BpMmJSrtoYlKb005/aWc\n/opKTi8iVag//PBDTjvtNN59993yZampqYwaNcrzNkaMcD9lbr4ZvvjCz5QiIv6KVI96zJgx3H33\n3VWWtWjRovyOv0Mxfz506+ZaJNbCokWQlQUpkfoKE5Eoqlc9amstU6dOPahIA6SlpfHdd98d8rZ7\n9nRFGmD7dnjggUPelIhIXIS+UBcXF9OlSxeGDBkS8/U9e/awdOlST9uqrWd11FEwe3bF0fQbb8Dt\nt9clrT+i0ltTTn8pp7+iktOL0D8zcc+ePezcuZPi4uKYr59xxhkxx4z2Q3Y2nHpqxfwHH0CrVuBh\n7H8REd9EokddVFTExIkTGTt2LN9u21bl2un+/fvzyiuvxOVzDzRpEpxyCpQ9BKakRL1sETl09apH\nnZqaSk5ODstnzmQ6cP7ZZ5cPcFRcXFz+lJR4u/76iiJtLZxzDqxfn5CPFpEkFolCDe6bJ+PnP+cS\n4P0lS/jiiy9YsGABa9asKX+YbG387FkZA3PnQtnTuHbvhsce82fbUemtKae/lNNfUcnpRWQKtS0q\nouM337DxjjsAV7h79OjB0qVLSU9PDyTTscdW/P7dd7B/f8X8Dz9ANW11EZE6iUSPGuBfQ4fys6ee\n4pOSEnc4G3JPPw0rVsBDDwWdRETCymuPOjKFercxNDrzTBosXx63z/Db3r3QqJH7fdIkOPdcOPPM\nYDOJSHjUq5OJG2fPJh9o8NZbta5bk0T3rMqKNEDr1u467TLr1lX/vqj01pTTX8rpr6jk9CIShfqh\nfv2YDK7aRVTfvtCunft9/3647DLX1xYRqU34Wx+7dvGn9HR6P/AAnW+7zf/tB8Tailb76tUwcSL8\n+c/BZhKRxKo3PWo7YAC7pk8nPYEPJUi0wkLIz4fzz3fzX33l2iYR/gNCRDyoNz3q26dPZ3efPr5s\nK6w9q6OOqijSAOPH5zJrVnB5vArr/jyQcvpLORMv1IX6n48/zl+Ao//616CjJNSll8KNN1bM/+pX\n8OmnweURkWCFuvWxzRhWAufX47aHFytXuoGgGjd2ve2ZM93JydTQD6klIjWJfOvDbtpEY+D8vLyg\nowTu9NNdkQbYuRNefx0aNHDzSf4dJpIUQluoH+3alXsBzjvPt21GpWdVU85mzWDy5IorRt54A6oZ\nqjvu6sP+DBPl9FdUcnoRzj+ereX1devIKXsqrVSrTx83il+Zd991Y5DoDkiR+iOcPeqHH+bb3/2O\n5nv20KDy7X1Sq+nT3ZPXs7Lc/A8/VDxqTETCJdLXUS81hs7HHkvDLVt82V4yy8x0Jx9PPDHoJCJy\noMieTNz2wQecA+x+803ftx2VnpWfOT/8sKJIf/89jBrl3wnIZNyf8aSc/opKTi9CV6gLLr2UW4Hm\nZ58ddJR6oexqEYB9+9yjxMpORH73nSveIhJu4Wp9FBXxfcOGpD/6KAwf7ksuqd5LL8GiRfDoo0En\nEUlOkexRLxwwgMLp07k8Ig8HqA8qDw71pz9B9+7wk58Em0kkWfjWozbGTDbGbDbGxP0m5rHTp7Ou\nQ4e4Femo9KwSmbPyrs7KgvbtK+aXLav5cWLan/5STn9FJacXXnrUzwD/Fe8gLFjAYODa996L+0dJ\nbFlZ7tI+cAX6v/9bPWyRMPDU+jDGtAfmWGs717DOYbU+9hmDBRrpnuhQ+vxzGDcOpk0LOolI/eG1\n9RGKOxN/2LKFXsC7L7wQdJSktH27u4yvJvv2QbduUPY0tHXroFcvXZ8tkgi+FurBgwfToUMHADIy\nMsjMzCQ7Oxuo6BfFmn/v8svZDCxu1Yrs0m3VtP6hzi9fvpwRI0bEbft+zVfurSXi88aPh7Fjc2nU\nCFJT3etFRe71WPO7d8P+/bn85jfLmTxZ+9Ovef33Wf/3Z9nvBQUF1Im1ttYfoD3waS3r2EP1Hdgt\n/fod8vu9mj9/ftw/ww+JzrlkibVNm1rrrgGp+Sc11dpmzaydM0f702/K6a8o5Cytm7XWYK896g64\nHvWPa1jHetnWgb596ikYOpSjd+2CtLQ6v18On7XuJOKmTTWvl5YGP/4xzJhRcdJRRA6dn5fn/RX4\nO9DRGPO1MebXfgQs8/+GDuX/QEU6QMXF7nFgZWNcx9KkCYwc6W6QUZEWSaxaC7W19hprbRtrbSNr\nbTtr7TO+ffrGjewArpkxw7dN1qRynyjMEpFzzx74wx/cddQNG7qrOmJdM92oEbRqBfPmwejRVYu5\n9qe/lNNfUcnpRaBjfZRccgkvASdeeWWQMZLGzp0wbJgrzk2awL33QvPm8NprUFJS9WYXcH/k9O4N\nX3zhrvgQkWAEdgu5LSlhQoMGDL3tNlIfeMCXDHKwbdtgxAh4/vmKZe3bu+uhKz/5HODuu+G++9yl\neE2awF/+Ar/5je7mF4mX0I/1kXfjjQycOJH1+/dj9JRWX61bBzk57ki5TOfOMGUKdOlS/fv+9S/o\n2BFOPhnmzIHTTot7VJGkFvrxqBtPnMjjxxyT0CIdlZ7VoeRcvdodIRsD7dq5It2jh2tbWAuffFJz\nkQY3BOpHH0F+vrciXZ/3ZxCU019RyelFMIeyK1bQCfjPxYsD+fj6YtkyuO46V1jLXH45PPEEtG17\naNus/PxFEQmHQFofjzRuzAl79/IzjetRZwsWwC9/6dobZa69Fh56CFq0CC6XiNRdaFsfdu9e/nfv\nXtrcdluiPzqSrHX94ubNXVvjggtckR42zD2hxVp3YlBFWqT+SnihNiNG8BrQ7f77E/3RkelZzZ+f\ny/PPu8KckgJ9+7qiPGqUe6q4tfDYY3DkkcHmjMr+VE5/KWfiJbxHvXXCBLqcdx4mJXSPawxUSQlM\nmAA33VR1+YMPusvrdGGMSPJKaI/6iylTuPDXv2bdli2kHHusL58bZfv3u0I8alTV5U8+6a5f1neZ\nSP0WyuuopxnDh8ATSXwScfduGDvWFegyDRvCc8/BgAG6uUQkmYTvZOKOHfQHxs+Zk7CPPFBQPavt\n2+GGG1wRbtrUFekWLdwg/Na6OwF//vOKIh2V3ppy+ks5/RWVnF4krFAv7dOHbwDz058m6iMDtXkz\nDBzoiu9RR8GkSe6Ov0WLXHHeuhX+K/5PohSReiBhrY8zjOF/LriAK+rRt9yBvvrKHTnPnVux7Oyz\n4Zln3DjOIiKVheqZiUVPP82FwKWzZyfi4xJq5Up34q/yTZYXXQQTJ7ojaBGRw5WQ1kfRkCH8uUED\njmjWLBEfVy2/elYffQSdOrm2xo9+5Ip0//6wYYNra7z77uEV6aj01pTTX8rpr6jk9CLuhbowP59b\ngdTaHnMdcvPmuSebGAPnngurVsGvfw3//rcrzq+8oiefiEh8xL1H/ZdWrXh9yxbmRuySPGth1iwY\nNMjdDVjmllvcuM3p6cFlE5H6IRw96pIS+mzZwiU5OXH9GL9YC1OnuiPlyv74R7jjDvdYKhGRRItr\n66Pk7rs5Duj42GPx/BjPYvWsiovhkUcqxtUoK9KPPAJFRa5433VXYot0VHpryukv5fRXVHJ6EddC\nfcUf/8j7xx0Xunuh9+51R8nGuDE0brnFLZ8yxY25YS3cfHPNT+X2w4wZcM890KcPFBa6ZUuWQL9+\n3Vm5Mr6fLSLREbce9Z7FizmhWze+WL6co88805fPOBy7drmnaD/8cMWytDT3LMF+/RJ/6/aGDTB9\nuvtC6NQJxo2DK66AjRvhzDPdAE0/+1liM4lIYgXeo0694ALWAM0CLNLffgu33upuOClz3HFuXI0L\nLwwsFuBuH7/uOlixAtasqXjKd5s2MGTIwU8EF5HkFZeexP7vv2fp3r00mzw5Hpuv0caN7ppmY+CY\nY1yR7tQTcRKnAAAGyElEQVTJXfs8f34uGzcGX6TBFeOMDDdSXu/e0Lp1xWtbtnzJWWcFl82rqPQA\nldNfypl4cSnUsy6/nBvh4Msn4mTNGnc3oDFw/PEwc6Y7Qv3sM9dvXrkS/vM/ExKlzl56yX2xVGZt\n6Nr6IhKguPSonzGGtDPO4OrKT131WX6++x5YurRi2SWXuN5uVNoGW7dCq1bwj39AZqZbNncuNG7s\nHrklIvVbcMOcvvUWA4Cr8/J83/QHH8App7gj586dXZG++mrYtMkdhb75ZnSKNLjWR1qau0QQ3HCo\nixapSItIVb4X6if79KEAXBXywdy5buxmYyAry7U5brjBFTVr4YUX3FGpF2HrWTVsCM8+C/ffD/fe\n667dvvPO8OWsjnL6Szn9FZWcXvh61cfeTZu4CVg1Zcohb8NaePlld+t2UVHF8jvucDeepKUddsxQ\nufJK9yMiUh1fe9S7evRgZl4eg+q4zZISmDwZrr++6vL77nOX1zVs6EtEEZFQCeQ66pK8PAb99ree\n1i0qcn/q33Zb1eXjx7vWRrzvChQRiQpPPWpjzCXGmFXGmNXGmDuqW+96cJW2Gnv2wB/+4PrNDRtW\nFOnnnqu4dTsnJ35FOio9K+X0l3L6SzkTr9ZCbYxJAR4H/gv4EfALY8xpsdY9ITUVjjiiyrKdO2HY\nMFecmzRxJ82aN4fXXqsozoMGJeYW7uXLl8f/Q3ygnP5STn8pZ+J5OaLuCvzTWvuVtXY/8ALQL9aK\no0svydu2DX75S1d8mzVzB9nt28P777vCvH07XHZZ4sfX2L59e2I/8BApp7+U01/KmXheetTHA+sq\nza/HFe+D/OLebrz2WsV8585uRLouXQ4joYhIkvNyRB3ruDfmZR2vvQY9esAXX7gj508+CVeRLigo\nCDqCJ8rpL+X0l3ImXq2X5xljugFjrbWXlM6PBKy19n8PWC9az9oSEQkBL5fneSnUDYAvgIuAb4CP\ngF9Yaz/3I6SIiNSs1h61tbbYGDMMeBvXKpmsIi0ikji+3ZkoIiLxcdiDMnm9GSZIxpjJxpjNxphP\ng85SE2NMW2PMPGPMSmNMvjFmeNCZYjHGNDLGLDbGLCvNOSboTNUxxqQYY/5hjJkddJbqGGMKjDGf\nlO7Pj4LOUx1jTHNjzMvGmM+NMZ8ZY84NOtOBjDEdS/fjP0qnO0L8/9EtxpgVxphPjTHPG2OOqHbd\nwzmiLr0ZZjWuf70R+BgYaK1ddcgbjQNjzHnA98A0a23noPNUxxjTGmhtrV1ujEkHlgL9wrY/AYwx\nadba3aXnMBYBw621oSsyxphbgLOBZtbavkHnicUYsxY421pbGHSWmhhjpgDvW2ufMcakAmnW2u8C\njlWt0vq0HjjXWruutvUTyRjTBlgInGat3WeMeRF43Vo7Ldb6h3tE7flmmCBZaxcCof6fAMBau8la\nu7z09++Bz3HXsYeOtXZ36a+NcOc6QtdDM8a0BS4Fngo6Sy0McXrakl+MMUcCPay1zwBYa4vCXKRL\n9QLWhK1IV9IAaFr2pYc72I3pcP/jiHUzTCgLS9QYYzoAmcDiYJPEVtpSWAZsAt6x1n4cdKYYHgZu\nI4RfIgewwFxjzMfGmKFBh6nGScA2Y8wzpW2FScaYJkGHqsXVwN+CDhGLtXYj8Gfga2ADsN1a+251\n6x9uofZ8M4x4V9r2mA7cXHpkHTrW2hJrbRegLXCuMeb0oDNVZoy5DNhc+heKIfZ/q2GRZa09B3f0\nf1Npqy5sUoGzgPHW2rOA3cDIYCNVzxjTEOgLvBx0lliMMRm47kN7oA2Qboy5prr1D7dQrwfaVZpv\nSw2H71K70j+DpgPPWmtfDTpPbUr//M0FLgk4yoG6A31L+79/A3oaY2L2/4Jmrd1UOt0KzKSaIRoC\nth5YZ61dUjo/HVe4w6oPsLR0n4ZRL2CttfZba20xMAPIqm7lwy3UHwOnGGPal56xHAiE9ex62I+q\nyjwNrLTWPhp0kOoYY1oYY5qX/t4E9x9dqE54WmvvtNa2s9aehPvvcp619ldB5zqQMSat9C8ojDFN\ngd7AimBTHcxauxlYZ4zpWLroImBlgJFq8wtC2vYo9TXQzRjT2BhjcPuz2vtTDuvBAVG5GcYY81cg\nGzjGGPM1MKbspEiYGGO6A4OA/NL+rwXutNa+FWyygxwHTC09q54CvGitfSPgTFHVCphZOgRDKvC8\ntfbtgDNVZzjwfGlbYS3w64DzxFTp4OH62tYNirX2I2PMdGAZsL90Oqm69XXDi4hIyIX6kiAREVGh\nFhEJPRVqEZGQU6EWEQk5FWoRkZBToRYRCTkVahGRkFOhFhEJuf8Pt0r+uHA+9VUAAAAASUVORK5C\nYII=\n",
      "text/plain": [
       "<matplotlib.figure.Figure at 0x7f6e32c344e0>"
      ]
     },
     "metadata": {},
     "output_type": "display_data"
    }
   ],
   "source": [
    "u_normalized = u / LA.norm(u)\n",
    "proj = v.dot(u_normalized) * u_normalized\n",
    "\n",
    "plot_vector2d(u, color=\"r\")\n",
    "plot_vector2d(v, color=\"b\")\n",
    "\n",
    "plot_vector2d(proj, color=\"k\", linestyle=\":\")\n",
    "plt.plot(proj[0], proj[1], \"ko\")\n",
    "\n",
    "plt.plot([proj[0], v[0]], [proj[1], v[1]], \"b:\")\n",
    "\n",
    "plt.text(1, 2, \"$proj_u v$\", color=\"k\", fontsize=18)\n",
    "plt.text(1.8, 0.2, \"$v$\", color=\"b\", fontsize=18)\n",
    "plt.text(0.8, 3, \"$u$\", color=\"r\", fontsize=18)\n",
    "\n",
    "plt.axis([0, 8, 0, 5.5])\n",
    "plt.grid()\n",
    "plt.show()"
   ]
  },
  {
   "cell_type": "markdown",
   "metadata": {},
   "source": [
    "# Matrices\n",
    "A matrix is a rectangular array of scalars (ie. any number: integer, real or complex) arranged in rows and columns, for example:\n",
    "\n",
    "\\begin{bmatrix} 10 & 20 & 30 \\\\ 40 & 50 & 60 \\end{bmatrix}\n",
    "\n",
    "You can also think of a matrix as a list of vectors: the previous matrix contains either 2 horizontal 3D vectors or 3 vertical 2D vectors.\n",
    "\n",
    "Matrices are convenient and very efficient to run operations on many vectors at a time. We will also see that they are great at representing and performing linear transformations such rotations, translations and scaling."
   ]
  },
  {
   "cell_type": "markdown",
   "metadata": {},
   "source": [
    "## Matrices in python\n",
    "In python, a matrix can be represented in various ways. The simplest is just a list of python lists:"
   ]
  },
  {
   "cell_type": "code",
   "execution_count": 29,
   "metadata": {},
   "outputs": [
    {
     "data": {
      "text/plain": [
       "[[10, 20, 30], [40, 50, 60]]"
      ]
     },
     "execution_count": 29,
     "metadata": {},
     "output_type": "execute_result"
    }
   ],
   "source": [
    "[\n",
    "    [10, 20, 30],\n",
    "    [40, 50, 60]\n",
    "]"
   ]
  },
  {
   "cell_type": "markdown",
   "metadata": {},
   "source": [
    "A much more efficient way is to use the NumPy library which provides optimized implementations of many matrix operations:"
   ]
  },
  {
   "cell_type": "code",
   "execution_count": 30,
   "metadata": {},
   "outputs": [
    {
     "data": {
      "text/plain": [
       "array([[10, 20, 30],\n",
       "       [40, 50, 60]])"
      ]
     },
     "execution_count": 30,
     "metadata": {},
     "output_type": "execute_result"
    }
   ],
   "source": [
    "A = np.array([\n",
    "    [10,20,30],\n",
    "    [40,50,60]\n",
    "])\n",
    "A"
   ]
  },
  {
   "cell_type": "markdown",
   "metadata": {},
   "source": [
    "By convention matrices generally have uppercase names, such as $A$.\n",
    "\n",
    "In the rest of this tutorial, we will assume that we are using NumPy arrays (type `ndarray`) to represent matrices."
   ]
  },
  {
   "cell_type": "markdown",
   "metadata": {},
   "source": [
    "## Size\n",
    "The size of a matrix is defined by its number of rows and number of columns. It is noted $rows \\times columns$. For example, the matrix $A$ above is an example of a $2 \\times 3$ matrix: 2 rows, 3 columns. Caution: a $3 \\times 2$ matrix would have 3 rows and 2 columns.\n",
    "\n",
    "To get a matrix's size in NumPy:"
   ]
  },
  {
   "cell_type": "code",
   "execution_count": 31,
   "metadata": {},
   "outputs": [
    {
     "data": {
      "text/plain": [
       "(2, 3)"
      ]
     },
     "execution_count": 31,
     "metadata": {},
     "output_type": "execute_result"
    }
   ],
   "source": [
    "A.shape"
   ]
  },
  {
   "cell_type": "markdown",
   "metadata": {},
   "source": [
    "**Caution**: the `size` attribute represents the number of elements in the `ndarray`, not the matrix's size:"
   ]
  },
  {
   "cell_type": "code",
   "execution_count": 32,
   "metadata": {},
   "outputs": [
    {
     "data": {
      "text/plain": [
       "6"
      ]
     },
     "execution_count": 32,
     "metadata": {},
     "output_type": "execute_result"
    }
   ],
   "source": [
    "A.size"
   ]
  },
  {
   "cell_type": "markdown",
   "metadata": {},
   "source": [
    "## Element indexing\n",
    "The number located in the $i^{th}$ row, and $j^{th}$ column of a matrix $X$ is sometimes noted $X_{i,j}$ or $X_{ij}$, but there is no standard notation, so people often prefer to explicitely name the elements, like this: \"*let $X = (x_{i,j})_{1 ≤ i ≤ m, 1 ≤ j ≤ n}$*\". This means that $X$ is equal to:\n",
    "\n",
    "$X = \\begin{bmatrix}\n",
    "  x_{1,1} & x_{1,2} & x_{1,3} & \\cdots & x_{1,n}\\\\\n",
    "  x_{2,1} & x_{2,2} & x_{2,3} & \\cdots & x_{2,n}\\\\\n",
    "  x_{3,1} & x_{3,2} & x_{3,3} & \\cdots & x_{3,n}\\\\\n",
    "  \\vdots & \\vdots & \\vdots & \\ddots & \\vdots \\\\\n",
    "  x_{m,1} & x_{m,2} & x_{m,3} & \\cdots & x_{m,n}\\\\\n",
    "\\end{bmatrix}$\n",
    "\n",
    "However in this notebook we will use the $X_{i,j}$ notation, as it matches fairly well NumPy's notation. Note that in math indices generally start at 1, but in programming they usually start at 0. So to access $A_{2,3}$ programmatically, we need to write this:"
   ]
  },
  {
   "cell_type": "code",
   "execution_count": 33,
   "metadata": {},
   "outputs": [
    {
     "data": {
      "text/plain": [
       "60"
      ]
     },
     "execution_count": 33,
     "metadata": {},
     "output_type": "execute_result"
    }
   ],
   "source": [
    "A[1,2]  # 2nd row, 3rd column"
   ]
  },
  {
   "cell_type": "markdown",
   "metadata": {},
   "source": [
    "The $i^{th}$ row vector is sometimes noted $M_i$ or $M_{i,*}$, but again there is no standard notation so people often prefer to explicitely define their own names, for example: \"*let **x**$_{i}$ be the $i^{th}$ row vector of matrix $X$*\". We will use the $M_{i,*}$, for the same reason as above. For example, to access $A_{2,*}$ (ie. $A$'s 2nd row vector):"
   ]
  },
  {
   "cell_type": "code",
   "execution_count": 34,
   "metadata": {},
   "outputs": [
    {
     "data": {
      "text/plain": [
       "array([40, 50, 60])"
      ]
     },
     "execution_count": 34,
     "metadata": {},
     "output_type": "execute_result"
    }
   ],
   "source": [
    "A[1, :]  # 2nd row vector (as a 1D array)"
   ]
  },
  {
   "cell_type": "markdown",
   "metadata": {},
   "source": [
    "Similarly, the $j^{th}$ column vector is sometimes noted $M^j$ or $M_{*,j}$, but there is no standard notation. We will use $M_{*,j}$. For example, to access $A_{*,3}$ (ie. $A$'s 3rd column vector):"
   ]
  },
  {
   "cell_type": "code",
   "execution_count": 35,
   "metadata": {},
   "outputs": [
    {
     "data": {
      "text/plain": [
       "array([30, 60])"
      ]
     },
     "execution_count": 35,
     "metadata": {},
     "output_type": "execute_result"
    }
   ],
   "source": [
    "A[:, 2]  # 3rd column vector (as a 1D array)"
   ]
  },
  {
   "cell_type": "markdown",
   "metadata": {},
   "source": [
    "Note that the result is actually a one-dimensional NumPy array: there is no such thing as a *vertical* or *horizontal* one-dimensional array. If you need to actually represent a row vector as a one-row matrix (ie. a 2D NumPy array), or a column vector as a one-column matrix, then you need to use a slice instead of an integer when accessing the row or column, for example:"
   ]
  },
  {
   "cell_type": "code",
   "execution_count": 36,
   "metadata": {},
   "outputs": [
    {
     "data": {
      "text/plain": [
       "array([[40, 50, 60]])"
      ]
     },
     "execution_count": 36,
     "metadata": {},
     "output_type": "execute_result"
    }
   ],
   "source": [
    "A[1:2, :]  # rows 2 to 3 (excluded): this returns row 2 as a one-row matrix"
   ]
  },
  {
   "cell_type": "code",
   "execution_count": 37,
   "metadata": {},
   "outputs": [
    {
     "data": {
      "text/plain": [
       "array([[30],\n",
       "       [60]])"
      ]
     },
     "execution_count": 37,
     "metadata": {},
     "output_type": "execute_result"
    }
   ],
   "source": [
    "A[:, 2:3]  # columns 3 to 4 (excluded): this returns column 3 as a one-column matrix"
   ]
  },
  {
   "cell_type": "markdown",
   "metadata": {},
   "source": [
    "## Square, triangular, diagonal and identity matrices\n",
    "A **square matrix** is a matrix that has the same number of rows and columns, for example a $3 \\times 3$ matrix:\n",
    "\n",
    "\\begin{bmatrix}\n",
    "  4 & 9 & 2 \\\\\n",
    "  3 & 5 & 7 \\\\\n",
    "  8 & 1 & 6\n",
    "\\end{bmatrix}"
   ]
  },
  {
   "cell_type": "markdown",
   "metadata": {},
   "source": [
    "An **upper triangular matrix** is a special kind of square matrix where all the elements *below* the main diagonal (top-left to bottom-right) are zero, for example:\n",
    "\n",
    "\\begin{bmatrix}\n",
    "  4 & 9 & 2 \\\\\n",
    "  0 & 5 & 7 \\\\\n",
    "  0 & 0 & 6\n",
    "\\end{bmatrix}"
   ]
  },
  {
   "cell_type": "markdown",
   "metadata": {},
   "source": [
    "Similarly, a **lower triangular matrix** is a square matrix where all elements *above* the main diagonal are zero, for example:\n",
    "\n",
    "\\begin{bmatrix}\n",
    "  4 & 0 & 0 \\\\\n",
    "  3 & 5 & 0 \\\\\n",
    "  8 & 1 & 6\n",
    "\\end{bmatrix}"
   ]
  },
  {
   "cell_type": "markdown",
   "metadata": {},
   "source": [
    "A **triangular matrix** is one that is either lower triangular or upper triangular."
   ]
  },
  {
   "cell_type": "markdown",
   "metadata": {},
   "source": [
    "A matrix that is both upper and lower triangular is called a **diagonal matrix**, for example:\n",
    "\n",
    "\\begin{bmatrix}\n",
    "  4 & 0 & 0 \\\\\n",
    "  0 & 5 & 0 \\\\\n",
    "  0 & 0 & 6\n",
    "\\end{bmatrix}\n",
    "\n",
    "You can construct a diagonal matrix using NumPy's `diag` function:"
   ]
  },
  {
   "cell_type": "code",
   "execution_count": 38,
   "metadata": {},
   "outputs": [
    {
     "data": {
      "text/plain": [
       "array([[4, 0, 0],\n",
       "       [0, 5, 0],\n",
       "       [0, 0, 6]])"
      ]
     },
     "execution_count": 38,
     "metadata": {},
     "output_type": "execute_result"
    }
   ],
   "source": [
    "np.diag([4, 5, 6])"
   ]
  },
  {
   "cell_type": "markdown",
   "metadata": {},
   "source": [
    "If you pass a matrix to the `diag` function, it will happily extract the diagonal values:"
   ]
  },
  {
   "cell_type": "code",
   "execution_count": 39,
   "metadata": {},
   "outputs": [
    {
     "data": {
      "text/plain": [
       "array([1, 5, 9])"
      ]
     },
     "execution_count": 39,
     "metadata": {},
     "output_type": "execute_result"
    }
   ],
   "source": [
    "D = np.array([\n",
    "        [1, 2, 3],\n",
    "        [4, 5, 6],\n",
    "        [7, 8, 9],\n",
    "    ])\n",
    "np.diag(D)"
   ]
  },
  {
   "cell_type": "markdown",
   "metadata": {},
   "source": [
    "Finally, the **identity matrix** of size $n$, noted $I_n$, is a diagonal matrix of size $n \\times n$ with $1$'s in the main diagonal, for example $I_3$:\n",
    "\n",
    "\\begin{bmatrix}\n",
    "  1 & 0 & 0 \\\\\n",
    "  0 & 1 & 0 \\\\\n",
    "  0 & 0 & 1\n",
    "\\end{bmatrix}\n",
    "\n",
    "Numpy's `eye` function returns the identity matrix of the desired size:"
   ]
  },
  {
   "cell_type": "code",
   "execution_count": 40,
   "metadata": {},
   "outputs": [
    {
     "data": {
      "text/plain": [
       "array([[ 1.,  0.,  0.],\n",
       "       [ 0.,  1.,  0.],\n",
       "       [ 0.,  0.,  1.]])"
      ]
     },
     "execution_count": 40,
     "metadata": {},
     "output_type": "execute_result"
    }
   ],
   "source": [
    "np.eye(3)"
   ]
  },
  {
   "cell_type": "markdown",
   "metadata": {},
   "source": [
    "The identity matrix is often noted simply $I$ (instead of $I_n$) when its size is clear given the context. It is called the *identity* matrix because multiplying a matrix with it leaves the matrix unchanged as we will see below."
   ]
  },
  {
   "cell_type": "markdown",
   "metadata": {},
   "source": [
    "## Adding matrices\n",
    "If two matrices $Q$ and $R$ have the same size $m \\times n$, they can be added together. Addition is performed *elementwise*: the result is also a $m \\times n$ matrix $S$ where each element is the sum of the elements at the corresponding position: $S_{i,j} = Q_{i,j} + R_{i,j}$\n",
    "\n",
    "$S =\n",
    "\\begin{bmatrix}\n",
    "  Q_{11} + R_{11} & Q_{12} + R_{12} & Q_{13} + R_{13} & \\cdots & Q_{1n} + R_{1n} \\\\\n",
    "  Q_{21} + R_{21} & Q_{22} + R_{22} & Q_{23} + R_{23} & \\cdots & Q_{2n} + R_{2n}  \\\\\n",
    "  Q_{31} + R_{31} & Q_{32} + R_{32} & Q_{33} + R_{33} & \\cdots & Q_{3n} + R_{3n}  \\\\\n",
    "  \\vdots & \\vdots & \\vdots & \\ddots & \\vdots \\\\\n",
    "  Q_{m1} + R_{m1} & Q_{m2} + R_{m2} & Q_{m3} + R_{m3} & \\cdots & Q_{mn} + R_{mn}  \\\\\n",
    "\\end{bmatrix}$\n",
    "\n",
    "For example, let's create a $2 \\times 3$ matrix $B$ and compute $A + B$:"
   ]
  },
  {
   "cell_type": "code",
   "execution_count": 41,
   "metadata": {},
   "outputs": [
    {
     "data": {
      "text/plain": [
       "array([[1, 2, 3],\n",
       "       [4, 5, 6]])"
      ]
     },
     "execution_count": 41,
     "metadata": {},
     "output_type": "execute_result"
    }
   ],
   "source": [
    "B = np.array([[1,2,3], [4, 5, 6]])\n",
    "B"
   ]
  },
  {
   "cell_type": "code",
   "execution_count": 42,
   "metadata": {},
   "outputs": [
    {
     "data": {
      "text/plain": [
       "array([[10, 20, 30],\n",
       "       [40, 50, 60]])"
      ]
     },
     "execution_count": 42,
     "metadata": {},
     "output_type": "execute_result"
    }
   ],
   "source": [
    "A"
   ]
  },
  {
   "cell_type": "code",
   "execution_count": 43,
   "metadata": {},
   "outputs": [
    {
     "data": {
      "text/plain": [
       "array([[11, 22, 33],\n",
       "       [44, 55, 66]])"
      ]
     },
     "execution_count": 43,
     "metadata": {},
     "output_type": "execute_result"
    }
   ],
   "source": [
    "A + B"
   ]
  },
  {
   "cell_type": "markdown",
   "metadata": {},
   "source": [
    "**Addition is *commutative***, meaning that $A + B = B + A$:"
   ]
  },
  {
   "cell_type": "code",
   "execution_count": 44,
   "metadata": {},
   "outputs": [
    {
     "data": {
      "text/plain": [
       "array([[11, 22, 33],\n",
       "       [44, 55, 66]])"
      ]
     },
     "execution_count": 44,
     "metadata": {},
     "output_type": "execute_result"
    }
   ],
   "source": [
    "B + A"
   ]
  },
  {
   "cell_type": "markdown",
   "metadata": {},
   "source": [
    "**It is also *associative***, meaning that $A + (B + C) = (A + B) + C$:"
   ]
  },
  {
   "cell_type": "code",
   "execution_count": 45,
   "metadata": {},
   "outputs": [
    {
     "data": {
      "text/plain": [
       "array([[111, 222, 333],\n",
       "       [444, 555, 666]])"
      ]
     },
     "execution_count": 45,
     "metadata": {},
     "output_type": "execute_result"
    }
   ],
   "source": [
    "C = np.array([[100,200,300], [400, 500, 600]])\n",
    "\n",
    "A + (B + C)"
   ]
  },
  {
   "cell_type": "code",
   "execution_count": 46,
   "metadata": {},
   "outputs": [
    {
     "data": {
      "text/plain": [
       "array([[111, 222, 333],\n",
       "       [444, 555, 666]])"
      ]
     },
     "execution_count": 46,
     "metadata": {},
     "output_type": "execute_result"
    }
   ],
   "source": [
    "(A + B) + C"
   ]
  },
  {
   "cell_type": "markdown",
   "metadata": {},
   "source": [
    "## Scalar multiplication\n",
    "A matrix $M$ can be multiplied by a scalar $\\lambda$. The result is noted $\\lambda M$, and it is a matrix of the same size as $M$ with all elements multiplied by $\\lambda$:\n",
    "\n",
    "$\\lambda M =\n",
    "\\begin{bmatrix}\n",
    "  \\lambda \\times M_{11} & \\lambda \\times M_{12} & \\lambda \\times M_{13} & \\cdots & \\lambda \\times M_{1n} \\\\\n",
    "  \\lambda \\times M_{21} & \\lambda \\times M_{22} & \\lambda \\times M_{23} & \\cdots & \\lambda \\times M_{2n} \\\\\n",
    "  \\lambda \\times M_{31} & \\lambda \\times M_{32} & \\lambda \\times M_{33} & \\cdots & \\lambda \\times M_{3n} \\\\\n",
    "  \\vdots & \\vdots & \\vdots & \\ddots & \\vdots \\\\\n",
    "  \\lambda \\times M_{m1} & \\lambda \\times M_{m2} & \\lambda \\times M_{m3} & \\cdots & \\lambda \\times M_{mn} \\\\\n",
    "\\end{bmatrix}$\n",
    "\n",
    "A more concise way of writing this is:\n",
    "\n",
    "$(\\lambda M)_{i,j} = \\lambda (M)_{i,j}$\n",
    "\n",
    "In NumPy, simply use the `*` operator to multiply a matrix by a scalar. For example:"
   ]
  },
  {
   "cell_type": "code",
   "execution_count": 47,
   "metadata": {},
   "outputs": [
    {
     "data": {
      "text/plain": [
       "array([[ 20,  40,  60],\n",
       "       [ 80, 100, 120]])"
      ]
     },
     "execution_count": 47,
     "metadata": {},
     "output_type": "execute_result"
    }
   ],
   "source": [
    "2 * A"
   ]
  },
  {
   "cell_type": "markdown",
   "metadata": {},
   "source": [
    "Scalar multiplication is also defined on the right hand side, and gives the same result: $M \\lambda = \\lambda M$. For example:"
   ]
  },
  {
   "cell_type": "code",
   "execution_count": 48,
   "metadata": {},
   "outputs": [
    {
     "data": {
      "text/plain": [
       "array([[ 20,  40,  60],\n",
       "       [ 80, 100, 120]])"
      ]
     },
     "execution_count": 48,
     "metadata": {},
     "output_type": "execute_result"
    }
   ],
   "source": [
    "A * 2"
   ]
  },
  {
   "cell_type": "markdown",
   "metadata": {},
   "source": [
    "This makes scalar multiplication **commutative**.\n",
    "\n",
    "It is also **associative**, meaning that $\\alpha (\\beta M) = (\\alpha \\times \\beta) M$, where $\\alpha$ and $\\beta$ are scalars. For example:"
   ]
  },
  {
   "cell_type": "code",
   "execution_count": 49,
   "metadata": {},
   "outputs": [
    {
     "data": {
      "text/plain": [
       "array([[ 60, 120, 180],\n",
       "       [240, 300, 360]])"
      ]
     },
     "execution_count": 49,
     "metadata": {},
     "output_type": "execute_result"
    }
   ],
   "source": [
    "2 * (3 * A)"
   ]
  },
  {
   "cell_type": "code",
   "execution_count": 50,
   "metadata": {},
   "outputs": [
    {
     "data": {
      "text/plain": [
       "array([[ 60, 120, 180],\n",
       "       [240, 300, 360]])"
      ]
     },
     "execution_count": 50,
     "metadata": {},
     "output_type": "execute_result"
    }
   ],
   "source": [
    "(2 * 3) * A"
   ]
  },
  {
   "cell_type": "markdown",
   "metadata": {},
   "source": [
    "Finally, it is **distributive over addition** of matrices, meaning that $\\lambda (Q + R) = \\lambda Q + \\lambda R$:"
   ]
  },
  {
   "cell_type": "code",
   "execution_count": 51,
   "metadata": {},
   "outputs": [
    {
     "data": {
      "text/plain": [
       "array([[ 22,  44,  66],\n",
       "       [ 88, 110, 132]])"
      ]
     },
     "execution_count": 51,
     "metadata": {},
     "output_type": "execute_result"
    }
   ],
   "source": [
    "2 * (A + B)"
   ]
  },
  {
   "cell_type": "code",
   "execution_count": 52,
   "metadata": {},
   "outputs": [
    {
     "data": {
      "text/plain": [
       "array([[ 22,  44,  66],\n",
       "       [ 88, 110, 132]])"
      ]
     },
     "execution_count": 52,
     "metadata": {},
     "output_type": "execute_result"
    }
   ],
   "source": [
    "2 * A + 2 * B"
   ]
  },
  {
   "cell_type": "markdown",
   "metadata": {},
   "source": [
    "## Matrix multiplication\n",
    "So far, matrix operations have been rather intuitive. But multiplying matrices is a bit more involved.\n",
    "\n",
    "A matrix $Q$ of size $m \\times n$ can be multiplied by a matrix $R$ of size $n \\times q$. It is noted simply $QR$ without multiplication sign or dot. The result $P$ is an $m \\times q$ matrix where each element is computed as a sum of products:\n",
    "\n",
    "$P_{i,j} = \\sum_{k=1}^n{Q_{i,k} \\times R_{k,j}}$\n",
    "\n",
    "The element at position $i,j$ in the resulting matrix is the sum of the products of elements in row $i$ of matrix $Q$ by the elements in column $j$ of matrix $R$.\n",
    "\n",
    "$P =\n",
    "\\begin{bmatrix}\n",
    "Q_{11} R_{11} + Q_{12} R_{21} + \\cdots + Q_{1n} R_{n1} &\n",
    "  Q_{11} R_{12} + Q_{12} R_{22} + \\cdots + Q_{1n} R_{n2} &\n",
    "    \\cdots &\n",
    "      Q_{11} R_{1q} + Q_{12} R_{2q} + \\cdots + Q_{1n} R_{nq} \\\\\n",
    "Q_{21} R_{11} + Q_{22} R_{21} + \\cdots + Q_{2n} R_{n1} &\n",
    "  Q_{21} R_{12} + Q_{22} R_{22} + \\cdots + Q_{2n} R_{n2} &\n",
    "    \\cdots &\n",
    "      Q_{21} R_{1q} + Q_{22} R_{2q} + \\cdots + Q_{2n} R_{nq} \\\\\n",
    "  \\vdots & \\vdots & \\ddots & \\vdots \\\\\n",
    "Q_{m1} R_{11} + Q_{m2} R_{21} + \\cdots + Q_{mn} R_{n1} &\n",
    "  Q_{m1} R_{12} + Q_{m2} R_{22} + \\cdots + Q_{mn} R_{n2} &\n",
    "    \\cdots &\n",
    "      Q_{m1} R_{1q} + Q_{m2} R_{2q} + \\cdots + Q_{mn} R_{nq}\n",
    "\\end{bmatrix}$\n",
    "\n",
    "You may notice that each element $P_{i,j}$ is the dot product of the row vector $Q_{i,*}$ and the column vector $R_{*,j}$:\n",
    "\n",
    "$P_{i,j} = Q_{i,*} \\cdot R_{*,j}$\n",
    "\n",
    "So we can rewrite $P$ more concisely as:\n",
    "\n",
    "$P =\n",
    "\\begin{bmatrix}\n",
    "Q_{1,*} \\cdot R_{*,1} & Q_{1,*} \\cdot R_{*,2} & \\cdots & Q_{1,*} \\cdot R_{*,q} \\\\\n",
    "Q_{2,*} \\cdot R_{*,1} & Q_{2,*} \\cdot R_{*,2} & \\cdots & Q_{2,*} \\cdot R_{*,q} \\\\\n",
    "\\vdots & \\vdots & \\ddots & \\vdots \\\\\n",
    "Q_{m,*} \\cdot R_{*,1} & Q_{m,*} \\cdot R_{*,2} & \\cdots & Q_{m,*} \\cdot R_{*,q}\n",
    "\\end{bmatrix}$\n"
   ]
  },
  {
   "cell_type": "markdown",
   "metadata": {},
   "source": [
    "Let's multiply two matrices in NumPy, using `ndarray`'s `dot` method:\n",
    "\n",
    "$E = AD = \\begin{bmatrix}\n",
    "  10 & 20 & 30 \\\\\n",
    "  40 & 50 & 60\n",
    "\\end{bmatrix} \n",
    "\\begin{bmatrix}\n",
    "  2 & 3 & 5 & 7 \\\\\n",
    "  11 & 13 & 17 & 19 \\\\\n",
    "  23 & 29 & 31 & 37\n",
    "\\end{bmatrix} = \n",
    "\\begin{bmatrix}\n",
    "  930 & 1160 & 1320 & 1560 \\\\\n",
    "  2010 & 2510 & 2910 & 3450\n",
    "\\end{bmatrix}$"
   ]
  },
  {
   "cell_type": "code",
   "execution_count": 53,
   "metadata": {},
   "outputs": [
    {
     "data": {
      "text/plain": [
       "array([[ 930, 1160, 1320, 1560],\n",
       "       [2010, 2510, 2910, 3450]])"
      ]
     },
     "execution_count": 53,
     "metadata": {},
     "output_type": "execute_result"
    }
   ],
   "source": [
    "D = np.array([\n",
    "        [ 2,  3,  5,  7],\n",
    "        [11, 13, 17, 19],\n",
    "        [23, 29, 31, 37]\n",
    "    ])\n",
    "E = A.dot(D)\n",
    "E"
   ]
  },
  {
   "cell_type": "markdown",
   "metadata": {},
   "source": [
    "Let's check this result by looking at one element, just to be sure: looking at $E_{2,3}$ for example, we need to multiply elements in $A$'s $2^{nd}$ row by elements in $D$'s $3^{rd}$ column, and sum up these products:"
   ]
  },
  {
   "cell_type": "code",
   "execution_count": 54,
   "metadata": {},
   "outputs": [
    {
     "data": {
      "text/plain": [
       "2910"
      ]
     },
     "execution_count": 54,
     "metadata": {},
     "output_type": "execute_result"
    }
   ],
   "source": [
    "40*5 + 50*17 + 60*31"
   ]
  },
  {
   "cell_type": "code",
   "execution_count": 55,
   "metadata": {},
   "outputs": [
    {
     "data": {
      "text/plain": [
       "2910"
      ]
     },
     "execution_count": 55,
     "metadata": {},
     "output_type": "execute_result"
    }
   ],
   "source": [
    "E[1,2]  # row 2, column 3"
   ]
  },
  {
   "cell_type": "markdown",
   "metadata": {},
   "source": [
    "Looks good! You can check the other elements until you get used to the algorithm.\n",
    "\n",
    "We multiplied a $2 \\times 3$ matrix by a $3 \\times 4$ matrix, so the result is a $2 \\times 4$ matrix. The first matrix's number of columns has to be equal to the second matrix's number of rows. If we try to multiply $D$ by $A$, we get an error because D has 4 columns while A has 2 rows:"
   ]
  },
  {
   "cell_type": "code",
   "execution_count": 56,
   "metadata": {},
   "outputs": [
    {
     "name": "stdout",
     "output_type": "stream",
     "text": [
      "ValueError: shapes (3,4) and (2,3) not aligned: 4 (dim 1) != 2 (dim 0)\n"
     ]
    }
   ],
   "source": [
    "try:\n",
    "    D.dot(A)\n",
    "except ValueError as e:\n",
    "    print(\"ValueError:\", e)"
   ]
  },
  {
   "cell_type": "markdown",
   "metadata": {},
   "source": [
    "This illustrates the fact that **matrix multiplication is *NOT* commutative**: in general $QR ≠ RQ$\n",
    "\n",
    "In fact, $QR$ and $RQ$ are only *both* defined if $Q$ has size $m \\times n$ and $R$ has size $n \\times m$. Let's look at an example where both *are* defined and show that they are (in general) *NOT* equal:"
   ]
  },
  {
   "cell_type": "code",
   "execution_count": 57,
   "metadata": {},
   "outputs": [
    {
     "data": {
      "text/plain": [
       "array([[400, 130],\n",
       "       [940, 310]])"
      ]
     },
     "execution_count": 57,
     "metadata": {},
     "output_type": "execute_result"
    }
   ],
   "source": [
    "F = np.array([\n",
    "        [5,2],\n",
    "        [4,1],\n",
    "        [9,3]\n",
    "    ])\n",
    "A.dot(F)"
   ]
  },
  {
   "cell_type": "code",
   "execution_count": 58,
   "metadata": {},
   "outputs": [
    {
     "data": {
      "text/plain": [
       "array([[130, 200, 270],\n",
       "       [ 80, 130, 180],\n",
       "       [210, 330, 450]])"
      ]
     },
     "execution_count": 58,
     "metadata": {},
     "output_type": "execute_result"
    }
   ],
   "source": [
    "F.dot(A)"
   ]
  },
  {
   "cell_type": "markdown",
   "metadata": {},
   "source": [
    "On the other hand, **matrix multiplication *is* associative**, meaning that $Q(RS) = (QR)S$. Let's create a $4 \\times 5$ matrix $G$ to illustrate this:"
   ]
  },
  {
   "cell_type": "code",
   "execution_count": 59,
   "metadata": {},
   "outputs": [
    {
     "data": {
      "text/plain": [
       "array([[21640, 28390, 27320, 31140, 13570],\n",
       "       [47290, 62080, 60020, 68580, 29500]])"
      ]
     },
     "execution_count": 59,
     "metadata": {},
     "output_type": "execute_result"
    }
   ],
   "source": [
    "G = np.array([\n",
    "        [8,  7,  4,  2,  5],\n",
    "        [2,  5,  1,  0,  5],\n",
    "        [9, 11, 17, 21,  0],\n",
    "        [0,  1,  0,  1,  2]])\n",
    "A.dot(D).dot(G)     # (AB)G"
   ]
  },
  {
   "cell_type": "code",
   "execution_count": 60,
   "metadata": {},
   "outputs": [
    {
     "data": {
      "text/plain": [
       "array([[21640, 28390, 27320, 31140, 13570],\n",
       "       [47290, 62080, 60020, 68580, 29500]])"
      ]
     },
     "execution_count": 60,
     "metadata": {},
     "output_type": "execute_result"
    }
   ],
   "source": [
    "A.dot(D.dot(G))     # A(BG)"
   ]
  },
  {
   "cell_type": "markdown",
   "metadata": {},
   "source": [
    "It is also ***distributive* over addition** of matrices, meaning that $(Q + R)S = QS + RS$. For example:"
   ]
  },
  {
   "cell_type": "code",
   "execution_count": 61,
   "metadata": {},
   "outputs": [
    {
     "data": {
      "text/plain": [
       "array([[1023, 1276, 1452, 1716],\n",
       "       [2211, 2761, 3201, 3795]])"
      ]
     },
     "execution_count": 61,
     "metadata": {},
     "output_type": "execute_result"
    }
   ],
   "source": [
    "(A + B).dot(D)"
   ]
  },
  {
   "cell_type": "code",
   "execution_count": 62,
   "metadata": {},
   "outputs": [
    {
     "data": {
      "text/plain": [
       "array([[1023, 1276, 1452, 1716],\n",
       "       [2211, 2761, 3201, 3795]])"
      ]
     },
     "execution_count": 62,
     "metadata": {},
     "output_type": "execute_result"
    }
   ],
   "source": [
    "A.dot(D) + B.dot(D)"
   ]
  },
  {
   "cell_type": "markdown",
   "metadata": {},
   "source": [
    "The product of a matrix $M$ by the identity matrix (of matching size) results in the same matrix $M$. More formally, if $M$ is an $m \\times n$ matrix, then:\n",
    "\n",
    "$M I_n = I_m M = M$\n",
    "\n",
    "This is generally written more concisely (since the size of the identity matrices is unambiguous given the context):\n",
    "\n",
    "$MI = IM = M$\n",
    "\n",
    "For example:"
   ]
  },
  {
   "cell_type": "code",
   "execution_count": 63,
   "metadata": {},
   "outputs": [
    {
     "data": {
      "text/plain": [
       "array([[ 10.,  20.,  30.],\n",
       "       [ 40.,  50.,  60.]])"
      ]
     },
     "execution_count": 63,
     "metadata": {},
     "output_type": "execute_result"
    }
   ],
   "source": [
    "A.dot(np.eye(3))"
   ]
  },
  {
   "cell_type": "code",
   "execution_count": 64,
   "metadata": {},
   "outputs": [
    {
     "data": {
      "text/plain": [
       "array([[ 10.,  20.,  30.],\n",
       "       [ 40.,  50.,  60.]])"
      ]
     },
     "execution_count": 64,
     "metadata": {},
     "output_type": "execute_result"
    }
   ],
   "source": [
    "np.eye(2).dot(A)"
   ]
  },
  {
   "cell_type": "markdown",
   "metadata": {},
   "source": [
    "**Caution**: NumPy's `*` operator performs elementwise multiplication, *NOT* a matrix multiplication:"
   ]
  },
  {
   "cell_type": "code",
   "execution_count": 65,
   "metadata": {
    "scrolled": true
   },
   "outputs": [
    {
     "data": {
      "text/plain": [
       "array([[ 10,  40,  90],\n",
       "       [160, 250, 360]])"
      ]
     },
     "execution_count": 65,
     "metadata": {},
     "output_type": "execute_result"
    }
   ],
   "source": [
    "A * B   # NOT a matrix multiplication"
   ]
  },
  {
   "cell_type": "markdown",
   "metadata": {},
   "source": [
    "**The @ infix operator**\n",
    "\n",
    "Python 3.5 [introduced](https://docs.python.org/3/whatsnew/3.5.html#pep-465-a-dedicated-infix-operator-for-matrix-multiplication) the `@` infix operator for matrix multiplication, and NumPy 1.10 added support for it. If you are using Python 3.5+ and NumPy 1.10+, you can simply write `A @ D` instead of `A.dot(D)`, making your code much more readable (but less portable). This operator also works for vector dot products."
   ]
  },
  {
   "cell_type": "code",
   "execution_count": 66,
   "metadata": {},
   "outputs": [
    {
     "name": "stdout",
     "output_type": "stream",
     "text": [
      "Python version: 3.5.3\n",
      "Numpy version: 1.12.1\n"
     ]
    }
   ],
   "source": [
    "import sys\n",
    "print(\"Python version: {}.{}.{}\".format(*sys.version_info))\n",
    "print(\"Numpy version:\", np.version.version)\n",
    "\n",
    "# Uncomment the following line if your Python version is ≥3.5\n",
    "# and your NumPy version is ≥1.10:\n",
    "\n",
    "#A @ D"
   ]
  },
  {
   "cell_type": "markdown",
   "metadata": {},
   "source": [
    "Note: `Q @ R` is actually equivalent to `Q.__matmul__(R)` which is implemented by NumPy as `np.matmul(Q, R)`, not as `Q.dot(R)`. The main difference is that `matmul` does not support scalar multiplication, while `dot` does, so you can write `Q.dot(3)`, which is equivalent to `Q * 3`, but you cannot write `Q @ 3` ([more details](http://stackoverflow.com/a/34142617/38626))."
   ]
  },
  {
   "cell_type": "markdown",
   "metadata": {},
   "source": [
    "## Ma trận chuyển vị\n",
    "Ma trận chuyển vị của ma trận $M$ là một ma trận được kí hiệu $M^T$ trong đó hàng thứ $i$ của $M^T$ bằng với cột thứ $i$ của $M$:\n",
    "\n",
    "$ A^T =\n",
    "\\begin{bmatrix}\n",
    "  10 & 20 & 30 \\\\\n",
    "  40 & 50 & 60\n",
    "\\end{bmatrix}^T =\n",
    "\\begin{bmatrix}\n",
    "  10 & 40 \\\\\n",
    "  20 & 50 \\\\\n",
    "  30 & 60\n",
    "\\end{bmatrix}$\n",
    "\n",
    "Nói cách khác, ($A^T)_{i,j}$ = $A_{j,i}$\n",
    "\n",
    "Rõ ràng, nếu $M$ là một ma trận $m \\times n$, thì $M^T$ là một ma trận $n \\times m$.\n",
    "\n",
    "Lưu ý: có nhiều ký hiệu khác, ví dụ như: $M^t$, $M′$, hay ${^t}M$.\n",
    "\n",
    "Trong NumPy, chuyển vị của một ma trận có thể thu được bằng cách sử dụng thuộc tính `T`:"
   ]
  },
  {
   "cell_type": "code",
   "execution_count": 67,
   "metadata": {},
   "outputs": [
    {
     "data": {
      "text/plain": [
       "array([[10, 20, 30],\n",
       "       [40, 50, 60]])"
      ]
     },
     "execution_count": 67,
     "metadata": {},
     "output_type": "execute_result"
    }
   ],
   "source": [
    "A"
   ]
  },
  {
   "cell_type": "code",
   "execution_count": 68,
   "metadata": {},
   "outputs": [
    {
     "data": {
      "text/plain": [
       "array([[10, 40],\n",
       "       [20, 50],\n",
       "       [30, 60]])"
      ]
     },
     "execution_count": 68,
     "metadata": {},
     "output_type": "execute_result"
    }
   ],
   "source": [
    "A.T"
   ]
  },
  {
   "cell_type": "markdown",
   "metadata": {},
   "source": [
    "Như bạn có thể đã biết, chuyển vị một ma trận hai lần sẽ thu được ma trận ban đầu:"
   ]
  },
  {
   "cell_type": "code",
   "execution_count": 69,
   "metadata": {},
   "outputs": [
    {
     "data": {
      "text/plain": [
       "array([[10, 20, 30],\n",
       "       [40, 50, 60]])"
      ]
     },
     "execution_count": 69,
     "metadata": {},
     "output_type": "execute_result"
    }
   ],
   "source": [
    "A.T.T"
   ]
  },
  {
   "cell_type": "markdown",
   "metadata": {},
   "source": [
    "Phép chuyển vị có tính chất phân phối trên phép cộng ma trận, nghĩa là $(Q + R)^T = Q^T + R^T$. Ví dụ:"
   ]
  },
  {
   "cell_type": "code",
   "execution_count": 70,
   "metadata": {},
   "outputs": [
    {
     "data": {
      "text/plain": [
       "array([[11, 44],\n",
       "       [22, 55],\n",
       "       [33, 66]])"
      ]
     },
     "execution_count": 70,
     "metadata": {},
     "output_type": "execute_result"
    }
   ],
   "source": [
    "(A + B).T"
   ]
  },
  {
   "cell_type": "code",
   "execution_count": 71,
   "metadata": {},
   "outputs": [
    {
     "data": {
      "text/plain": [
       "array([[11, 44],\n",
       "       [22, 55],\n",
       "       [33, 66]])"
      ]
     },
     "execution_count": 71,
     "metadata": {},
     "output_type": "execute_result"
    }
   ],
   "source": [
    "A.T + B.T"
   ]
  },
  {
   "cell_type": "markdown",
   "metadata": {},
   "source": [
    "Ngoài ra, $(Q \\cdot R)^T = R^T \\cdot Q^T$. Lưu ý rằng thứ tự được bảo toàn. Ví dụ:"
   ]
  },
  {
   "cell_type": "code",
   "execution_count": 72,
   "metadata": {},
   "outputs": [
    {
     "data": {
      "text/plain": [
       "array([[ 930, 2010],\n",
       "       [1160, 2510],\n",
       "       [1320, 2910],\n",
       "       [1560, 3450]])"
      ]
     },
     "execution_count": 72,
     "metadata": {},
     "output_type": "execute_result"
    }
   ],
   "source": [
    "(A.dot(D)).T"
   ]
  },
  {
   "cell_type": "code",
   "execution_count": 73,
   "metadata": {},
   "outputs": [
    {
     "data": {
      "text/plain": [
       "array([[ 930, 2010],\n",
       "       [1160, 2510],\n",
       "       [1320, 2910],\n",
       "       [1560, 3450]])"
      ]
     },
     "execution_count": 73,
     "metadata": {},
     "output_type": "execute_result"
    }
   ],
   "source": [
    "D.T.dot(A.T)"
   ]
  },
  {
   "cell_type": "markdown",
   "metadata": {},
   "source": [
    "Một **ma trận đối xứng** (**symmetric matrix**) $M$ được định nghĩa là một ma trận bằng với chuyển vị của nó: $M^T = M$. Định nghĩa này hàm ý rằng, nó là một ma trận vuông có các phần tử đối xứng so với đường chéo chính, ví dụ:\n",
    "\n",
    "\\begin{bmatrix}\n",
    "  17 & 22 & 27 & 49 \\\\\n",
    "  22 & 29 & 36 & 0 \\\\\n",
    "  27 & 36 & 45 & 2 \\\\\n",
    "  49 & 0 & 2 & 99\n",
    "\\end{bmatrix}\n",
    "\n",
    "Tích của ma trận với chuyển vị của nó luôn là một ma trận đối xứng, ví dụ:"
   ]
  },
  {
   "cell_type": "code",
   "execution_count": 74,
   "metadata": {},
   "outputs": [
    {
     "data": {
      "text/plain": [
       "array([[  87,  279,  547],\n",
       "       [ 279,  940, 1860],\n",
       "       [ 547, 1860, 3700]])"
      ]
     },
     "execution_count": 74,
     "metadata": {},
     "output_type": "execute_result"
    }
   ],
   "source": [
    "D.dot(D.T)"
   ]
  },
  {
   "cell_type": "markdown",
   "metadata": {},
   "source": [
    "## Chuyển đổi mảng 1D thành mảng 2D trong NumPy\n",
    "Như đã nhắc đến trước đó, trong NumPy (ngược lại với Matlab, chẳng hạn), 1D thực sự có nghĩa là 1D: không có cái gọi là mảng 1D dọc và mảng 1D ngang. Ví vậy bạn không nên ngạc nhiên khi thấy chuyển vị mảng 1D sẽ không làm bất cứ điều gì cả:"
   ]
  },
  {
   "cell_type": "code",
   "execution_count": 75,
   "metadata": {},
   "outputs": [
    {
     "data": {
      "text/plain": [
       "array([2, 5])"
      ]
     },
     "execution_count": 75,
     "metadata": {},
     "output_type": "execute_result"
    }
   ],
   "source": [
    "u"
   ]
  },
  {
   "cell_type": "code",
   "execution_count": 76,
   "metadata": {},
   "outputs": [
    {
     "data": {
      "text/plain": [
       "array([2, 5])"
      ]
     },
     "execution_count": 76,
     "metadata": {},
     "output_type": "execute_result"
    }
   ],
   "source": [
    "u.T"
   ]
  },
  {
   "cell_type": "markdown",
   "metadata": {},
   "source": [
    "Ta muốn chuyển đổi $\\textbf{u}$  thành một vector hàng trước khi chuyển vị nó. Có một vài cách để thực hiện:"
   ]
  },
  {
   "cell_type": "code",
   "execution_count": 77,
   "metadata": {},
   "outputs": [
    {
     "data": {
      "text/plain": [
       "array([[2, 5]])"
      ]
     },
     "execution_count": 77,
     "metadata": {},
     "output_type": "execute_result"
    }
   ],
   "source": [
    "u_row = np.array([u])\n",
    "u_row"
   ]
  },
  {
   "cell_type": "markdown",
   "metadata": {},
   "source": [
    "Lưu ý các dấu ngoặc vuông được thêm vào: đây là một mảng 2D có chỉ một hàng (tức là ma trận 1x2). Nói cách khác, nó thực sự là một **vector hàng**.\n",
   ]
  },
  {
   "cell_type": "code",
   "execution_count": 78,
   "metadata": {},
   "outputs": [
    {
     "data": {
      "text/plain": [
       "array([[2, 5]])"
      ]
     },
     "execution_count": 78,
     "metadata": {},
     "output_type": "execute_result"
    }
   ],
   "source": [
    "u[np.newaxis, :]"
   ]
  },
  {
   "cell_type": "markdown",
   "metadata": {},
   "source": [
    "Điều này khá rõ ràng: chúng ta đang cần một trục tung mới, giữ dữ liệu hiện có làm trục hoành."
   ]
  },
  {
   "cell_type": "code",
   "execution_count": 79,
   "metadata": {},
   "outputs": [
    {
     "data": {
      "text/plain": [
       "array([[2, 5]])"
      ]
     },
     "execution_count": 79,
     "metadata": {},
     "output_type": "execute_result"
    }
   ],
   "source": [
    "u[np.newaxis]"
   ]
  },
  {
   "cell_type": "markdown",
   "metadata": {},
   "source": [
    "Cách này tương đương nhưng ít rõ ràng hơn."
   ]
  },
  {
   "cell_type": "code",
   "execution_count": 80,
   "metadata": {},
   "outputs": [
    {
     "data": {
      "text/plain": [
       "array([[2, 5]])"
      ]
     },
     "execution_count": 80,
     "metadata": {},
     "output_type": "execute_result"
    }
   ],
   "source": [
    "u[None]"
   ]
  },
  {
   "cell_type": "markdown",
   "metadata": {},
   "source": [
    "Đây là phiên bản ngắn nhất, nhưng bạn có thể muốn tránh sử dụng nó bởi vì nó không được rõ ràng. Nguyên nhân nó hoạt động là do `np.newaxis` bằng với `None`, vì vậy nó tương đương với phiên bản trước.\n",
    "\n",
    "Được rồi, bây giờ hãy chuyển vị vector hàng của chúng ta:"
   ]
  },
  {
   "cell_type": "code",
   "execution_count": 81,
   "metadata": {},
   "outputs": [
    {
     "data": {
      "text/plain": [
       "array([[2],\n",
       "       [5]])"
      ]
     },
     "execution_count": 81,
     "metadata": {},
     "output_type": "execute_result"
    }
   ],
   "source": [
    "u_row.T"
   ]
  },
  {
   "cell_type": "markdown",
   "metadata": {},
   "source": [
    "Tuyệt vời! Bây giờ ta đã có một **vector cột**.\n",
    "\n",
    "Thay vì tạo một vector hàng sau đó chuyển vị nó, ta có thể chuyển đổi một mảng 1 chuyển trực tiếp thành một vector cột:"
   ]
  },
  {
   "cell_type": "code",
   "execution_count": 82,
   "metadata": {},
   "outputs": [
    {
     "data": {
      "text/plain": [
       "array([[2],\n",
       "       [5]])"
      ]
     },
     "execution_count": 82,
     "metadata": {},
     "output_type": "execute_result"
    }
   ],
   "source": [
    "u[:, np.newaxis]"
   ]
  },
  {
   "cell_type": "markdown",
   "metadata": {},
   "source": [
    "## Biểu diễn một ma trận\n",
    "Ta đã thấy rằng các vector có thể được biểu diễn bởi các điểm hoặc mũi tên trong không gian N chiều. Liệu có một cách biểu diễn nào cho ma trận không? Bạn có thể đơn giản xem một ma trận là danh sách các vector, vì vậy biểu diễn một ma trận sẽ cho ta nhiều điểm hoặc mũi tên. Ví dụ, hãy tạo một ma trận `P` $2 \\times 4$  và vẽ nó dưới dạng các điểm:"
   ]
  },
  {
   "cell_type": "code",
   "execution_count": 83,
   "metadata": {},
   "outputs": [
    {
     "data": {
      "image/png": "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\n",
      "text/plain": [
       "<Figure size 432x288 with 1 Axes>"
      ]
     },
     "metadata": {
      "needs_background": "light"
     },
     "output_type": "display_data"
    }
   ],
   "source": [
    "P = np.array([\n",
    "        [3.0, 4.0, 1.0, 4.6],\n",
    "        [0.2, 3.5, 2.0, 0.5]\n",
    "    ])\n",
    "x_coords_P, y_coords_P = P\n",
    "plt.scatter(x_coords_P, y_coords_P)\n",
    "plt.axis([0, 5, 0, 4])\n",
    "plt.show()"
   ]
  },
  {
   "cell_type": "markdown",
   "metadata": {},
   "source": [
    "Dĩ nhiên chúng ta cũng có thể lưu trữ 4 vector như các vector hàng thay vì là vector cột, khi đó ta có ma trận $4 \\times 2$ (chuyển vị của $P$). Đó hoàn toàn là một lựa chọn ngẫu nhiên.\n",
    "\n",
    "Vì các vector có thứ tự, bạn có thể thấy ma trận như là một con đường và nó được biểu diễn bằng các chấm liên kết với nhau:"
   ]
  },
  {
   "cell_type": "code",
   "execution_count": 84,
   "metadata": {},
   "outputs": [
    {
     "data": {
      "image/png": "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\n",
      "text/plain": [
       "<Figure size 432x288 with 1 Axes>"
      ]
     },
     "metadata": {
      "needs_background": "light"
     },
     "output_type": "display_data"
    }
   ],
   "source": [
    "plt.plot(x_coords_P, y_coords_P, \"bo\")\n",
    "plt.plot(x_coords_P, y_coords_P, \"b--\")\n",
    "plt.axis([0, 5, 0, 4])\n",
    "plt.grid()\n",
    "plt.show()"
   ]
  },
  {
   "cell_type": "markdown",
   "metadata": {},
   "source": [
    "Hoặc bạn có thể biểu diễn nó như một đa giác: lớp `Polygon` của matplotlib cần một mảng NumPy $n \\times 2$, không phải là một mảng $2 \\times n$, vì vậy chúng ta chỉ cần truyền vào $P^T$:"
   ]
  },
  {
   "cell_type": "code",
   "execution_count": 85,
   "metadata": {},
   "outputs": [
    {
     "data": {
      "image/png": "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\n",
      "text/plain": [
       "<Figure size 432x288 with 1 Axes>"
      ]
     },
     "metadata": {
      "needs_background": "light"
     },
     "output_type": "display_data"
    }
   ],
   "source": [
    "from matplotlib.patches import Polygon\n",
    "plt.gca().add_artist(Polygon(P.T))\n",
    "plt.axis([0, 5, 0, 4])\n",
    "plt.grid()\n",
    "plt.show()"
   ]
  },
  {
   "cell_type": "markdown",
   "metadata": {},
   "source": [
    "## Ứng dụng hình học của các phép toán ma trận\n",
    "Chúng ta đã biết phép cộng vector tạo ra chuyển vị hình học, phép nhân vector với số vô hướng tạo ra phép tái co giãn (phóng đại hoặc thu nhỏ, căn giữa theo gốc toạ độ), và tích vô hướng tạo ra phép chiếu vector lên một vector khác, tái co giãn và tính toạ độ thu được.\n",
    "\n",
    "Tương tự, các phép toán ma trận có những ứng dụng hình học rất hữu ích."
   ]
  },
  {
   "cell_type": "markdown",
   "metadata": {},
   "source": [
    "### Phép cộng = Phép dịch chuyển đa hình học\n",
    "Đầu tiên, cộng hai ma trận với nhau tương đương với cộng tất cả vector của chúng với nhau. Ví dụ, hãy tạo một ma trận $H$ $2 \\times 4$ và cộng nó với $P$ rồi xem kết quả:"
   ]
  },
  {
   "cell_type": "code",
   "execution_count": 86,
   "metadata": {},
   "outputs": [
    {
     "data": {
      "image/png": "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\n",
      "text/plain": [
       "<Figure size 432x288 with 1 Axes>"
      ]
     },
     "metadata": {
      "needs_background": "light"
     },
     "output_type": "display_data"
    }
   ],
   "source": [
    "H = np.array([\n",
    "        [ 0.5, -0.2, 0.2, -0.1],\n",
    "        [ 0.4,  0.4, 1.5, 0.6]\n",
    "    ])\n",
    "P_moved = P + H\n",
    "\n",
    "plt.gca().add_artist(Polygon(P.T, alpha=0.2))\n",
    "plt.gca().add_artist(Polygon(P_moved.T, alpha=0.3, color=\"r\"))\n",
    "for vector, origin in zip(H.T, P.T):\n",
    "    plot_vector2d(vector, origin=origin)\n",
    "\n",
    "plt.text(2.2, 1.8, \"$P$\", color=\"b\", fontsize=18)\n",
    "plt.text(2.0, 3.2, \"$P+H$\", color=\"r\", fontsize=18)\n",
    "plt.text(2.5, 0.5, \"$H_{*,1}$\", color=\"k\", fontsize=18)\n",
    "plt.text(4.1, 3.5, \"$H_{*,2}$\", color=\"k\", fontsize=18)\n",
    "plt.text(0.4, 2.6, \"$H_{*,3}$\", color=\"k\", fontsize=18)\n",
    "plt.text(4.4, 0.2, \"$H_{*,4}$\", color=\"k\", fontsize=18)\n",
    "\n",
    "plt.axis([0, 5, 0, 4])\n",
    "plt.grid()\n",
    "plt.show()"
   ]
  },
  {
   "cell_type": "markdown",
   "metadata": {},
   "source": [
    "Nếu cộng một ma trận gồm toàn các vector giống nhau, chúng ta sẽ thu được phép dịch chuyển hình học đơn giản:"
   ]
  },
  {
   "cell_type": "code",
   "execution_count": 87,
   "metadata": {},
   "outputs": [
    {
     "data": {
      "image/png": "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\n",
      "text/plain": [
       "<Figure size 432x288 with 1 Axes>"
      ]
     },
     "metadata": {
      "needs_background": "light"
     },
     "output_type": "display_data"
    }
   ],
   "source": [
    "H2 = np.array([\n",
    "        [-0.5, -0.5, -0.5, -0.5],\n",
    "        [ 0.4,  0.4,  0.4,  0.4]\n",
    "    ])\n",
    "P_translated = P + H2\n",
    "\n",
    "plt.gca().add_artist(Polygon(P.T, alpha=0.2))\n",
    "plt.gca().add_artist(Polygon(P_translated.T, alpha=0.3, color=\"r\"))\n",
    "for vector, origin in zip(H2.T, P.T):\n",
    "    plot_vector2d(vector, origin=origin)\n",
    "\n",
    "plt.axis([0, 5, 0, 4])\n",
    "plt.grid()\n",
    "plt.show()"
   ]
  },
  {
   "cell_type": "markdown",
   "metadata": {},
   "source": [
    "Mặc dù các ma trận chỉ có thể được cộng với nhau nếu chúng có cùng kích thước, NumPy cho phép cộng một vector hàng hoặc một vector cột với một ma trận: phép toán này được gọi là *lan truyền* (*broadcasting*) và được giải thích rõ hơn trong [Hướng dẫn sử dụng NumPy](tools_numpy.ipynb). Ta có thể thu được kết quả giống như trên với:"
   ]
  },
  {
   "cell_type": "code",
   "execution_count": 88,
   "metadata": {},
   "outputs": [
    {
     "data": {
      "text/plain": [
       "array([[2.5, 3.5, 0.5, 4.1],\n",
       "       [0.6, 3.9, 2.4, 0.9]])"
      ]
     },
     "execution_count": 88,
     "metadata": {},
     "output_type": "execute_result"
    }
   ],
   "source": [
    "P + [[-0.5], [0.4]]  # same as P + H2, thanks to NumPy broadcasting"
   ]
  },
  {
   "cell_type": "markdown",
   "metadata": {},
   "source": [
    "### Phép nhân với số vô hướng\n",
    "Nhân ma trận với số vô hướng thu được tất cả vector của nó nhân với số vô hướng đó, không có gì ngạc nhiên khi kết quả hình học là một phép tái co giãn của toàn bộ hình. Ví dụ, hãy tái co giãn đa giác của chúng ta theo hệ số 60% (co lại, căn giữa theo gốc toạ độ):"
   ]
  },
  {
   "cell_type": "code",
   "execution_count": 89,
   "metadata": {},
   "outputs": [
    {
     "data": {
      "image/png": "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\n",
      "text/plain": [
       "<Figure size 432x288 with 1 Axes>"
      ]
     },
     "metadata": {
      "needs_background": "light"
     },
     "output_type": "display_data"
    }
   ],
   "source": [
    "def plot_transformation(P_before, P_after, text_before, text_after, axis = [0, 5, 0, 4], arrows=False):\n",
    "    if arrows:\n",
    "        for vector_before, vector_after in zip(P_before.T, P_after.T):\n",
    "            plot_vector2d(vector_before, color=\"blue\", linestyle=\"--\")\n",
    "            plot_vector2d(vector_after, color=\"red\", linestyle=\"-\")\n",
    "    plt.gca().add_artist(Polygon(P_before.T, alpha=0.2))\n",
    "    plt.gca().add_artist(Polygon(P_after.T, alpha=0.3, color=\"r\"))\n",
    "    plt.text(P_before[0].mean(), P_before[1].mean(), text_before, fontsize=18, color=\"blue\")\n",
    "    plt.text(P_after[0].mean(), P_after[1].mean(), text_after, fontsize=18, color=\"red\")\n",
    "    plt.axis(axis)\n",
    "    plt.grid()\n",
    "\n",
    "P_rescaled = 0.60 * P\n",
    "plot_transformation(P, P_rescaled, \"$P$\", \"$0.6 P$\", arrows=True)\n",
    "plt.show()"
   ]
  },
  {
   "cell_type": "markdown",
   "metadata": {},
   "source": [
    "### Phép nhân ma trận - Phép chiếu lên một trục\n",
    "Phép nhân ma trận thì phức tạp hơn để minh hoạ, nhưng nó cũng là một công cụ mạnh nhất.\n",
    "\n",
    "Hãy bắt đầu bằng cách định nghĩa một ma trận $1 \\times 2$ $U = \\begin{bmatrix} 1 & 0 \\end{bmatrix}$. Vector hàng này chỉ là một vector đơn vị nằm ngang."
   ]
  },
  {
   "cell_type": "code",
   "execution_count": 90,
   "metadata": {
    "jupyter": {
     "outputs_hidden": true
    }
   },
   "outputs": [],
   "source": [
    "U = np.array([[1, 0]])"
   ]
  },
  {
   "cell_type": "markdown",
   "metadata": {},
   "source": [
    "Bây giờ hãy nhìn vào tích vô hướng $U \\cdot P$:"
   ]
  },
  {
   "cell_type": "code",
   "execution_count": 91,
   "metadata": {},
   "outputs": [
    {
     "data": {
      "text/plain": [
       "array([[3. , 4. , 1. , 4.6]])"
      ]
     },
     "execution_count": 91,
     "metadata": {},
     "output_type": "execute_result"
    }
   ],
   "source": [
    "U.dot(P)"
   ]
  },
  {
   "cell_type": "markdown",
   "metadata": {},
   "source": [
    "Đây là các toạ độ ngang của các vector trong $P$. Nói cách khác, chúng ta chỉ chiếu $P$ lên trục hoành:"
   ]
  },
  {
   "cell_type": "code",
   "execution_count": 92,
   "metadata": {},
   "outputs": [
    {
     "data": {
      "image/png": "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\n",
      "text/plain": [
       "<Figure size 432x288 with 1 Axes>"
      ]
     },
     "metadata": {
      "needs_background": "light"
     },
     "output_type": "display_data"
    }
   ],
   "source": [
    "def plot_projection(U, P):\n",
    "    U_P = U.dot(P)\n",
    "    \n",
    "    axis_end = 100 * U\n",
    "    plot_vector2d(axis_end[0], color=\"black\")\n",
    "\n",
    "    plt.gca().add_artist(Polygon(P.T, alpha=0.2))\n",
    "    for vector, proj_coordinate in zip(P.T, U_P.T):\n",
    "        proj_point = proj_coordinate * U\n",
    "        plt.plot(proj_point[0][0], proj_point[0][1], \"ro\")\n",
    "        plt.plot([vector[0], proj_point[0][0]], [vector[1], proj_point[0][1]], \"r--\")\n",
    "\n",
    "    plt.axis([0, 5, 0, 4])\n",
    "    plt.grid()\n",
    "    plt.show()\n",
    "\n",
    "plot_projection(U, P)"
   ]
  },
  {
   "cell_type": "markdown",
   "metadata": {},
   "source": [
    "Chúng ta có thể chiếu lên bất cứ trục nào, đơn giản bằng cách thay $U$ với bất cứ một vector đơn vị khác. Ví dụ, hãy chiếu lên trục hợp với trục hoành một góc 30°:"
   ]
  },
  {
   "cell_type": "code",
   "execution_count": 93,
   "metadata": {},
   "outputs": [
    {
     "data": {
      "image/png": "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\n",
      "text/plain": [
       "<Figure size 432x288 with 1 Axes>"
      ]
     },
     "metadata": {
      "needs_background": "light"
     },
     "output_type": "display_data"
    }
   ],
   "source": [
    "angle30 = 30 * np.pi / 180  # angle in radians\n",
    "U_30 = np.array([[np.cos(angle30), np.sin(angle30)]])\n",
    "\n",
    "plot_projection(U_30, P)"
   ]
  },
  {
   "cell_type": "markdown",
   "metadata": {},
   "source": [
    "Tốt lắm! Hãy nhớ rằng tích vô hướng của một vector đơn vị và một ma trận cơ bản thực hiện một phép chiếu lên trục và cho ta toạ độ của các điểm kết quả trên trục đó."
   ]
  },
  {
   "cell_type": "markdown",
   "metadata": {},
   "source": [
    "### Phép nhân ma trận - Phép xoay\n",
    "Bây giờ hãy tạo một ma trận $2 \\times 2$ $V$ chứa hai vector đơn vị hợp với trục hoành một góc 30° và 120°:\n",
    "\n",
    "$V = \\begin{bmatrix} \\cos(30°) & \\sin(30°) \\\\ \\cos(120°) & \\sin(120°) \\end{bmatrix}$"
   ]
  },
  {
   "cell_type": "code",
   "execution_count": 94,
   "metadata": {},
   "outputs": [
    {
     "data": {
      "text/plain": [
       "array([[ 0.8660254,  0.5      ],\n",
       "       [-0.5      ,  0.8660254]])"
      ]
     },
     "execution_count": 94,
     "metadata": {},
     "output_type": "execute_result"
    }
   ],
   "source": [
    "angle120 = 120 * np.pi / 180\n",
    "V = np.array([\n",
    "        [np.cos(angle30), np.sin(angle30)],\n",
    "        [np.cos(angle120), np.sin(angle120)]\n",
    "    ])\n",
    "V"
   ]
  },
  {
   "cell_type": "markdown",
   "metadata": {},
   "source": [
    "Hãy nhìn vào tích $VP$:"
   ]
  },
  {
   "cell_type": "code",
   "execution_count": 95,
   "metadata": {},
   "outputs": [
    {
     "data": {
      "text/plain": [
       "array([[ 2.69807621,  5.21410162,  1.8660254 ,  4.23371686],\n",
       "       [-1.32679492,  1.03108891,  1.23205081, -1.8669873 ]])"
      ]
     },
     "execution_count": 95,
     "metadata": {},
     "output_type": "execute_result"
    }
   ],
   "source": [
    "V.dot(P)"
   ]
  },
  {
   "cell_type": "markdown",
   "metadata": {},
   "source": [
    "Hàng đầu tiên bằng với $V_{1,*} P$  toạ độ của hình chiếu của $P$ lên trục 30°, như chúng ta đã thấy ở trên. Hàng thứ hai là $V_{2,*} P$, là toạ độ của hình chiếu $P$ lên trục 120°. Vì vậy, về cơ bản, chúng ta thu được toạ độ của $P$ sau khi xoay các trục hoành và trung 30° (hoặc tương đương sau khi xoay đa giác -30° xung quanh gốc toạ độ)! Hay vẽ $VP$ để thấy điều này:"
   ]
  },
  {
   "cell_type": "code",
   "execution_count": 96,
   "metadata": {},
   "outputs": [
    {
     "data": {
      "image/png": "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\n",
      "text/plain": [
       "<Figure size 432x288 with 1 Axes>"
      ]
     },
     "metadata": {
      "needs_background": "light"
     },
     "output_type": "display_data"
    }
   ],
   "source": [
    "P_rotated = V.dot(P)\n",
    "plot_transformation(P, P_rotated, \"$P$\", \"$VP$\", [-2, 6, -2, 4], arrows=True)\n",
    "plt.show()"
   ]
  },
  {
   "cell_type": "markdown",
   "metadata": {},
   "source": [
    "Ma trận $V$ được gọi là **ma trận xoay** (**rotation matrix**)."
   ]
  },
  {
   "cell_type": "markdown",
   "metadata": {},
   "source": [
    "### Phép nhân ma trận - Các phép biến đổi tuyến tính khác\n",
    "Khái quát hơn, bất kỳ phép biến đổi tuyển tính $f$ nào ánh xạ vector n chiều sang vector m chiều có thể được biểu diễn dưới dạng ma trận $m \\times n$. Ví dụ, giả sử $\\textbf{u}$ là một vector 3 chiều:\n",
    "\n",
    "$\\textbf{u} = \\begin{pmatrix} x \\\\ y \\\\ z \\end{pmatrix}$\n",
    "\n",
    " $f$ được định nghĩa như sau:\n",
    "\n",
    "$f(\\textbf{u}) = \\begin{pmatrix}\n",
    "ax + by + cz \\\\\n",
    "dx + ey + fz\n",
    "\\end{pmatrix}$\n",
    "\n",
    "Phép biến đổi $f$ này ánh xạ vector 3 chiều thành 2 chiều một cách tuyến tính (nghĩa là toạ độ thu được chỉ liên quan đến tổng của các toạ độ gốc). Ta có thể biểu diễn biến đổi này như một ma trận $F$:\n",
    "\n",
    "$F = \\begin{bmatrix}\n",
    "a & b & c \\\\\n",
    "d & e & f\n",
    "\\end{bmatrix}$\n",
    "\n",
    "Bây giờ, để tính $f(\\textbf{u})$, ta có thể đơn giản thực hiện phép nhân ma trận:\n",
    "\n",
    "$f(\\textbf{u}) = F \\textbf{u}$\n",
    "\n",
    "Nếu ta có ma trận $G = \\begin{bmatrix}\\textbf{u}_1 & \\textbf{u}_2 & \\cdots & \\textbf{u}_q \\end{bmatrix}$, trong đó mỗi $\\textbf{u}_i$ là một vector cột 3 chiều, thì $FG$ sẽ dẫn đến biến đổi tuyến tính của tất cả vector $\\textbf{u}_i$ như được định nghĩa bởi ma trận $F$:\n",
    "\n",
    "$FG = \\begin{bmatrix}f(\\textbf{u}_1) & f(\\textbf{u}_2) & \\cdots & f(\\textbf{u}_q) \\end{bmatrix}$\n",
    "\n",
    "Tóm tắt lại, ma trận vế bên trái của tích vô hướng xác định phép chuyển đổi tuyến tính nào sẽ sử dụng cho các vector vế bên phải. Chúng ta đã chỉ ra rằng phép biến đổi này có thể được sử dụng để thực hiện các phép chiếu và quay, nhưng bất kỳ phép biến đổi tuyến tính nào khác đều có thể được thực hiện. Ví dụ, ở đây là phép biến đổi được gọi là *ánh xạ cắt* (*shear mapping*):"
   ]
  },
  {
   "cell_type": "code",
   "execution_count": 97,
   "metadata": {
    "scrolled": true
   },
   "outputs": [
    {
     "data": {
      "image/png": "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\n",
      "text/plain": [
       "<Figure size 432x288 with 1 Axes>"
      ]
     },
     "metadata": {
      "needs_background": "light"
     },
     "output_type": "display_data"
    }
   ],
   "source": [
    "F_shear = np.array([\n",
    "        [1, 1.5],\n",
    "        [0, 1]\n",
    "    ])\n",
    "plot_transformation(P, F_shear.dot(P), \"$P$\", \"$F_{shear} P$\",\n",
    "                    axis=[0, 10, 0, 7])\n",
    "plt.show()"
   ]
  },
  {
   "cell_type": "markdown",
   "metadata": {},
   "source": [
    "Hãy xem phép biến đổi này ảnh hưởng đến **hình vuông đơn vị** như thế nào:"
   ]
  },
  {
   "cell_type": "code",
   "execution_count": 98,
   "metadata": {},
   "outputs": [
    {
     "data": {
      "image/png": "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\n",
      "text/plain": [
       "<Figure size 432x288 with 1 Axes>"
      ]
     },
     "metadata": {
      "needs_background": "light"
     },
     "output_type": "display_data"
    }
   ],
   "source": [
    "Square = np.array([\n",
    "        [0, 0, 1, 1],\n",
    "        [0, 1, 1, 0]\n",
    "    ])\n",
    "plot_transformation(Square, F_shear.dot(Square), \"$Square$\", \"$F_{shear} Square$\",\n",
    "                    axis=[0, 2.6, 0, 1.8])\n",
    "plt.show()"
   ]
  },
  {
   "cell_type": "markdown",
   "metadata": {},
   "source": [
    "Bây giờ hãy xem **ánh xạ bóp** (**squeeze mapping**):"
   ]
  },
  {
   "cell_type": "code",
   "execution_count": 99,
   "metadata": {},
   "outputs": [
    {
     "data": {
      "image/png": "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\n",
      "text/plain": [
       "<Figure size 432x288 with 1 Axes>"
      ]
     },
     "metadata": {
      "needs_background": "light"
     },
     "output_type": "display_data"
    }
   ],
   "source": [
    "F_squeeze = np.array([\n",
    "        [1.4, 0],\n",
    "        [0, 1/1.4]\n",
    "    ])\n",
    "plot_transformation(P, F_squeeze.dot(P), \"$P$\", \"$F_{squeeze} P$\",\n",
    "                    axis=[0, 7, 0, 5])\n",
    "plt.show()"
   ]
  },
  {
   "cell_type": "markdown",
   "metadata": {},
   "source": [
    "Ảnh hưởng lên hình vuông đơn vị:"
   ]
  },
  {
   "cell_type": "code",
   "execution_count": 100,
   "metadata": {},
   "outputs": [
    {
     "data": {
      "image/png": "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\n",
      "text/plain": [
       "<Figure size 432x288 with 1 Axes>"
      ]
     },
     "metadata": {
      "needs_background": "light"
     },
     "output_type": "display_data"
    }
   ],
   "source": [
    "plot_transformation(Square, F_squeeze.dot(Square), \"$Square$\", \"$F_{squeeze} Square$\",\n",
    "                    axis=[0, 1.8, 0, 1.2])\n",
    "plt.show()"
   ]
  },
  {
   "cell_type": "markdown",
   "metadata": {},
   "source": [
    "Hãy xem cái cuối cùng: phép đối xứng qua trục hoành:"
   ]
  },
  {
   "cell_type": "code",
   "execution_count": 101,
   "metadata": {},
   "outputs": [
    {
     "data": {
      "image/png": "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\n",
      "text/plain": [
       "<Figure size 432x288 with 1 Axes>"
      ]
     },
     "metadata": {
      "needs_background": "light"
     },
     "output_type": "display_data"
    }
   ],
   "source": [
    "F_reflect = np.array([\n",
    "        [1, 0],\n",
    "        [0, -1]\n",
    "    ])\n",
    "plot_transformation(P, F_reflect.dot(P), \"$P$\", \"$F_{reflect} P$\",\n",
    "                    axis=[-2, 9, -4.5, 4.5])\n",
    "plt.show()"
   ]
  },
  {
   "cell_type": "markdown",
   "metadata": {},
   "source": [
    "## Nghịch đảo ma trận\n",
    "Bây giờ chúng ta đã hiểu một ma trận có thể biểu diễn bất kỳ phép biến đổi tuyến tính nào, một câu hỏi tự nhiên: chúng ta có thể tìm một ma trận biến đổi mà có thể đảo ngược phép biến đổi của ma trận biến đổi $F$ đã cho hay không? Câu trả lời là có ... đôi khi!\n",
    "Khi nó tồn tại, ma trận như thế được gọi là **nghịch đảo** (**inverse**) của $F$ và được ký hiệu $F^{-1}$.\n",
    "\n",
    "Ví dụ, phép quay, ánh xạ cắt và ánh xạ bóp ở trên đều có biến đổi nghịch đảo. Hãy chứng minh điều này trên ánh xạ cắt:"
   ]
  },
  {
   "cell_type": "code",
   "execution_count": 102,
   "metadata": {},
   "outputs": [
    {
     "data": {
      "image/png": "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\n",
      "text/plain": [
       "<Figure size 432x288 with 1 Axes>"
      ]
     },
     "metadata": {
      "needs_background": "light"
     },
     "output_type": "display_data"
    }
   ],
   "source": [
    "F_inv_shear = np.array([\n",
    "    [1, -1.5],\n",
    "    [0, 1]\n",
    "])\n",
    "P_sheared = F_shear.dot(P)\n",
    "P_unsheared = F_inv_shear.dot(P_sheared)\n",
    "plot_transformation(P_sheared, P_unsheared, \"$P_{sheared}$\", \"$P_{unsheared}$\",\n",
    "                    axis=[0, 10, 0, 7])\n",
    "plt.plot(P[0], P[1], \"b--\")\n",
    "plt.show()"
   ]
  },
  {
   "cell_type": "markdown",
   "metadata": {},
   "source": [
    "Chúng ta đã áp dụng ánh xạ cắt trên $P$, như chúng ta đã làm ở trên, nhưng bây giờ chúng ta áp dụng một phép biến đổi thứ hai lên kết quả, và điều này có tác dụng quay trở lại $P$ ban đầu (ta đã vẽ biểu đồ phác thảo của $P$ ban đầu để kiểm tra kỹ). Phép biến đổi thứ hai là nghịch đảo của phép biến đổi thứ nhất.\n",
    "\n",
    "Chúng ta đã định nghĩa ma trận nghịch đảo $F_{shear}^{-1}$ theo cách thủ công, nhưng NumPy hỗ trợ hàm `inv` để tính nghịch đảo của ma trận, vì vậy chúng ta có thể sử dụng nó thay thế:"
   ]
  },
  {
   "cell_type": "code",
   "execution_count": 103,
   "metadata": {},
   "outputs": [
    {
     "data": {
      "text/plain": [
       "array([[ 1. , -1.5],\n",
       "       [ 0. ,  1. ]])"
      ]
     },
     "execution_count": 103,
     "metadata": {},
     "output_type": "execute_result"
    }
   ],
   "source": [
    "F_inv_shear = LA.inv(F_shear)\n",
    "F_inv_shear"
   ]
  },
  {
   "cell_type": "markdown",
   "metadata": {},
   "source": [
    "Chỉ các ma trận vuông mới có thể nghịch đảo. Điều này có lý khi bạn nghĩ về nó nếu bạn có một phép biến đổi có thể giảm số chiều, kế đó một vài thông tin bị mất và không có cách nào bạn có thể lấy lại nó. Ví dụ, giả sử bạn sử dụng ma trận $2 \\times 3$ để chiếu một vật thể 3D lên một mặt phẳng. Kết quả có thể trông như thế này:"
   ]
  },
  {
   "cell_type": "code",
   "execution_count": 104,
   "metadata": {},
   "outputs": [
    {
     "data": {
      "image/png": "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\n",
      "text/plain": [
       "<Figure size 432x288 with 1 Axes>"
      ]
     },
     "metadata": {
      "needs_background": "light"
     },
     "output_type": "display_data"
    }
   ],
   "source": [
    "plt.plot([0, 0, 1, 1, 0, 0.1, 0.1, 0, 0.1, 1.1, 1.0, 1.1, 1.1, 1.0, 1.1, 0.1],\n",
    "         [0, 1, 1, 0, 0, 0.1, 1.1, 1.0, 1.1, 1.1, 1.0, 1.1, 0.1, 0, 0.1, 0.1],\n",
    "         \"r-\")\n",
    "plt.axis([-0.5, 2.1, -0.5, 1.5])\n",
    "plt.show()"
   ]
  },
  {
   "cell_type": "markdown",
   "metadata": {},
   "source": [
    "Nhìn vào hình này, không thể nói liệu đây là một phép chiếu của khối lập phương hay hình chiếu của một vật thể chữ nhật hẹp. Một vài thông tin đã bị mất trong phép chiếu.\n",
    "\n",
    "Thậm chí các ma trận biến đổi vuông có thể gây mất thông tin. Ví dụ, xét ma trận biến đổi này:"
   ]
  },
  {
   "cell_type": "code",
   "execution_count": 105,
   "metadata": {},
   "outputs": [
    {
     "data": {
      "image/png": "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\n",
      "text/plain": [
       "<Figure size 432x288 with 1 Axes>"
      ]
     },
     "metadata": {
      "needs_background": "light"
     },
     "output_type": "display_data"
    }
   ],
   "source": [
    "F_project = np.array([\n",
    "        [1, 0],\n",
    "        [0, 0]\n",
    "    ])\n",
    "plot_transformation(P, F_project.dot(P), \"$P$\", \"$F_{project} \\cdot P$\",\n",
    "                    axis=[0, 6, -1, 4])\n",
    "plt.show()"
   ]
  },
  {
   "cell_type": "markdown",
   "metadata": {},
   "source": [
    "Ma trận biến đổi này thực hiện phép chiếu lên trục hoành. Đa giác của chúng ta bị làm phẳng hoàn toàn nên một số thông tin hoàn toàn bị mất và không thể quay về đa giác ban đầu bằng cách sử dụng biến đổi tuyến tính. Nói cách khác, $F_{project}$ không có nghịch đảo. Một ma trận vuông không thể đảo ngược như vậy gọi là một **ma trận suy biến** (**singular matrix** hay **degenerate matrix**). Nếu chúng ta yêu cầu NumPy tính nghịch đảo của nó, nó sẽ trả về một ngoại lệ:"
   ]
  },
  {
   "cell_type": "code",
   "execution_count": 106,
   "metadata": {},
   "outputs": [
    {
     "name": "stdout",
     "output_type": "stream",
     "text": [
      "LinAlgError: Singular matrix\n"
     ]
    }
   ],
   "source": [
    "try:\n",
    "    LA.inv(F_project)\n",
    "except LA.LinAlgError as e:\n",
    "    print(\"LinAlgError:\", e)"
   ]
  },
  {
   "cell_type": "markdown",
   "metadata": {},
   "source": [
    "Đây là một ví dụ khác về ma trận suy biến. Phép biến đổi này thực hiện một phép chiếu lên trục 30° trên trục hoành:"
   ]
  },
  {
   "cell_type": "code",
   "execution_count": 107,
   "metadata": {},
   "outputs": [
    {
     "data": {
      "image/png": "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\n",
      "text/plain": [
       "<Figure size 432x288 with 1 Axes>"
      ]
     },
     "metadata": {
      "needs_background": "light"
     },
     "output_type": "display_data"
    }
   ],
   "source": [
    "angle30 = 30 * np.pi / 180\n",
    "F_project_30 = np.array([\n",
    "               [np.cos(angle30)**2, np.sin(2*angle30)/2],\n",
    "               [np.sin(2*angle30)/2, np.sin(angle30)**2]\n",
    "         ])\n",
    "plot_transformation(P, F_project_30.dot(P), \"$P$\", \"$F_{project\\_30} \\cdot P$\",\n",
    "                    axis=[0, 6, -1, 4])\n",
    "plt.show()"
   ]
  },
  {
   "cell_type": "markdown",
   "metadata": {},
   "source": [
    "Nhưng lần này, do lỗi làm tròn dấu chấm động, NumPy đã cố gắng tính toán thu được nghịch đảo như sau (dù vậy, hãy lưu ý độ lớn của các phần tử này):"
   ]
  },
  {
   "cell_type": "code",
   "execution_count": 108,
   "metadata": {},
   "outputs": [
    {
     "data": {
      "text/plain": [
       "array([[ 1.20095990e+16, -2.08012357e+16],\n",
       "       [-2.08012357e+16,  3.60287970e+16]])"
      ]
     },
     "execution_count": 108,
     "metadata": {},
     "output_type": "execute_result"
    }
   ],
   "source": [
    "LA.inv(F_project_30)"
   ]
  },
  {
   "cell_type": "markdown",
   "metadata": {},
   "source": [
    "Như bạn có thể biết, tích vô hướng của một ma trận với nghịch đảo của nó sẽ thu được một ma trận đơn vị:\n",
    "\n",
    "$M \\cdot M^{-1} = M^{-1} \\cdot M = I$\n",
    "\n",
    "Điều này có lý vì thực hiện biến đổi tuyến tính theo sau là phép biến đổi nghịch đảo dẫn đến không có sự thay đổi nào cả."
   ]
  },
  {
   "cell_type": "code",
   "execution_count": 109,
   "metadata": {},
   "outputs": [
    {
     "data": {
      "text/plain": [
       "array([[1., 0.],\n",
       "       [0., 1.]])"
      ]
     },
     "execution_count": 109,
     "metadata": {},
     "output_type": "execute_result"
    }
   ],
   "source": [
    "F_shear.dot(LA.inv(F_shear))"
   ]
  },
  {
   "cell_type": "markdown",
   "metadata": {},
   "source": [
    "Một cách khác để diễn đạt điều này là nghịch đảo của ma trận $M$ là chính nó $M$:\n",
    "\n",
    "$((M)^{-1})^{-1} = M$"
   ]
  },
  {
   "cell_type": "code",
   "execution_count": 110,
   "metadata": {},
   "outputs": [
    {
     "data": {
      "text/plain": [
       "array([[1. , 1.5],\n",
       "       [0. , 1. ]])"
      ]
     },
     "execution_count": 110,
     "metadata": {},
     "output_type": "execute_result"
    }
   ],
   "source": [
    "LA.inv(LA.inv(F_shear))"
   ]
  },
  {
   "cell_type": "markdown",
   "metadata": {},
   "source": [
    "Ngoài ra, nghịch đảo của phép co giãn theo tỷ lệ $\\lambda$ tất nhiên là có giãn theo tỷ lệ $\\frac{1}{\\lambda}$:\n",
    "\n",
    "$ (\\lambda \\times M)^{-1} = \\frac{1}{\\lambda} \\times M^{-1}$\n",
    "\n",
    "Một khi bạn hiểu được ý nghĩa hình học của ma trận như những phép biến đổi tuyến tính, hầu hết những tính chất này có vẻ khá trực quan.\n",
    "\n",
    "Một ma trận là nghịch đảo của chính nó được gọi là một **ma trận tự nghịch đảo** (**involution**). Các ví dụ đơn giản nhất là ma trận đối xứng, hoặc quay 180°, nhưng cũng có những phép phức tạp hơn, ví dụ như tưởng tượng một phép biến hình ép theo chiều ngang, sau đó lấy đối xứng qua trục tung và cuối cùng quay 90° theo chiều kim đồng hồ. Nhấc một chiếc khăn ăn và thử làm điều đó hai lần: bạn sẽ kết thúc ở vị trí ban đầu. Đây là ma trận tự nghịch đảo tương ứng:"
   ]
  },
  {
   "cell_type": "code",
   "execution_count": 111,
   "metadata": {},
   "outputs": [
    {
     "data": {
      "image/png": "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\n",
      "text/plain": [
       "<Figure size 432x288 with 1 Axes>"
      ]
     },
     "metadata": {
      "needs_background": "light"
     },
     "output_type": "display_data"
    }
   ],
   "source": [
    "F_involution  = np.array([\n",
    "        [0, -2],\n",
    "        [-1/2, 0]\n",
    "    ])\n",
    "plot_transformation(P, F_involution.dot(P), \"$P$\", \"$F_{involution} \\cdot P$\",\n",
    "                    axis=[-8, 5, -4, 4])\n",
    "plt.show()"
   ]
  },
  {
   "cell_type": "markdown",
   "metadata": {},
   "source": [
    "Cuối cùng, một ma trận vuông $H$ có nghịch đảo là chuyển vị của chính nó được gọi là một **ma trận trực giao**:\n",
    "\n",
    "$H^{-1} = H^T$\n",
    "\n",
    "Vì vậy:\n",
    "\n",
    "$H \\cdot H^T = H^T \\cdot H = I$\n",
    "\n",
    "Nó tương ứng với phép biến đổi giữ nguyên khoảng cách, như phép xoay hay phép đối xứng, và tổ hợp của chúng, nhưng không phải là phép co giãn, cắt hoặc bóp. Hãy kiểm tra xem liệu $F_{reflect}$ có thực sự trục giao:"
   ]
  },
  {
   "cell_type": "code",
   "execution_count": 112,
   "metadata": {},
   "outputs": [
    {
     "data": {
      "text/plain": [
       "array([[1, 0],\n",
       "       [0, 1]])"
      ]
     },
     "execution_count": 112,
     "metadata": {},
     "output_type": "execute_result"
    }
   ],
   "source": [
    "F_reflect.dot(F_reflect.T)"
   ]
  },
  {
   "cell_type": "markdown",
   "metadata": {},
   "source": [
    "## Định thức\n",
    "Định thức của ma trận vuông $ M $, được ký $ \\ det (M) $ hoặc $ \\ det M $ hoặc $ | M | $, là một giá trị có thể được tính từ các phần tử của nó $ (M_ {i, j}) $ bằng cách sử dụng các phương pháp tương đương khác nhau. Một trong những phương pháp đơn giản nhất là phương pháp đệ quy này:\n",
    "\n",
    "$|M| = M_{1,1}\\times|M^{(1,1)}| - M_{2,1}\\times|M^{(2,1)}| + M_{3,1}\\times|M^{(3,1)}| - M_{4,1}\\times|M^{(4,1)}| + \\cdots ± M_{n,1}\\times|M^{(n,1)}|$\n",
    "\n",
    "* Trong đó $M^{(i,j)}$ là ma trận $M$ không có hàng $i$ và cột $j$.\n",
    "\n",
    "Ví dụ, hãy tính định thức của ma trân $3 \\times 3$ sau:\n",
    "\n",
    "$M = \\begin{bmatrix}\n",
    "  1 & 2 & 3 \\\\\n",
    "  4 & 5 & 6 \\\\\n",
    "  7 & 8 & 0\n",
    "\\end{bmatrix}$\n",
    "\n",
    "Sử dụng phương pháp trên, ta thu được:\n",
    "\n",
    "$|M| = 1 \\times \\left | \\begin{bmatrix} 5 & 6 \\\\ 8 & 0 \\end{bmatrix} \\right |\n",
    "     - 2 \\times \\left | \\begin{bmatrix} 4 & 6 \\\\ 7 & 0 \\end{bmatrix} \\right |\n",
    "     + 3 \\times \\left | \\begin{bmatrix} 4 & 5 \\\\ 7 & 8 \\end{bmatrix} \\right |$\n",
    "\n",
    "Bây giờ ta cần tính định thức của từ ma trận trong các ma trận $2 \\times 2$ (các định thức này được gọi là định thức con)\n",
    "\n",
    "$\\left | \\begin{bmatrix} 5 & 6 \\\\ 8 & 0 \\end{bmatrix} \\right | = 5 \\times 0 - 6 \\times 8 = -48$\n",
    "\n",
    "$\\left | \\begin{bmatrix} 4 & 6 \\\\ 7 & 0 \\end{bmatrix} \\right | = 4 \\times 0 - 6 \\times 7 = -42$\n",
    "\n",
    "$\\left | \\begin{bmatrix} 4 & 5 \\\\ 7 & 8 \\end{bmatrix} \\right | = 4 \\times 8 - 5 \\times 7 = -3$\n",
    "\n",
    "Bây giờ ta có thể tính toán kết quả cuối cùng:\n",
    "\n",
    "$|M| = 1 \\times (-48) - 2 \\times (-42) + 3 \\times (-3) = 27$"
   ]
  },
  {
   "cell_type": "markdown",
   "metadata": {},
   "source": [
    "Để thu được định thức của một ma trận, bạn có thể gọi hàm `det` của NumPy trong mô-đun `numpy.linalg`."
   ]
  },
  {
   "cell_type": "code",
   "execution_count": 113,
   "metadata": {},
   "outputs": [
    {
     "data": {
      "text/plain": [
       "27.0"
      ]
     },
     "execution_count": 113,
     "metadata": {},
     "output_type": "execute_result"
    }
   ],
   "source": [
    "M = np.array([\n",
    "        [1, 2, 3],\n",
    "        [4, 5, 6],\n",
    "        [7, 8, 0]\n",
    "    ])\n",
    "LA.det(M)"
   ]
  },
  {
   "cell_type": "markdown",
   "metadata": {},
   "source": [
    "Một trong những ứng dụng chính của định thức là để *xác định* liệu một ma trận vuông có khả nghịch hay không: nếu định thức bằng 0, ma trận *không thể* nghịch đảo (nó là một ma trận suy biến), và nếu định thức khác 0 thì ma trận đó *có thể* nghịch đảo.\n",
    "\n",
    "Ví dụ, hãy tính định thức cho các ma trận $F_{project}$, $F_{project\\_30}$ and $F_{shear}$ mà ta đã định nghĩa ở trên:"
   ]
  },
  {
   "cell_type": "code",
   "execution_count": 114,
   "metadata": {},
   "outputs": [
    {
     "data": {
      "text/plain": [
       "0.0"
      ]
     },
     "execution_count": 114,
     "metadata": {},
     "output_type": "execute_result"
    }
   ],
   "source": [
    "LA.det(F_project)"
   ]
  },
  {
   "cell_type": "markdown",
   "metadata": {},
   "source": [
    "Đúng vậy, $F_{project}$ là một ma trận suy biến, như chúng ta đã thấy ở trên."
   ]
  },
  {
   "cell_type": "code",
   "execution_count": 115,
   "metadata": {},
   "outputs": [
    {
     "data": {
      "text/plain": [
       "2.0816681711721642e-17"
      ]
     },
     "execution_count": 115,
     "metadata": {},
     "output_type": "execute_result"
    }
   ],
   "source": [
    "LA.det(F_project_30)"
   ]
  },
  {
   "cell_type": "markdown",
   "metadata": {},
   "source": [
    "Định thức này gần với 0 một cách đáng ngờ: nó thực sự phải là 0, nhưng nó không bằng 0 do lỗi dấu chấm động nhỏ. Ma trận này thật sự là một ma trận suy biến."
   ]
  },
  {
   "cell_type": "code",
   "execution_count": 116,
   "metadata": {},
   "outputs": [
    {
     "data": {
      "text/plain": [
       "1.0"
      ]
     },
     "execution_count": 116,
     "metadata": {},
     "output_type": "execute_result"
    }
   ],
   "source": [
    "LA.det(F_shear)"
   ]
  },
  {
   "cell_type": "markdown",
   "metadata": {},
   "source": [
    "Hoàn hảo! Ma trận này * có thể * được nghịch đảo như chúng ta đã thấy trước đó. Wow, toán học thực sự hiệu quả!"
   ]
  },
  {
   "cell_type": "markdown",
   "metadata": {},
   "source": [
    "Định thức cũng có thể được sử dụng để đo lường mức độ ảnh hưởng của một phép biến đổi tuyến tính đến diện tích bề mặt: ví dụ, ma trận phép chiếu $ F_ {project} $ và $ F_ {project \\ _30} $ làm phẳng hoàn toàn đa giác $ P $, cho đến khi diện tích của nó bằng không. Đây là lý do tại sao định thức của các ma trận này là 0. Ánh xạ cắt đã sửa đổi hình dạng của đa giác, nhưng nó không ảnh hưởng đến diện tích bề mặt của nó, đó là lý do tại sao định thức là 1. Bạn có thể thử tính toán định thức của ma trận xoay, và bạn sẽ thu được kết quả bằng 1. Còn ma trận co giãn thì sao? Hãy xem ví dụ dưới đây:"
   ]
  },
  {
   "cell_type": "code",
   "execution_count": 117,
   "metadata": {},
   "outputs": [
    {
     "data": {
      "image/png": "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\n",
      "text/plain": [
       "<Figure size 432x288 with 1 Axes>"
      ]
     },
     "metadata": {
      "needs_background": "light"
     },
     "output_type": "display_data"
    }
   ],
   "source": [
    "F_scale = np.array([\n",
    "        [0.5, 0],\n",
    "        [0, 0.5]\n",
    "    ])\n",
    "plot_transformation(P, F_scale.dot(P), \"$P$\", \"$F_{scale} \\cdot P$\",\n",
    "                    axis=[0, 6, -1, 4])\n",
    "plt.show()"
   ]
  },
  {
   "cell_type": "markdown",
   "metadata": {},
   "source": [
    "Chúng ta đã co giãn đa giác theo hệ số 1/2 trên cả trục tung và trục hoành để diện tích bề mặt của đa giác thu được bằng 1/4 của đa giác ban đầu."
   ]
  },
  {
   "cell_type": "code",
   "execution_count": 118,
   "metadata": {},
   "outputs": [
    {
     "data": {
      "text/plain": [
       "0.25"
      ]
     },
     "execution_count": 118,
     "metadata": {},
     "output_type": "execute_result"
    }
   ],
   "source": [
    "LA.det(F_scale)"
   ]
  },
  {
   "cell_type": "markdown",
   "metadata": {},
   "source": [
    "Chính xác!\n",
    "\n",
    "Định thức thực sự có thể là số âm, khi phép biến đổi dẫn đến một phiên bản \"lật ngược\" của đa giác ban đầu (ví dụ: găng tay trái trở thành găng tay phải). Ví dụ, định thức của ma trận `F_reflect` là -1 vì diện tích bề mặt được giữ nguyên nhưng đa giác bị lật ngược:"
   ]
  },
  {
   "cell_type": "code",
   "execution_count": 119,
   "metadata": {},
   "outputs": [
    {
     "data": {
      "text/plain": [
       "-1.0"
      ]
     },
     "execution_count": 119,
     "metadata": {},
     "output_type": "execute_result"
    }
   ],
   "source": [
    "LA.det(F_reflect)"
   ]
  },
  {
   "cell_type": "markdown",
   "metadata": {},
   "source": [
    "## Kết hợp các phép biến đổi tuyến tính\n",
    "Một số phép biến đổi tuyến tính có thể được xâu chuỗi đơn giản bằng cách thực hiện nhiều tích vô hướng liên tiếp. Ví dụ, để thực hiện ánh xạ bóp, theo sau là ánh xạ cắt, chỉ cần viết:"
   ]
  },
  {
   "cell_type": "code",
   "execution_count": 120,
   "metadata": {},
   "outputs": [],
   "source": [
    "P_squeezed_then_sheared = F_shear.dot(F_squeeze.dot(P))"
   ]
  },
  {
   "cell_type": "markdown",
   "metadata": {},
   "source": [
    "Vì tích vô hướng có tính chất kết hợp, đoạn mã sau tương đương:"
   ]
  },
  {
   "cell_type": "code",
   "execution_count": 121,
   "metadata": {},
   "outputs": [],
   "source": [
    "P_squeezed_then_sheared = (F_shear.dot(F_squeeze)).dot(P)"
   ]
  },
  {
   "cell_type": "markdown",
   "metadata": {},
   "source": [
    "Lưu ý rằng thứ tự của các phép biến đổi là ngược lại với thứ tự tích vô hướng.\n",
    "\n",
    "Nếu chúng ta định thực hiện kết hợp các phép biến đổi tuyến tính này nhiều lần, chúng ta cũng có thể lưu ma trận thành phần như sau:"
   ]
  },
  {
   "cell_type": "code",
   "execution_count": 122,
   "metadata": {
    "jupyter": {
     "outputs_hidden": true
    }
   },
   "outputs": [],
   "source": [
    "F_squeeze_then_shear = F_shear.dot(F_squeeze)\n",
    "P_squeezed_then_sheared = F_squeeze_then_shear.dot(P)"
   ]
  },
  {
   "cell_type": "markdown",
   "metadata": {},
   "source": [
    "Từ giờ trở đi, ta có thể thực hiện cả hai phép biến đổi chỉ trong một tích vô hướng, điều này có thể dẫn đến việc tăng hiệu suất rất đáng kể."
   ]
  },
  {
   "cell_type": "markdown",
   "metadata": {},
   "source": [
    "Nếu bạn muốn thực hiện nghịch đảo của phép biến đổi kép này thì sao? Vâng, nếu bạn bóp và sau đó bạn cắt, và bạn muốn hoàn tác những gì bạn đã làm, điều hiển nhiên là bạn nên hoàn tác việc bóp trước rồi mới hoàn tác việc cắt. Theo ngôn ngữ toán học, cho hai ma trận khả nghịch (hay còn gọi là không suy biến) $ Q $ và $ R $:\n",
    "\n",
    "$(Q \\cdot R)^{-1} = R^{-1} \\cdot Q^{-1}$\n",
    "\n",
    "Và trong NumPy:"
   ]
  },
  {
   "cell_type": "code",
   "execution_count": 123,
   "metadata": {},
   "outputs": [
    {
     "data": {
      "text/plain": [
       "array([[ True,  True],\n",
       "       [ True,  True]])"
      ]
     },
     "execution_count": 123,
     "metadata": {},
     "output_type": "execute_result"
    }
   ],
   "source": [
    "LA.inv(F_shear.dot(F_squeeze)) == LA.inv(F_squeeze).dot(LA.inv(F_shear))"
   ]
  },
  {
   "cell_type": "markdown",
   "metadata": {},
   "source": [
    "## Phân tích giá trị suy biến\n",
    "Hóa ra rằng bất kỳ ma trận $ M $ $ m \\times n $ nào cũng có thể được phân tích thành tích vô hướng của ba ma trận đơn giản:\n",
    "* một ma trận xoay $U$ (một ma trận trực giao $m \\times m$)\n",
    "* một ma trận co giãn và chiếu $\\Sigma$ (một ma trận đường chéo $m \\times n$)\n",
    "* một ma trận xoay khác $V^T$ (một ma trận trực giao $n \\times n$)\n",
    "\n",
    "$M = U \\cdot \\Sigma \\cdot V^{T}$\n",
    "\n",
    "Ví dụ, hãy phân tích phép biến đổi cắt:"
   ]
  },
  {
   "cell_type": "code",
   "execution_count": 124,
   "metadata": {},
   "outputs": [
    {
     "data": {
      "text/plain": [
       "array([[ 0.89442719, -0.4472136 ],\n",
       "       [ 0.4472136 ,  0.89442719]])"
      ]
     },
     "execution_count": 124,
     "metadata": {},
     "output_type": "execute_result"
    }
   ],
   "source": [
    "U, S_diag, V_T = LA.svd(F_shear) # note: in python 3 you can rename S_diag to Σ_diag\n",
    "U"
   ]
  },
  {
   "cell_type": "code",
   "execution_count": 125,
   "metadata": {},
   "outputs": [
    {
     "data": {
      "text/plain": [
       "array([2. , 0.5])"
      ]
     },
     "execution_count": 125,
     "metadata": {},
     "output_type": "execute_result"
    }
   ],
   "source": [
    "S_diag"
   ]
  },
  {
   "cell_type": "markdown",
   "metadata": {},
   "source": [
    "Lưu ý rằng đây chỉ là một mảng 1D chứa các giá trị đường chéo của Σ. Để có được ma trận Σ thực, chúng ta có thể sử dụng hàm `diag` của NumPy:"
   ]
  },
  {
   "cell_type": "code",
   "execution_count": 126,
   "metadata": {},
   "outputs": [
    {
     "data": {
      "text/plain": [
       "array([[2. , 0. ],\n",
       "       [0. , 0.5]])"
      ]
     },
     "execution_count": 126,
     "metadata": {},
     "output_type": "execute_result"
    }
   ],
   "source": [
    "S = np.diag(S_diag)\n",
    "S"
   ]
  },
  {
   "cell_type": "markdown",
   "metadata": {},
   "source": [
    "Bây giờ, hãy kiểm tra xem $ U \\cdot \\Sigma \\cdot V^T $ có thực sự bằng với `F_shear` không:"
   ]
  },
  {
   "cell_type": "code",
   "execution_count": 127,
   "metadata": {},
   "outputs": [
    {
     "data": {
      "text/plain": [
       "array([[ 1.00000000e+00,  1.50000000e+00],\n",
       "       [-1.25949234e-17,  1.00000000e+00]])"
      ]
     },
     "execution_count": 127,
     "metadata": {},
     "output_type": "execute_result"
    }
   ],
   "source": [
    "U.dot(np.diag(S_diag)).dot(V_T)"
   ]
  },
  {
   "cell_type": "code",
   "execution_count": 128,
   "metadata": {},
   "outputs": [
    {
     "data": {
      "text/plain": [
       "array([[1. , 1.5],\n",
       "       [0. , 1. ]])"
      ]
     },
     "execution_count": 128,
     "metadata": {},
     "output_type": "execute_result"
    }
   ],
   "source": [
    "F_shear"
   ]
  },
  {
   "cell_type": "markdown",
   "metadata": {},
   "source": [
    "Nó hoạt động rất mượt mà! Hãy áp dụng lần lượt các phép biến đổi này (theo thứ tự ngược lại) trên hình vuông đơn vị để hiểu điều gì đang xảy ra. Đầu tiên, hãy áp dụng phép xoay đầu tiên $ V^T $:"
   ]
  },
  {
   "cell_type": "code",
   "execution_count": 129,
   "metadata": {},
   "outputs": [
    {
     "data": {
      "image/png": "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\n",
      "text/plain": [
       "<Figure size 432x288 with 1 Axes>"
      ]
     },
     "metadata": {
      "needs_background": "light"
     },
     "output_type": "display_data"
    }
   ],
   "source": [
    "plot_transformation(Square, V_T.dot(Square), \"$Square$\", \"$V^T \\cdot Square$\",\n",
    "                    axis=[-0.5, 3.5 , -1.5, 1.5])\n",
    "plt.show()"
   ]
  },
  {
   "cell_type": "markdown",
   "metadata": {},
   "source": [
    "Bây giờ, hãy tái co giãn theo trục tung và trục hoành bằng cách sử dụng $ \\Sigma $:"
   ]
  },
  {
   "cell_type": "code",
   "execution_count": 130,
   "metadata": {},
   "outputs": [
    {
     "data": {
      "image/png": "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\n",
      "text/plain": [
       "<Figure size 432x288 with 1 Axes>"
      ]
     },
     "metadata": {
      "needs_background": "light"
     },
     "output_type": "display_data"
    }
   ],
   "source": [
    "plot_transformation(V_T.dot(Square), S.dot(V_T).dot(Square), \"$V^T \\cdot Square$\", \"$\\Sigma \\cdot V^T \\cdot Square$\",\n",
    "                    axis=[-0.5, 3.5 , -1.5, 1.5])\n",
    "plt.show()"
   ]
  },
  {
   "cell_type": "markdown",
   "metadata": {},
   "source": [
    "Cuối cùng, ta hãy áp dụng phép xoay thứ hai $U$:"
   ]
  },
  {
   "cell_type": "code",
   "execution_count": 131,
   "metadata": {},
   "outputs": [
    {
     "data": {
      "image/png": "iVBORw0KGgoAAAANSUhEUgAAAYQAAAD8CAYAAAB3u9PLAAAABHNCSVQICAgIfAhkiAAAAAlwSFlzAAALEgAACxIB0t1+/AAAADh0RVh0U29mdHdhcmUAbWF0cGxvdGxpYiB2ZXJzaW9uMy4yLjEsIGh0dHA6Ly9tYXRwbG90bGliLm9yZy+j8jraAAAgAElEQVR4nO3deXxb5Z3v8c8jyZbXbLazOgkJZCEJWwgBCnSSshQoBQotBe4F2qE3bblt72XaS6ELM+ROW5YutDOFNtOhpb1AoNNSUkoLhcYsZc1CIBACTiDEWXBix3bkTZb03D+eo1i25dixji3Z+b5fL70kS0c6Px9bz++c3/Oc5xhrLSIiIoFsByAiIrlBCUFERAAlBBER8SghiIgIoIQgIiIeJQQREQF8SgjGmHuMMbXGmI29vL7EGNNojHnVu93sx3pFRMQ/IZ8+51fAvwO/Psgyz1prL/BpfSIi4jNfjhCstc8A9X58loiIZIdfRwj9caoxZgOwE/iatfaNdAsZY5YBywAKCgpOnDZt2hCGeOgSiQSBQO53xShOfylOfylO/7z99tt7rbUVA3qztdaXG3AEsLGX10YBJd7j84F3+vOZs2fPtrlu9erV2Q6hXxSnvxSnvxSnf4A1doDt+JCkOmttk7U24j1+DMgzxpQPxbpFRKR/hiQhGGMmGmOM93ixt966oVi3iIj0jy99CMaYB4AlQLkxpgb4ZyAPwFr7M+CTwBeNMTGgFbjcO7QREZEc4UtCsNZe0cfr/44blioiIjkqt7vLRURkyCghiIgIoIQgIiIeJQQREQGUEERExKOEICIigBKCiIh4lBBERARQQhAREY8SgoiIAEoIIiLiUUIQERFACUFERDxKCCIiAighiIiIRwlBREQAJQQREfEoIYiICKCEICIiHiUEEREBlBBERMSjhCAiIoASgoiIeJQQREQEUEIQERGPEoKIiABKCCIi4vElIRhj7jHG1BpjNvbyujHG/MQYU22Mec0Ys9CP9YqIiH/8OkL4FXDuQV4/D5jl3ZYBd/u0XhER8YkvCcFa+wxQf5BFLgJ+bZ0XgTHGmEl+rFtERPwRGqL1TAG2p/xc4z23a4jWL+KP5mZYuxbq6+H//b9sR9O3oqLcj3Pq1GxHIJ6hSgj9ZoxZhisrUVFRQVVVVXYD6kMkEsn5GEFxZsxaaGtzCQGIhEJUlZRkOai+RSA340wkIBaD/Hzo6CDS1pabf/ducvb/0ydDlRB2AKm7AZXecz1Ya1cAKwDmzJljlyxZMujBZaKqqopcjxEU54BZC++/D88+C/v3w4QJkJdHVSLBkkDuD9LLuThjMfjgAygshNNPhxkzIBDIvb97L4ZLnAM1VAlhFfAlY8xK4GSg0VqrcpHktro6+PvfXUIoL4fKymxHNHxZC3v2uISweDEsWOCODiSn+JIQjDEPAEuAcmNMDfDPQB6AtfZnwGPA+UA10AJ81o/1igyK1lZYtw42bHA1+OnTsx3R8NbUBA0NMGeOSwajRmU7IumFLwnBWntFH69b4H/6sS6RQROPw+bN8PzzrsY9eTIEg9mOavhqa4PaWqiogEsvhYkTsx2R9CHnOpVFsmLHDnjmGdi3D8aPh3A42xENX/E47N7tSkJnnw1HHQW51I8hvVJCkMNbQwO88AJs2QLjxmkIZCashb17ob0dFi6E446DgoJsRyWHQAlBDk9tba6PYP16tyc7bRoYk+2ohq9IxJ2bMXMmnHoqjBmT7YhkAJQQ5PCSSEB1tRs9FI26urb6CQYuGnXDSMeMgYsugilTlFiHMSUEOXzs3u3OJ6itdf0EKmcMXDzutqMx8OEPw9y5EFJzMtzpLygj3/798NJLbgTR6NGuPCQDV1fnztg+/ng44QQ3NFdGBCUEGbmiUdi4EV5+GfLyXIexyhkD19zsOo2nTYOPfxzKyrIdkfhMCUFGnkQC3n0XnnvOnWQ2frxLCDIwHR2un6CkBC64wJ2op8Q6IikhyMiyZ4/rMN650+3BjhuX7YiGr0TCbc9Ewo0cmj9fiXWEU0KQkaG5GdasgTfecHuyOp8gMw0NbsqJefPgpJPcNpURTwlBhrdYDN58E1580ZUxpkzRWbGZaG11/QQTJ8JHP+rKbXLYUEKQ4amXaallgGIxN4w0HIZzznEnmCmxHnaUEGT4qa93E9Bt2+b6CDQt9cAlp6Xu6HCloWOO0bTUhzElBBk+WlvdVBOvvurGvut8gswkp6WePRtOPlnTUosSggwDmpbaX+3tbhhpRQVccglMmpTtiCRHKCFIbtuxw/UT1NW5fgJNS33onnsOfvIT9zged+WhoqLOcwm+/334wheyF5/kDCUEyU2NjW7kUHU1jB2r8lAmTjvNzTXU1ubKRLfe6q77INKNhhFIbrEWXnkF7r/fHR1MnQqlpdmOaviKx91orAkT4PLL3fkaJ5yQ7agkR+kIQXJDIuEuUlNfD2+/7cbBD8bsmS+8AN/7Hvz3/w6XXdbz9eZmuPJKd3GX5csP/fNffx2++c2DL7Nq1aF/bqr774eVK+H2292efzqtrfCVr3BGYyM8/bQbQWSMu1b0woWZrb+7ffvghz+EP/7RHdHF465/Yt4810exbJm/65NBo4Qg2bd7t6tz19a6Ds7JkwdvXVu2uPtZs3p/3Vo48siBff748a4+H43CP/4jFBcP7HMOZvp0d79tW8+EkEi4DuO//Q0++IBt117LzMWLO19ftw7+23/zL5Y33nCXyWxocIn02mtd4nnnHXjkEXj8cSWEYUQJQbJn/343E+lbb7lpqadOdQ3aYEomhN4a/OTrRx01sM+fMAFuugluucUlueXL/R/Xn0wI77/f9fn6eneEc8QR8MQTMGMGNZddxszk67t2uZtfRwjWuqOs5mb3d1ywoOvrP/qRS07DQSLhTs47zM/BUB+CDL2ODnc+wf33u1lJKytdQhgKW7e6vfjextxXV7v7gR4hgCs3ffnLsGmTG8Hjd5KbNMk1XNu2uZ9bWlxyGDPGNdB/+Ysr4/zgByRSG7h169ycRLNn+xPHa6+5aUPOOadnMgB3pnP3Ia0bNrgrq40e7f4GF18Mu3Zx+vnnuz6OVGeemX4wwfvvu6OQW27pfK6+Hm6+GU45xZWriorc0dNtt/Xc/l//unv/W2/BV77ipjsJhWDt2s5ltm2D666DGTPchZSOOgq+8Q0C7e2Hto2GGR0hyNCxFt57zw0jbW4e+ukm6upcQ3nqqb0vs2WLazQnTsxsXUuXukbq3nthxQp/h3UGg+5oats2qKlxZamPfcwdOWzeDHffDWedBZ/4BFRVdb5v3Tp3URu/pq6ORNz9li0uKfV1oZynnuqcPvtb34LCQvjVr+C88wi1trrYUq1bB0uW9PycZMOd2jn+17/Cb3/rtsM117iS3YMPwo03ut/3hhs6l12/3q37wgtdcrzpJjf6KpnUXnrJzeM0ejR89rOuhPnKK3D77cxJvjZCKSHI0Ni715VQduyA8nI3lHSobd3q7nvb+29udiWVY49N/3o87l4Ph/t3cZhLL3W/95/+5KbYSNeJ3dvnV1T0vlwi4ZLpli1uL/j00zsT61e/6u7vvLPn+w6lQzkWc0dLBzsjfOFCN+fR+vVuL/vcc+EjH3H33Web3bMHPv1p954nn3QNMsBVV7m9cOiaELZudf0SJ57Yc73pEsIFF7jPT3XddW77rFrVMyG0tsLnPtf1eXA7DR//uIvz0Uc7k9yyZTBuHBNuv91NrT6Y/VxZpJKRDK7mZnjmGbe31tTkGpdsXXIxWQ7qq0N55sz0r+/b5xqZH/2o/+tMftbOnX0v25/Pb2hwRwWpSSuZDJ54Ah57zH3G/Pk93/vww/DjH/cv7t274eij4eqre1+msNCN2rrhBpfgV650Def06XD++S75J912m/v9fvnLzmQAbi88maRSE0Ky0e8tIZSVdU06yc57a93/2d697lyW8ePdmdlJNTXutdNO65kMAL77XbeNf/hDd9Szd2/nLXkE8c47vW+TYU4JQQZHLOaGYN5/vytjVFZm56ggVV9HCJl2KHe3bZsrF02dmnnJqLXV1c6LiuCTn3TDOcFdIhTc0cU//ZM7+kqtrQ+28eNdY791q7vddZfbK//zn+F//I/O5VauhDPO6LX/Ijp2bNcy3bp17r63hNC9vPTQQ668VFzskkxFhbu9+GLXHYD16919ukRnLTzwgOvjOuGEzs9I3pLvGTPm4NtkGFPJSPxlLWzf7voJmppcg5ErIzeSs6P21qGcbFznzUv/enl55zkEfXUUt7W5hhJcJ2ZBQd/xpX5+UizmRuokp6U+8kjXWXvMMV1jXrHCDQH92c/8abAqK93f8lDMmAFf/KIrlU2Y4I4MwR1t7NjRs6QDbju+/jqRo46iy7Xt1q1zMXS/HkN1tSs/pZaLbrgB7rjDHZX84AcuARcUuAT/hS90XTaZaD7ykZ6x1Na6kt3VV7tSVhobNmzguN7+P0YAJQTxT329KyG8915uTku9f3/vcyHV17u9x1mz/Ll4/F13ufLEl788sGk3ktNSR6OwaJErEaXGPnGi22vduNGVRm6+2e01p+6VZ0t+vktayZFjzc3uPl1n9iOPQG0tkTPP7JoQ3nwzfWK+7z53n2zka2rcSK4rr+x8LSnZoZ7ab7J+vYsr3VFiY6O7r6x0nfJp7AuFRvR1N3wpGRljzjXGbDbGVBtjbkzz+meMMXuMMa96t8/5sV7JEW1tLhGsXOkasWnTcvOSi5Mnu4Z/8+auz7e2wr/9m9sbT7cXe6ieeMI1RkuXupO2DlVTkysPVVa6hu6kk9InsmOOcUcFy5e7GvdPfjJ0F7V57jkXZzrLl7s9/+QJcFOnupFRTz/ddblt21zCBCLdy3TNzZ2JJOmFF9w8TNCZELZvd8mz+wl6zz7rEgX0TAgLF6ZPTpWVbjs//LD7n+5u715XmhvBMj5CMMYEgZ8CZwM1wCvGmFXW2je7LfqgtfZLma5Pckg87qaZeP5515jm+rTUl18O3/mO25teutSVNfbudfHX1cGnPgWpZ/UOxO7drnyTn+86ZVev7rnM8cen709pb3dli3HjXB9BXyNZjjnGnZH84x+73+2MMzKL/VDcfLO7hvVFF3Vec3nHDvjd79y5Bh/9aGdfRn6+K8P88pdu+Y99zDXk//Ef7m+wY0fPhHDKKa4f4tpr3Xkdr77qRmvNmuVKQXPmuOUWLHDbK3m+x/jx7iS5p55yz4fDndu6vt4l2t5GexUVufMS7rjDJY2rrnJHYTt2uHMuXnyx51HICONHyWgxUG2t3QpgjFkJXAR0Twgykuzc6WrE9fXuSzgcpqU+6SQ3/89DD7mx5g0NbuK8uXNdQ+DHpG/JMg+4slE63/lO14QQj7t+glDIJarZs/uXWJP9COGw+72G0vXXwx/+4BrJxx5zRwvjxrmG9OtfdwkqdS/8Jz9xpZZHHnFJ7NRT3Z748uVQXU1L9/Li3XfD5z/vRqc9+qjrH1izBs47z/3eySOh0lL3+vXXuz6bMWPcsNEXXnB/19RzTpIdygcbenvrrS7J3HWXSzKtrS5pLVyYfijvCGPsoXYcdf8AYz4JnGut/Zz381XAyalHA8aYzwDfA/YAbwPXW2u39/J5y4BlABUVFSc+9NBDGcU32CKRCCW5WB7pxrc443F3KN/e7hotn48IIkDub00f44zF3J5tUVHXaxT4JNf/P0+57DKi5eU8c/vtOR1nUq5vT4ClS5eutdYuGsh7h6pT+Y/AA9badmPM54F7gTTd/GCtXQGsAJgzZ45dku5MxRxSVVVFrscIPsTZ3u4Om9escSWAigrfGy+AqkSCJcPg4u4ZxxmJuDLVEUfAhz7k9q4HQU7/fzY0wJ49FFxyCSUlJbkbZ4qc3p4+8CMh7ABST0us9J47wFpbl/LjL4AhPr6VAUtOS/3ccy4pDNa01IeLaNT1E4wa5aZOmDp1UBLrsPD66+6++zkFkjV+fLNfAWYZY2bgEsHlwJWpCxhjJllrd3k/Xghs8mG9Mtg++MAlgt273RFBeXm2Ixq+EgmXCMBNNXH00UqsqQkh3ageGXIZ/0daa2PGmC8BjwNB4B5r7RvGmOXAGmvtKuArxpgLgRhQD3wm0/XKIIpE3GReb77p9mR1+crM7NvnzoE45hh35u1gXCNhOLruOneDrpPwSdb4sotirX0MeKzbczenPL4JuMmPdckg6uhw49pfftmN4qisHLpx7SNRci6cKVPc6JiDTVgnkgMO82NWAdyJPdu2uWGk2ZiWeqTp6HDltqIiN1zyiCMO334CGVaUEA53e/fC3//upgDI1rTUI0Ui4c5DiMfdiVULFiixyrCihHC4amlxE3299pqraaufIDONje42d64727m0NNsRiRwyJYTDTSzmLh344otujzbXp5vIdW1t7qhg/Hg3IVqmV1oTySIlhMNJclrq5IVDcmVa6uHIWjd9R36+m8AuOS21yDCmhHA42LfPzTXzyCNuaudcm5Z6OLHW9buUlrr5bbpPSy0yjCkhjGRtbW6WyPXr3RHBtGka7ZKJ/ftdcj3ySNdZfNJJ2Y5IxFdKCCNRPO6u+/r8824I5KRJLhEoGQxMe7sbRlpWBhdf7M4r0IlUMgIpIYw0u3a5foI9e9z5BMlyRl+XfJSektNSB4NuWuo5c9QBLyOaEsJI0dTk5vh/+203J7yGkWamrs7NhX/cce46CYWF2Y5IZNApIQx30aibJOyVV9yIl8N59kw/NDe7ZDB9+qBOSy2Si5QQhqtEArZu7ZyWesIEzZ6ZieR0E6WlcMEF6oCXw5JakOGottYlgl273IRpZWXZjmj4Sk5Lba07Ipg/X4lVDlv6zx9OUqelLi1VP0Gm9u1z23T+fFi0KGempY4nLAYIBHSEIkNLCWE40LTU/kpOSz158pBPSx2LJ+iIW6LxxIHHHfEEHfEEsYQlGktgrfvzjivOZ1xxPuGQRjbJ0FBCyGXJaamffdbtyWpa6szEYq6foLAQzj0XZszwLbFaa+mIW2KJBB0xS0fCa+S9xj/52Nr+fV4iAXv3R9m7P8qowhBlJWFKwvq6yuDSf1iuqqtz01Jv367pJjJlrTsvo6PDzUS6YMEhzeOUSCQbeEssnvAaeMu2uuYDe/ixeD9b+gFoao3R1BqjIC9AWUmYMYV5KifJoFBCyDUtLW6qiVdf1bTUfkhOSz1njksGo0Z1eTmeSCnZeI17NOVxR9wST/Rs7GOJBE2tsaH6LQBo60iwY18ruxvbKCtx5aS8oEqH4h8lhFwRj8OmTZ3TUk+ZorNiM9HWRnz3B8TKKoh+7EKi5eNdjb6+hZiXBJL1+uEmnrDUNrWzZ387owvzKCvJpyhfX2XJnP6LckFNjbt8ZUOD6yfQtNQHZa0llrAkEu4+nnC1+3gCYh0dmA8+IBbMo/mkU4keMdP1EzS0ZTts31kLDS0dNLR0UJgfpLwkn9GFeRidPyEDpISQTQ0N8MIL7gSzsWPdWcZCRzzuGvdkIx9PeI2+a/zTlXCwluC+egLRdlrnH0fbvAXYgoKhDz5LWqNxtte3sivYRpk3OimkcpIcIiWEbGhrgw0b3CUsw+HDZroJ15gn0uzde/dxS7Q0nx1N7Yf0uYFIhGBjA9HpR9Cy8CQSo8cM0m+Q+2JxywdN7dR65aThWBKT7FFCGEqJBFRXu7OMo1E3LfUI6SeIxxPEvVJOLG7dY+/eNfb+1+tNR5TQnj3ER4+h6aMfIzZpsr8ryLInHg3x7a8WAWAT0NZmKCzq3Ihf/VYbl10VTfveZDmpLRZny54I5SVhRhWEVE6Sg1JCGCq7d7vzCWpr3cVqhkk5w9rOMk1qySaWUrePJ4a4czaRILS3FhsI0nzKabQfOWtETjdxzgUxzrmgCYC//SXEt79WxN83Nh3y57S0x3m/vYW8kKGsOMy44nyCGrYqaYy8b1GuaWpyZxhv3gyjR+fUMFLXOZvoUa9PJKAjkSDhJYNcKjsE99VjWltpm7eAtgXHYguLsh3SkNi0Mcjc+fGMPqMjZtnd2MYHTW2MLc6nrDifgryRcYQq/lBCGCzRKGzc6OYeCoWGvJ8gkdyDt145JxSgrqW9S70+kUstfR9MSwuh+jo6KqfScvbJxMf6Py31Ky8EufaykoMu89r2xgF//k9/EObndxbwmz9EOO7E9I17LAaXnl3C7p0BHqnaz8RJ7m+0aWOQoxdklhCSrIX6SJT3aqKs/GUhTz+Zx9YthnjczeIxbx5ccgksW+bL6mQYUULwWyIB777r+glaWwdlWurUen28W+dswhtj372tj48Ks79taE+k8kVHB3l79hAvLWH/2efSMWXwEuvkygQlpZb2dlefHzXa34Q5a65r0N/ZHOg1Iay8N593q4N86f+0HUgGAJteD3L+xR2+xVK9OcDnryxmf5PhvIs7uPCyBCUFQXZuC7FqleHxx5UQDke+tFTGmHOBHwNB4BfW2lu7vR4Gfg2cCNQBn7bWvufHunPKnj0uEezcCeXlh3xxlYPV693onCzU67MlkSBUtwcSluZFi2mfPXfQ53GaMtXywxXNXHd1MY//MY8V9zcT9rGrZ9ZcdxnT6s1BoGfj3rjP8LMfhZkyLcE1yzpHWu35wLCnNsDRx/h3hPB/riuitdVw3x8jB+ICd8rGDf+ST6w5H/d1zm2JhDuq0qk7/sh4oLIxJgj8FDgPmAdcYYyZ122xa4F91tqjgB8Bt2W63pzS3AxPPw2//S3s3+/6CYq61rbd5GcJ2jriNLfHaGztoL65nT1N7exsaKVmXwvv17dQs6+VXY1t7NnfTn1zlMbWDprbY7R1JAZlpE4uCjQ2kLdrF9EZR9L4iU/RPv+YIZvU75TT4yz/fiuvrgly45eLfL0U9bQjEoTD1ksIPd39ozBNjQG+9q3WLolo08YgRcWWI2b6E8zbmwJseTvIqR+OdUkG4BrYfS1R9psI2+qaibR3HlVu2AAXXeS6wkaNgosvdpfkKC2Fyy/v/Iwzz0zfVfb+++7g7pZbOp+rr4ebb4brrltIRYX72sydC7fd1vMy4F//unv/W2/BV77iTuYPhWDt2s5ltm2D665z8xYWFMBRR8E3vuEO1qVvfhwhLAaqrbVbAYwxK4GLgDdTlrkI+Bfv8X8B/26MMdaOgOatrY3EvfcSr6snXlZGfH8z8aYI8bh1I3C8vf5EupOpuhnM/TFTNJHQntpBXIM/TMEEEsUlRJacRbx86KalTnXBJR3U7jbc+b1Cbr25gG/8qz9nOQeDMHN2gurNPffD3q0O8NBv8jnljA7OPK9raW/T60HmzIv7VilraXYftH1bgNbW3i8XnTqp3sZXCrjyUyGmTzd861vuPb/6lZs9PBKB44/vfN+6dbBkSc/PSzbcJ5zQ+dxf/+r2o449tpElS0YRjcKDD8KNN7rG/4YbOpddv96t98ILYfZsuOkmN2ZjwQL3+ksvwUc/6hLWZz/rZjd/5RW4/XZ47z24//6BbrHDhx8JYQqwPeXnGuDk3pax1saMMY1AGbC3+4cZY5YBywAqKiqoqqryIcTBsz8a5W/TphOvzJ3RQ+m02zhvzJ2Z7TD61G4TbCorhz3b3C1LzlkKW96czcp7pxIObOfTV3SNpaOthZpNawCIxw07dxQSLogzfvzBT6qbMuloNr0+mTde3MDo0Z1lo3/91nFYW8w1V62lZlNzl/ese+EYpk5pp2bT233G3T2W1DiTRuUFmDjpZN7aWMSZC4s4cVEdxx2/jxMX1VGRJv7Ghjw+/7lTmDmzkdvv2EBRkbuAz7/8S5ArrzwFyCMQeI2qqnp27iygoeEUxo17l6qqrtvs97+fAUynre0FqqrcekaNCnD33QkikQglJVsAmD/fcM01i/nNb6IsXrz+wPtffvlDtLbms3TpFq64orPJWbsWGhtDfOYzi5k5s5nvfvd1Cgrc4cXs2RCJzOSBB6ZxySXPU16e/ryN/opEIjnfJmUi5zqVrbUrgBUAc+bMsUvS7WrkkKqqKpYsWUIiYdnXEqWuOUp7h491Bp/UbFrD5KMXZTuMPtVsWkNljsS56PQ8/vgI7Ns/jcqjux6tpMa5e5fh8+eNYtEpMe75bXO6jzrg+JPzefIJaE4sZP7Rrk/g+adDvPJyMVf+YzunnXd0j/f8/EGAMND3dukeS2/b84HHYvx6RTtP/CmPp6sm8nTVRIyxnLYkxj/f1sqElA7tlf+3gEgkj1vvDjJt5vEYA6MK3KR6ixeHeOopuPrqY5k40e3tA3zykzNYsmRGl3Xedpubyf2yy07tEc/q1VUsXLiEqNdeT5sGsVghye9/TY2btPa00+DnPz8SOLLL+7/6VVe5veeefCorP9zltfPPh5UroaLiQ/zDP/S5CQ8q+X0fqfxICDuA1El4Kr3n0i1TY4wJAaNxncsjRiBgKCsJU1YSZn9bB3WR6PAc1SMAvPNWgO/dXMjMWXG+8R3/CtCpHcuLPxQnHoc7lhcwdlyC6/5p6CbgKyu3XP+NNq7/Rhs17xv+XpXHA7/K57nVedzydbjr1y0Hlv3LqjwWLo4f6MOwFhpbO2hs7aA1Wsz48UEmTAAwrFvn3nPiiT3XuXZt19ISwEMPwV13wYsvnkF7t4OTK67ofLzeO1C4+uqen2stPPCAu9xFajmquzGH74wm/eZHQngFmGWMmYFr+C8Hruy2zCrgGuAF4JPA30ZE/0EvSgvyKC3Io60jTn1zlPrm6GHRGTxStLTA177oBgV8/+6W7uMDepg4yfb7/ITk0NNkP8J/3ZfPlreDfPt7rYwaPfCYBxJLUuU0y6evjnLW+R0sPWEUa1/qbBb21hpqdwc49+M9R0UlEvDWpgBz58d4a3crZcX5rF0bprLSMH5812Wrq90gvNQG+4Yb4I473B78F7+4hTPPnE1BAWzZAl/4Qtdlk4nmIx/pGX9trevcvvpquOqq3n/Ped2HukgPGScEr0/gS8DjuH7Re6y1bxhjlgNrrLWrgP8EfmOMqQbqcUljxCvICzJ5TCETRhUcSAzRWO6Vk6Srf72pkHerg9xyRwtHzfH371U+3jK2LEH15iD7m+CuH4SZOz/OpVdmVtv2Q16eJRCwlJZ27r20tng92Uu594gAABBWSURBVGk6tFc/HqJ+b4C586MHJtV7bWM+c+YmaI1CYX7nMIn77nP3yUa+pga+/3248kr3WlXVTpYsmQ1AskS/cGHnutavd53FR3atFAGulATuooJnnTWQ31ySfOlDsNY+BjzW7bmbUx63AZ/yY13DUTBgqCgNU16ST1NbjLpIO83t/owpF3/97oE8Hv19PhdcGuUTl/t3IliqWXMTbHo9yM/vLGBffYAfroj4dWnnPq17Ocjso+OUlPZ87ed3FpBIGM7/RGdymjg5QTBoWfti1zFwO2sM37vZDU+aM68zaba2wP6Ipbq2maJwkPLiMG+8GuLWW11GSSaE7dtdqWfu3K4xPPusSxTQMyEsXJj+nMTKSjdp8MMPw7e/3XOasL173ezyI2QeyUGVc53KI5kxhtGFeYwudOWkvZF2Glo6VE7KETXvG267uZBw2HLCojiP/r7nuQ+nnhGjrCKzP9isuXFe/nuI++7J59wLo5x48tDtHPz0BwW8+VqQped0MP+4OEVFltrdAZ78cx6b3wzyoX/o6NKXkZcPH7+0gz88lM9X/rGID5/Zwe6dAX73QD5l5Zba3XSZY+nYhXGeW53HP3+tkNnz4mx+w/Ls3ywzjrRse9cwZ45r0RcscOdtfv/7rvTU0DCZe++Fp55yz4fDrhEHd67C++/DZZel/52Kitx5CXfc4ZLGVVe5KTh27IDXXnMXIdzRvVdT0lJCyJKCvCCVY4uYOCpBfUuUukh0UC/ULn3btSNAW5trsP7vTekH5//nQxHKKjJrwJP9CHn58E/fHNoruV31uXZWP57Ha+uDPPu3EM0Rw6gxlqMXxPnsF9s576KOHnvhNy5vJZRnWf1EHi8/H+K4hTHu/I8WfnZnmPffCzA95YS5b323leU3wl/+mMfTT4U4Y2mMB/4U4YtXFXPUnAQ7G6OUl4QpLQ3y6KNw/fVu9FFR0XQuvdRdL2ruXDg1ZSBSskM59Yihu1tvdUnmrrtckknOGrNwIdx5p48bcIQzudy3O2fOHLt58+Zsh3FQfg1Ds9bS1Bpjb3M7LYNQTsql4ZwHozj9NZhxnr24lPETE9y36uBDbdMpDgcpLw0zqsAdhQ2X4ZzDIU5jzFpr7YD+6DpCyBHGGEYX5TG6KI/WqCsnNbaqnCS5qakRPtgV4MNnDqyfpbk9TnN7C/mhAGUlmogoV+iiqzmoMD/I1HFFzJlYyvhRYV3MRHLOO2+5HtrUDuWBiMYS7Gpoo60jzs6GVtpjGmyRTTpCyGF5wQATRhUwvjRMQ0sHdc3ttEY1bFWy70BCyPCiPUkWqIu4vrTSghBlJfmUFgzNhIbSSQlhGDDGMLY4n7HF+TS3x6iLRGlqUzlJsufya6Jcfs3gnDuxvy3G/rYY4bwAZcX5jC3KJ6Cj5CGhhDDMFIdDFIdDRGMJ6puj1DW3+zpFs0iuaO9IsLOhjd1NbYwrzqesOEx+SFXuwaSEMEzlhwJMHO2Vk1o72Btpz8lJ9UQylUjA3v1R9u6PMrrQTapXHFbTNRi0VYe5QMAwrjifccX5mlRPRrzkpHqF+QHKisOMLsxTOclHSggjSHJSvfZYnLpIlH0tUZWTZEQwBkJBQygQID8YIC9kiCUsLR1xSnS04BttyREoHOqcVG+fdxa0SK4yBgLGUBwOkhcMkBcMEAoa77G7DwUMxq9LxkmvlBBGsGDAUF4SprwkzI5NAUoKQkRUTpIhFAhAfjBAKKVxTzb4+V5DHwoG2PtOgJkVJdkO97CnhHCYCBjDjPJi2jri1DVH2adrNEiGggFDfsiVcfJCAfICXoMfcg19fjCg+v4wo4RwmCnICzJlTCETSsPUt7hrNHTElBmkU/d6fY/yjbd3rxLOyKOEcJgKBQOMLy2goiQ8qJPqSW4xhi6Nu+r1kkoJ4TCnSfVGjkCAzkY+YMgPBagNBpheXtSlXi/SGyUEOSA5qd7EeIJ9zVHqmnWNhlzRW70+lLKnn24SxE0Bc2CKaZG+KCFID3nBAONHFVBRGqbROwtak+oNnu4lm+71+ryAOmdlaCghSK+MMYwpymdMUT4t0Rh792tSvUORrNcfGGKZbPAD7sQq1esl1yghSL8U5YeYVtY5qV59c5R44vDNDAYI53Wt14cCxivnuD181etluFFCkEPSfVK9ukg7bSNsUr1gwPQYYtm9Xl9XHWT2hNJshyriKyUEGZDUSfUi7THqIu00teb+WdC9jak/cCat6vVyGFNCkIyVhEOUhEO0x+IHyklDPale8mSqvGAgbb0+5JVxVK8X6Z0SgvgmHAoyaXQhE0q9SfWao75co8EYOmv0KaNwQl7jr3q9iD+UEMR3gYChrCRMWUmYJu8aDb1Nqte9Xv9BMMCUsYVdhmCmG18vIv5TQpBBNaogj1EFebR1xNnfFjuwN99bvb7a65sQkaGXUUIwxowDHgSOAN4DLrPW7kuzXBx43fvxfWvthZmsV4afgrwgBXnBbIchIgeRaeH1RuApa+0s4Cnv53RarbXHezclAxGRHJRpQrgIuNd7fC9wcYafJyIiWWJsBvMQGGMarLVjvMcG2Jf8udtyMeBVIAbcaq39w0E+cxmwDKCiouLEhx56aMDxDYVIJEJJSe5f6Ulx+ktx+ktx+mfp0qVrrbWLBvRma+1Bb8CTwMY0t4uAhm7L7uvlM6Z49zNxfQ1H9rVeay2zZ8+2uW716tXZDqFfFKe/FKe/FKd/gDW2H+1rulufncrW2rN6e80Y84ExZpK1dpcxZhJQ28tn7PDutxpjqoATgC39yFciIjJEMu1DWAVc4z2+Bnik+wLGmLHGmLD3uBw4DXgzw/WKiIjPMk0ItwJnG2PeAc7yfsYYs8gY8wtvmaOBNcaYDcBqXB+CEoKISI7J6DwEa20dcGaa59cAn/MePw8ck8l6RERk8GkCGBERAZQQRETEo4QgIiKAEoKIiHiUEEREBFBCEBERjxKCiIgASggiIuJRQhAREUAJQUREPEoIIiICKCGIiIhHCUFERAAlBBER8SghiIgIoIQgIiIeJQQREQGUEERExKOEICIigBKCiIh4lBBERARQQhAREY8SgoiIAEoIIiLiUUIQERFACUFERDxKCCIiAmSYEIwxnzLGvGGMSRhjFh1kuXONMZuNMdXGmBszWaeIiAyOTI8QNgKXAM/0toAxJgj8FDgPmAdcYYyZl+F6RUTEZ6FM3myt3QRgjDnYYouBamvtVm/ZlcBFwJuZrFtERPw1FH0IU4DtKT/XeM+JiEgO6fMIwRjzJDAxzUvftNY+4ndAxphlwDKAiooKqqqq/F6FryKRSM7HCIrTb4rTX4ozN/SZEKy1Z2W4jh3A1JSfK73nelvfCmAFwJw5c+ySJUsyXP3gqqqqItdjBMXpN8XpL8WZG4aiZPQKMMsYM8MYkw9cDqwagvWKiMghyHTY6SeMMTXAqcCfjDGPe89PNsY8BmCtjQFfAh4HNgEPWWvfyCxsERHxW6ajjB4GHk7z/E7g/JSfHwMey2RdIiIyuHSmsoiIAEoIIiLiUUIQERFACUFERDxKCCIiAighiIiIRwlBREQAJQQREfEoIYiICKCEICIiHiUEEREBlBBERMSjhCAiIoASgoiIeJQQREQEUEIQERGPEoKIiABKCCIi4lFCEBERQAlBREQ8SggiIgIoIYiIiEcJQUREACUEERHxKCGIiAighCAiIh4lBBERAZQQRETEk1FCMMZ8yhjzhjEmYYxZdJDl3jPGvG6MedUYsyaTdYqIyOAIZfj+jcAlwM/7sexSa+3eDNcnIiKDJKOEYK3dBGCM8ScaERHJmkyPEPrLAk8YYyzwc2vtit4WNMYsA5Z5P7YbYzYORYAZKAeGw5GP4vSX4vSX4vTPnIG+sc+EYIx5EpiY5qVvWmsf6ed6TrfW7jDGjAf+aox5y1r7TLoFvWSxwlv3Gmttr30TuWA4xAiK02+K01+K0z+Z9NP2mRCstWcN9MNTPmOHd19rjHkYWAykTQgiIpIdgz7s1BhTbIwpTT4GzsF1RouISA7JdNjpJ4wxNcCpwJ+MMY97z082xjzmLTYBeM4YswF4GfiTtfYv/VxFr30NOWQ4xAiK02+K01+K0z8DjtFYa/0MREREhimdqSwiIoASgoiIeHIqIRhjxhlj/mqMece7H9vLcnFvGoxXjTGrhii2c40xm40x1caYG9O8HjbGPOi9/pIx5oihiCtNHH3F+RljzJ6U7fe5LMR4jzGmtrdzTIzzE+93eM0Ys3CoY/Ti6CvOJcaYxpRtefNQx+jFMdUYs9oY86Y3lcz/SrNMVrdpP2PM+vY0xhQYY142xmzw4rwlzTJZ/673M85D/65ba3PmBtwO3Og9vhG4rZflIkMcVxDYAswE8oENwLxuy1wH/Mx7fDnwYBa2X3/i/Azw71n+O38YWAhs7OX184E/AwY4BXgpR+NcAjyazW3pxTEJWOg9LgXeTvN3z+o27WeMWd+e3vYp8R7nAS8Bp3RbJhe+6/2J85C/6zl1hABcBNzrPb4XuDiLsaRaDFRba7daa6PASlysqVJj/y/gTDP0c3r0J86ss+6kxPqDLHIR8GvrvAiMMcZMGproOvUjzpxgrd1lrV3nPd4PbAKmdFssq9u0nzFmnbd9It6Ped6t+8ibrH/X+xnnIcu1hDDBWrvLe7wbN2Q1nQJjzBpjzIvGmKFIGlOA7Sk/19Dzn/nAMtbaGNAIlA1BbGlj8KSLE+BSr2zwX8aYqUMT2iHp7++RC071Dtv/bIyZn+1gvPLFCbg9xlQ5s00PEiPkwPY0xgSNMa8CtcBfrbW9bsssftf7Eycc4nd9yBOCMeZJY8zGNLcue7LWHfP0lvGmW3f6+JXAncaYIwc77hHkj8AR1tpjgb/Suacjh24d7n/xOODfgD9kMxhjTAnwO+B/W2ubshlLb/qIMSe2p7U2bq09HqgEFhtjFmQjjr70I85D/q4PeUKw1p5lrV2Q5vYI8EHyMNa7r+3lM5JTYWwFqnB7G4NpB5CaXSu959IuY4wJAaOBukGOq7s+47TW1llr270ffwGcOESxHYr+bO+ss9Y2JQ/brbWPAXnGmPJsxGKMycM1tPdZa3+fZpGsb9O+Ysyl7enF0ACsBs7t9lIufNcP6C3OgXzXc61ktAq4xnt8DdBj8jxjzFhjTNh7XA6cBrw5yHG9AswyxswwxuTjOpK6j25Kjf2TwN+8o5yh1Gec3erGF+JqublmFXC1NzLmFKAxpZSYM4wxE5O1Y2PMYtz3acgbBi+G/wQ2WWt/2MtiWd2m/YkxF7anMabCGDPGe1wInA281W2xrH/X+xPngL7rQ907frAbrg73FPAO8CQwznt+EfAL7/GHgNdxI2heB64dotjOx42M2IKb6RVgOXCh97gA+C1QjZuiY2aWtmFfcX4PeMPbfquBuVmI8QFgF9CBq2VfC3wB+IL3ugF+6v0OrwOLsrQt+4rzSynb8kXgQ1mK83RcefU14FXvdn4ubdN+xpj17QkcC6z34twI3Ow9n1Pf9X7GecjfdU1dISIiQO6VjEREJEuUEEREBFBCEBERjxKCiIgASggiIuJRQhAREUAJQUREPP8frG7GJHQ3tiEAAAAASUVORK5CYII=\n",
      "text/plain": [
       "<Figure size 432x288 with 1 Axes>"
      ]
     },
     "metadata": {
      "needs_background": "light"
     },
     "output_type": "display_data"
    }
   ],
   "source": [
    "plot_transformation(S.dot(V_T).dot(Square), U.dot(S).dot(V_T).dot(Square),\"$\\Sigma \\cdot V^T \\cdot Square$\", \"$U \\cdot \\Sigma \\cdot V^T \\cdot Square$\",\n",
    "                    axis=[-0.5, 3.5 , -1.5, 1.5])\n",
    "plt.show()"
   ]
  },
  {
   "cell_type": "markdown",
   "metadata": {},
   "source": [
    "Và chúng ta có thể thấy rằng kết quả thực sự là một ánh xạ cắt của hình vuông đơn vị ban đầu."
   ]
  },
  {
   "cell_type": "markdown",
   "metadata": {},
   "source": [
    "## Vector riêng và trị riêng\n",
    "Một **vector riêng** (**eigenvector**) của một ma trận vuông $M$ (còn được gọi là **characteristic vector**) là một vector khác không nằm trên cùng một dòng sau khi biến đổi bởi một phép biến đổi tuyến tính có liên quan đến $M$. Một định nghĩa \n",
    "An **eigenvector** of a square matrix $M$ (also called a **characteristic vector**) is a non-zero vector that remains on the same line after transformation by the linear transformation associated with $M$. Một định nghĩa chính thức hơn là bất kỳ vector nào $ v $ sao cho:\n",
    "\n",
    "$M \\cdot v = \\lambda \\times v$\n",
    "\n",
    "Trong đó $ \\lambda $ là một giá trị vô hướng được gọi là **trị riêng** (**eigenvalue**) được liên kết với vector $ v $.\n",
    "\n",
    "Ví dụ, bất kỳ vector ngang nào vẫn nằm ngang sau khi áp dụng ánh xạ cắt (như bạn có thể thấy trên hình trên), vì vậy nó là một vector riêng của $ M $. Một vector thẳng đứng kết thúc nghiêng về bên phải, vì vậy vector thẳng đứng *KHÔNG* là các vector riêng của $ M $.\n",
    "\n",
    "Nếu chúng ta nhìn vào ánh xạ bóp, chúng ta thấy rằng bất kỳ vector ngang hoặc dọc nào đều giữ nguyên hướng của nó (mặc dù độ dài của nó thay đổi), vì vậy tất cả các vector ngang và dọc đều là ký hiệu riêng của $ F_ {shear} $.\n",
    "\n",
    "Tuy nhiên, ma trận xoay hoàn toàn không có vector riêng (ngoại trừ nếu góc quay là 0° hoặc 180°, trong trường hợp đó tất cả các vector khác 0 đều là vector riêng).\n",
    "\n",
    "Hàm `eig` của NumPy trả về danh sách các vector riêng đơn vị và các giá trị riêng tương ứng của chúng cho bất kỳ ma trận vuông nào. Hãy cùng xem xét các vector riêng và giá trị riêng của ma trận ánh xạ nén $ F_ {squeeze} $:"
   ]
  },
  {
   "cell_type": "code",
   "execution_count": 132,
   "metadata": {},
   "outputs": [
    {
     "data": {
      "text/plain": [
       "array([1.4       , 0.71428571])"
      ]
     },
     "execution_count": 132,
     "metadata": {},
     "output_type": "execute_result"
    }
   ],
   "source": [
    "eigenvalues, eigenvectors = LA.eig(F_squeeze)\n",
    "eigenvalues # [λ0, λ1, …]"
   ]
  },
  {
   "cell_type": "code",
   "execution_count": 133,
   "metadata": {},
   "outputs": [
    {
     "data": {
      "text/plain": [
       "array([[1., 0.],\n",
       "       [0., 1.]])"
      ]
     },
     "execution_count": 133,
     "metadata": {},
     "output_type": "execute_result"
    }
   ],
   "source": [
    "eigenvectors # [v0, v1, …]"
   ]
  },
  {
   "cell_type": "markdown",
   "metadata": {},
   "source": [
    "Thật vậy, các vector ngang được giãn theo hệ số 1.4, và các vector dọc được co theo hệ số 1 / 1.4 = 0.714…, cho đến nay vẫn rất tốt. Hãy xem xét ma trận ánh xạ cắt $ F_ {shear} $:"
   ]
  },
  {
   "cell_type": "code",
   "execution_count": 134,
   "metadata": {},
   "outputs": [
    {
     "data": {
      "text/plain": [
       "array([1., 1.])"
      ]
     },
     "execution_count": 134,
     "metadata": {},
     "output_type": "execute_result"
    }
   ],
   "source": [
    "eigenvalues2, eigenvectors2 = LA.eig(F_shear)\n",
    "eigenvalues2 # [λ0, λ1, …]"
   ]
  },
  {
   "cell_type": "code",
   "execution_count": 135,
   "metadata": {},
   "outputs": [
    {
     "data": {
      "text/plain": [
       "array([[ 1.00000000e+00, -1.00000000e+00],\n",
       "       [ 0.00000000e+00,  1.48029737e-16]])"
      ]
     },
     "execution_count": 135,
     "metadata": {},
     "output_type": "execute_result"
    }
   ],
   "source": [
    "eigenvectors2 # [v0, v1, …]"
   ]
  },
  {
   "cell_type": "markdown",
   "metadata": {},
   "source": [
    "Chờ một chút. Chúng ta chỉ mong đợi một vector riêng đơn vị, không phải hai. Vector thứ hai gần như bằng với $\\begin{pmatrix}-1 \\\\ 0 \\end{pmatrix}$, nằm trên cùng hàng với vector đầu tiên $\\begin{pmatrix}1 \\\\ 0 \\end{pmatrix}$. Điều này do lỗi của dấu chấm động. Chúng ta có thể bỏ qua một cách an toàn các vector (gần như) đồng tuyến (tức là trên cùng một dòng)."
   ]
  },
  {
   "cell_type": "markdown",
   "metadata": {},
   "source": [
    "## Vết \n",
    "Vết (_trace_) của một ma trận vuông $M$, ký hiệu $tr(M)$ là tổng của các giá trị trên đường chéo chính của nó. Ví dụ:"
   ]
  },
  {
   "cell_type": "code",
   "execution_count": 136,
   "metadata": {},
   "outputs": [
    {
     "data": {
      "text/plain": [
       "123"
      ]
     },
     "execution_count": 136,
     "metadata": {},
     "output_type": "execute_result"
    }
   ],
   "source": [
    "D = np.array([\n",
    "        [100, 200, 300],\n",
    "        [ 10,  20,  30],\n",
    "        [  1,   2,   3],\n",
    "    ])\n",
    "np.trace(D)"
   ]
  },
  {
   "cell_type": "markdown",
   "metadata": {},
   "source": [
    "Vết không có một cách giải thích hình học nào đơn giản (nói chung), nhưng nó có một số tính chất có ích trong nhiều lĩnh vực:\n",
    "* $tr(A + B) = tr(A) + tr(B)$\n",
    "* $tr(A \\cdot B) = tr(B \\cdot A)$\n",
    "* $tr(A \\cdot B \\cdot \\cdots \\cdot Y \\cdot Z) = tr(Z \\cdot A \\cdot B \\cdot \\cdots \\cdot Y)$\n",
    "* $tr(A^T \\cdot B) = tr(A \\cdot B^T) = tr(B^T \\cdot A) = tr(B \\cdot A^T) = \\sum_{i,j}X_{i,j} \\times Y_{i,j}$\n",
    "* …\n",
    "\n",
    "Tuy nhiên, nó có một giải thích hình học hữu ích trong trường hợp ma trận chiếu (chẳng hạn như $ F_ {project} $ mà chúng ta đã thảo luận trước đó): nó tương ứng với số chiều sau khi chiếu."
   ]
  },
  {
   "cell_type": "code",
   "execution_count": 137,
   "metadata": {},
   "outputs": [
    {
     "data": {
      "text/plain": [
       "1"
      ]
     },
     "execution_count": 137,
     "metadata": {},
     "output_type": "execute_result"
    }
   ],
   "source": [
    "np.trace(F_project)"
   ]
  },
  {
   "cell_type": "markdown",
   "metadata": {},
   "source": [
    "# Tiếp theo là gì?\n",
    "Notebook này kết thúc phần giới thiệu về Đại số tuyến tính. Mặc dù những điều cơ bản này bao gồm hầu hết những gì bạn cần biết về Học máy, nhưng nếu bạn muốn đi sâu hơn vào chủ đề này, có rất nhiều lựa chọn có sẵn: [Sách] Đại số tuyến tính (http://linear.axler.net/), [Khan Academy](https://www.khanacademy.org/math/linear-algebra), hoặc chỉ các trang [Wikipedia](https://en.wikipedia.org/wiki/Linear_algebra)."
   ]
  },
  {
   "cell_type": "code",
   "execution_count": null,
   "metadata": {},
   "outputs": [],
   "source": []
  }
 ],
 "metadata": {
  "kernelspec": {
   "display_name": "Python 3",
   "language": "python",
   "name": "python3"
  },
  "language_info": {
   "codemirror_mode": {
    "name": "ipython",
    "version": 3
   },
   "file_extension": ".py",
   "mimetype": "text/x-python",
   "name": "python",
   "nbconvert_exporter": "python",
   "pygments_lexer": "ipython3",
   "version": "3.7.3"
  },
  "toc": {
   "toc_cell": false,
   "toc_number_sections": true,
   "toc_threshold": 6,
   "toc_window_display": false
  }
 },
 "nbformat": 4,
 "nbformat_minor": 4
}
{"mode":"full","isActive":false}
